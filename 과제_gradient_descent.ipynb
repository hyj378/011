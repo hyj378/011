{
  "nbformat": 4,
  "nbformat_minor": 0,
  "metadata": {
    "colab": {
      "name": "과제_gradient_descent",
      "version": "0.3.2",
      "provenance": [],
      "collapsed_sections": [],
      "include_colab_link": true
    },
    "kernelspec": {
      "name": "python3",
      "display_name": "Python 3"
    }
  },
  "cells": [
    {
      "cell_type": "markdown",
      "metadata": {
        "id": "view-in-github",
        "colab_type": "text"
      },
      "source": [
        "<a href=\"https://colab.research.google.com/github/hyj378/main-repository/blob/master/%EA%B3%BC%EC%A0%9C_gradient_descent.ipynb\" target=\"_parent\"><img src=\"https://colab.research.google.com/assets/colab-badge.svg\" alt=\"Open In Colab\"/></a>"
      ]
    },
    {
      "metadata": {
        "id": "kU4WlkVt15Xa",
        "colab_type": "code",
        "colab": {}
      },
      "cell_type": "code",
      "source": [
        "import tensorflow as tf\n",
        "import numpy as np\n",
        "import os  "
      ],
      "execution_count": 0,
      "outputs": []
    },
    {
      "metadata": {
        "id": "l72n6rIS3XLo",
        "colab_type": "code",
        "colab": {}
      },
      "cell_type": "code",
      "source": [
        "\n",
        "def gradient_descent(points, starting_b, starting_w, learning_rate, num_interation):\n",
        "  x_data = points[:,[0]]\n",
        "  y_data = points[:,[-1]]\n",
        "  \n",
        "  dw = 0\n",
        "  db = 0\n",
        "  n = points.shape[0]\n",
        "  \n",
        "  for point in points:\n",
        "    X = point[0]\n",
        "    Y = point[1]\n",
        "    \n",
        "    dw += - (2 / n) * X * (Y - starting_w * X - starting_b)\n",
        "    db += - (2 / n) * (Y - starting_w * X - starting_b)\n",
        "\n",
        "  starting_w = starting_w -learning_rate * dw\n",
        "  starting_b = starting_b - learning_rate * db\n",
        "  \n",
        "  return [starting_b,starting_w]"
      ],
      "execution_count": 0,
      "outputs": []
    },
    {
      "metadata": {
        "id": "DUUyDksAq-t7",
        "colab_type": "code",
        "outputId": "937b4d9b-4641-495c-dfc8-c5f6518cf9df",
        "colab": {
          "base_uri": "https://localhost:8080/",
          "height": 140
        }
      },
      "cell_type": "code",
      "source": [
        "\n",
        "# 학습 데이터 다운로드\n",
        "# 자전거 이동거리에 따른 칼로리 소모 데이터\n",
        "if os.path.exists('20190407_data.csv')==False:\n",
        "    print('Train data downloading..')\n",
        "    ! curl 'https://raw.githubusercontent.com/unizard/2019.Spring.AI/master/20190407_data.csv' -o './20190407_data.csv'        \n",
        "    print('Done..\\n')\n",
        "else:\n",
        "    print('File already exists \\n')\n",
        "    \n",
        "\n",
        "\n",
        "\n",
        "def run():\n",
        "    points = np.genfromtxt(\"20190407_data.csv\", delimiter=\",\")\n",
        "    learning_rate = 0.0001\n",
        "    initial_b = 0 # initial y-intercept guess\n",
        "    initial_m = 0 # initial slope guess\n",
        "    num_iterations = 1000\n",
        "    \n",
        "    print(\"========================\")\n",
        "    print(\" Start\")    \n",
        "    print(\"========================\")\n",
        "    [b, w] = gradient_descent(points, initial_b, initial_m, learning_rate, num_iterations)\n",
        "    print(\"b=\",b)\n",
        "    print(\"w=\",w)\n",
        "\n",
        "    \n",
        "    \n",
        "    \n",
        "if __name__ == '__main__':\n",
        "    run()\n"
      ],
      "execution_count": 0,
      "outputs": [
        {
          "output_type": "stream",
          "text": [
            "File already exists \n",
            "\n",
            "========================\n",
            " Start\n",
            "========================\n",
            "b= 0.014547010110737297\n",
            "w= 0.7370702973591052\n"
          ],
          "name": "stdout"
        }
      ]
    },
    {
      "metadata": {
        "id": "X5cuYnyT4NPb",
        "colab_type": "code",
        "colab": {}
      },
      "cell_type": "code",
      "source": [
        ""
      ],
      "execution_count": 0,
      "outputs": []
    }
  ]
}