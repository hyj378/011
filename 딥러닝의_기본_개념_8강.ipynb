{
  "nbformat": 4,
  "nbformat_minor": 0,
  "metadata": {
    "colab": {
      "name": "딥러닝의 기본 개념_8강.ipynb",
      "version": "0.3.2",
      "provenance": [],
      "include_colab_link": true
    },
    "kernelspec": {
      "name": "python3",
      "display_name": "Python 3"
    }
  },
  "cells": [
    {
      "cell_type": "markdown",
      "metadata": {
        "id": "view-in-github",
        "colab_type": "text"
      },
      "source": [
        "<a href=\"https://colab.research.google.com/github/hyj378/011/blob/ML_basic_inyt/%EB%94%A5%EB%9F%AC%EB%8B%9D%EC%9D%98_%EA%B8%B0%EB%B3%B8_%EA%B0%9C%EB%85%90_8%EA%B0%95.ipynb\" target=\"_parent\"><img src=\"https://colab.research.google.com/assets/colab-badge.svg\" alt=\"Open In Colab\"/></a>"
      ]
    },
    {
      "metadata": {
        "id": "rE3zwn-ZLpyc",
        "colab_type": "text"
      },
      "cell_type": "markdown",
      "source": [
        "##딥러닝의 기본개념 8강 강의\n",
        "\n",
        "####뉴런의 발견\n",
        "-> 인공 뉴런도 만들 수 있지 않을까?\n",
        "\n",
        "####AND, OR의 구현\n",
        "\n",
        "####XOR구현의 실패\n",
        "-> 불가능하구나\n",
        "\n",
        "####neural network의 다양한 구현\n",
        "\n",
        "paul Werbos와 hinton의 \n",
        "Backpropagation방법을 이용한 neural network -> \n",
        "minsky교수의 'w과 b를 학습을 시킬 수 가 없다'를 해결\n",
        "\n",
        "라쿤 교수의 고양이 실험 -> 생물체가 시각정보를 인식할때 한번에 정보 전체를(그림 전체를) 인식하는 것이 아니라 일부를 담당하는 신경망이 있고 그것이 나중에 조합되는것이 아닐까 -> Convolutional Neural Networks\n",
        "\n",
        "####복잡한 문제를 풀면 너무 층이 두꺼워진다\n",
        "복잡한 문제를 풀때 Backpropagation의 방법을 이용하면 error정보가 뒤로 돌아갈수록 약해져(데이터 손실) 학습이 어려워진다 또한 다른 형태의 알고리즘이 등장하고,  그 알고리즘들이 neural network알고리즘보다 높은 성능을 보이기 시작했다\n",
        "->인공신경망알고리즘의 두번째 침체기\n",
        "\n",
        "####불가능한것이 아니다 초기값을 잘 주면 돼!\n",
        "->breakthrough등장! \n",
        "이름을 인공신경망적 알고리즘을 딥러닝 알고리즘이라고 바꿔서 다시 인기몰이를 한다"
      ]
    },
    {
      "metadata": {
        "id": "85dIWVaySCFj",
        "colab_type": "text"
      },
      "cell_type": "markdown",
      "source": [
        "텐서를 다루는 방법?!\n",
        "###ML lab 08: Tensor Manipulation\n",
        "\n",
        "노드는 하나의 자료형이라고 할 수 있다.\n",
        "나도 아직 개념을 확실히 잡지는 못했지만\n",
        "텐서를 하나의 구조체 자료형으로 이해하자\n",
        "\n",
        "텐서는 다른 operation(우리가 만든 노드, 함수)등을 흘러다닌다!"
      ]
    },
    {
      "metadata": {
        "id": "2S2Gm9kWI_2d",
        "colab_type": "text"
      },
      "cell_type": "markdown",
      "source": [
        "*****\n",
        "tf.constant, 일반 배열, numpy배"
      ]
    },
    {
      "metadata": {
        "id": "LVqKpFp--dCj",
        "colab_type": "code",
        "colab": {
          "base_uri": "https://localhost:8080/",
          "height": 122
        },
        "outputId": "aa2eb47d-1657-4c44-ab69-8a510c486115"
      },
      "cell_type": "code",
      "source": [
        "\n",
        "import tensorflow as tf\n",
        "import numpy as np\n",
        "a = np.array([0, 1, 2])\n",
        "b = [0,1,2,[0, 1, 2],[3, 4, 5]]\n",
        "c = tf.constant([0,1,2])\n",
        "\n",
        "print(a)\n",
        "print(b)\n",
        "print(c)\n",
        "\n",
        "#sess = tf.Session\n",
        "print(c.eval,'\\n', c)\n",
        "print(c[0])"
      ],
      "execution_count": 31,
      "outputs": [
        {
          "output_type": "stream",
          "text": [
            "[0 1 2]\n",
            "[0, 1, 2, [0, 1, 2], [3, 4, 5]]\n",
            "Tensor(\"Const_7:0\", shape=(3,), dtype=int32)\n",
            "<bound method Tensor.eval of <tf.Tensor 'Const_7:0' shape=(3,) dtype=int32>> \n",
            " Tensor(\"Const_7:0\", shape=(3,), dtype=int32)\n",
            "Tensor(\"strided_slice_1:0\", shape=(), dtype=int32)\n"
          ],
          "name": "stdout"
        }
      ]
    },
    {
      "metadata": {
        "id": "Ktp3tpNEASUQ",
        "colab_type": "code",
        "colab": {
          "base_uri": "https://localhost:8080/",
          "height": 140
        },
        "outputId": "7d18dfbf-a9c7-4dba-f0df-ab14028b1c51"
      },
      "cell_type": "code",
      "source": [
        "import numpy as np\n",
        "import pprint\n",
        "#pp = pprint.PrettyPrinter()\n",
        "t = np.array([0., 1., 2., 3., 4., 5., 6.])\n",
        "pprint.pprint(a)\n",
        "pprint.pprint(b)\n",
        "pprint.pprint(c) #더 이쁘게 출력하는 python함수라는데 사용법은 모르겠음\n",
        "\n",
        "print('\\n', t, '\\n')\n",
        "pprint.pprint(t)"
      ],
      "execution_count": 79,
      "outputs": [
        {
          "output_type": "stream",
          "text": [
            "array([0, 1, 2])\n",
            "[0, 1, 2, [0, 1, 2], [3, 4, 5]]\n",
            "<tf.Tensor 'Const_7:0' shape=(3,) dtype=int32>\n",
            "\n",
            " [0. 1. 2. 3. 4. 5. 6.] \n",
            "\n",
            "array([0., 1., 2., 3., 4., 5., 6.])\n"
          ],
          "name": "stdout"
        }
      ]
    },
    {
      "metadata": {
        "id": "f8kKUS3gBTsp",
        "colab_type": "code",
        "colab": {
          "base_uri": "https://localhost:8080/",
          "height": 292
        },
        "outputId": "81299641-4189-42e6-a012-525800af6271"
      },
      "cell_type": "code",
      "source": [
        "#array slicing with numpy\n",
        "print(t.ndim)#차원\n",
        "print(t.shape)#형태\n",
        "print(t[0], t[1], t[2])\n",
        "print(t[2:5], t[5:-1])\n",
        "t_ = t[:, 0: -2]\n",
        "print(t_)"
      ],
      "execution_count": 80,
      "outputs": [
        {
          "output_type": "stream",
          "text": [
            "1\n",
            "(7,)\n",
            "0.0 1.0 2.0\n",
            "[2. 3. 4.] [5.]\n"
          ],
          "name": "stdout"
        },
        {
          "output_type": "error",
          "ename": "IndexError",
          "evalue": "ignored",
          "traceback": [
            "\u001b[0;31m---------------------------------------------------------------------------\u001b[0m",
            "\u001b[0;31mIndexError\u001b[0m                                Traceback (most recent call last)",
            "\u001b[0;32m<ipython-input-80-f7d36b1040c2>\u001b[0m in \u001b[0;36m<module>\u001b[0;34m()\u001b[0m\n\u001b[1;32m      3\u001b[0m \u001b[0mprint\u001b[0m\u001b[0;34m(\u001b[0m\u001b[0mt\u001b[0m\u001b[0;34m[\u001b[0m\u001b[0;36m0\u001b[0m\u001b[0;34m]\u001b[0m\u001b[0;34m,\u001b[0m \u001b[0mt\u001b[0m\u001b[0;34m[\u001b[0m\u001b[0;36m1\u001b[0m\u001b[0;34m]\u001b[0m\u001b[0;34m,\u001b[0m \u001b[0mt\u001b[0m\u001b[0;34m[\u001b[0m\u001b[0;36m2\u001b[0m\u001b[0;34m]\u001b[0m\u001b[0;34m)\u001b[0m\u001b[0;34m\u001b[0m\u001b[0;34m\u001b[0m\u001b[0m\n\u001b[1;32m      4\u001b[0m \u001b[0mprint\u001b[0m\u001b[0;34m(\u001b[0m\u001b[0mt\u001b[0m\u001b[0;34m[\u001b[0m\u001b[0;36m2\u001b[0m\u001b[0;34m:\u001b[0m\u001b[0;36m5\u001b[0m\u001b[0;34m]\u001b[0m\u001b[0;34m,\u001b[0m \u001b[0mt\u001b[0m\u001b[0;34m[\u001b[0m\u001b[0;36m5\u001b[0m\u001b[0;34m:\u001b[0m\u001b[0;34m-\u001b[0m\u001b[0;36m1\u001b[0m\u001b[0;34m]\u001b[0m\u001b[0;34m)\u001b[0m\u001b[0;34m\u001b[0m\u001b[0;34m\u001b[0m\u001b[0m\n\u001b[0;32m----> 5\u001b[0;31m \u001b[0mt_\u001b[0m \u001b[0;34m=\u001b[0m \u001b[0mt\u001b[0m\u001b[0;34m[\u001b[0m\u001b[0;34m:\u001b[0m\u001b[0;34m,\u001b[0m \u001b[0;36m0\u001b[0m\u001b[0;34m:\u001b[0m \u001b[0;34m-\u001b[0m\u001b[0;36m2\u001b[0m\u001b[0;34m]\u001b[0m\u001b[0;34m\u001b[0m\u001b[0;34m\u001b[0m\u001b[0m\n\u001b[0m\u001b[1;32m      6\u001b[0m \u001b[0mprint\u001b[0m\u001b[0;34m(\u001b[0m\u001b[0mt_\u001b[0m\u001b[0;34m)\u001b[0m\u001b[0;34m\u001b[0m\u001b[0;34m\u001b[0m\u001b[0m\n",
            "\u001b[0;31mIndexError\u001b[0m: too many indices for array"
          ]
        }
      ]
    },
    {
      "metadata": {
        "id": "NnhpHLXQJe1v",
        "colab_type": "text"
      },
      "cell_type": "markdown",
      "source": [
        "위의 오류는 t가 일차원 배열인데 슬라이싱을 마치 n차원(n>1)배열처럼 해버려서 생긴 오류입니다 아레처럼 바꾸면 해결됩니다"
      ]
    },
    {
      "metadata": {
        "id": "xitFfTAmCnuz",
        "colab_type": "code",
        "colab": {
          "base_uri": "https://localhost:8080/",
          "height": 228
        },
        "outputId": "98da2c62-7155-400e-ce56-84330a205a6d"
      },
      "cell_type": "code",
      "source": [
        "t = np.array([[0., 1., 2., 3., 4., 5., 6.], [0., 1., 2., 3., 4., 5., 6.],\\\n",
        "              [0., 1., 2., 3., 4., 5., 6.]])\n",
        "t_ = t[0:-1, 0: -2]\n",
        "print(t_)\n",
        "\n",
        "t_ = t[0:, 0: -2]\n",
        "print('\\n', t_, '\\n')\n",
        "\n",
        "pprint.pprint(t)\n",
        "print(t.ndim)\n",
        "print(t.shape)"
      ],
      "execution_count": 81,
      "outputs": [
        {
          "output_type": "stream",
          "text": [
            "[[0. 1. 2. 3. 4.]\n",
            " [0. 1. 2. 3. 4.]]\n",
            "\n",
            " [[0. 1. 2. 3. 4.]\n",
            " [0. 1. 2. 3. 4.]\n",
            " [0. 1. 2. 3. 4.]] \n",
            "\n",
            "array([[0., 1., 2., 3., 4., 5., 6.],\n",
            "       [0., 1., 2., 3., 4., 5., 6.],\n",
            "       [0., 1., 2., 3., 4., 5., 6.]])\n",
            "2\n",
            "(3, 7)\n"
          ],
          "name": "stdout"
        }
      ]
    },
    {
      "metadata": {
        "id": "fjEZ5nGkEYMD",
        "colab_type": "text"
      },
      "cell_type": "markdown",
      "source": [
        "##Shape, Rank, Axis\n"
      ]
    },
    {
      "metadata": {
        "id": "G7kx_kotEX8E",
        "colab_type": "code",
        "colab": {
          "base_uri": "https://localhost:8080/",
          "height": 34
        },
        "outputId": "cc0e9f25-d4c5-4ce0-f39a-987c363ae7b7"
      },
      "cell_type": "code",
      "source": [
        "t = tf.constant([[[1, 2, 3, 4], [5, 6, 7, 8], [9, 10, 11, 12]],\\\n",
        "                [[13, 14, 15, 16], [17, 18, 19, 20], [21, 22, 23, 24]]])\n",
        "sess = tf.Session()\n",
        "\n",
        "sess.run(t)\n",
        "print(tf.shape(t))\n",
        "\n",
        "sess.close()"
      ],
      "execution_count": 82,
      "outputs": [
        {
          "output_type": "stream",
          "text": [
            "Tensor(\"Shape_20:0\", shape=(3,), dtype=int32)\n"
          ],
          "name": "stdout"
        }
      ]
    },
    {
      "metadata": {
        "id": "ZndMBDmbFTuk",
        "colab_type": "code",
        "colab": {
          "base_uri": "https://localhost:8080/",
          "height": 34
        },
        "outputId": "21b6bcca-1b66-479b-d6eb-52143b64a537"
      },
      "cell_type": "code",
      "source": [
        "t = tf.constant([[[1, 2, 3, 4], [5, 6, 7, 8], [9, 10, 11, 12]],\\\n",
        "                [[13, 14, 15, 16], [17, 18, 19, 20], [21, 22, 23, 24]]])\n",
        "\n",
        "tf.shape(t)"
      ],
      "execution_count": 83,
      "outputs": [
        {
          "output_type": "execute_result",
          "data": {
            "text/plain": [
              "<tf.Tensor 'Shape_21:0' shape=(3,) dtype=int32>"
            ]
          },
          "metadata": {
            "tags": []
          },
          "execution_count": 83
        }
      ]
    },
    {
      "metadata": {
        "id": "HXOO_SDMGxd0",
        "colab_type": "code",
        "colab": {
          "base_uri": "https://localhost:8080/",
          "height": 90
        },
        "outputId": "04f1d969-9f6f-408f-b839-a070e7ca1d91"
      },
      "cell_type": "code",
      "source": [
        "t = tf.constant([[[[1, 2, 3, 4], [5, 6, 7, 8], [9, 10, 11, 12]],\\\n",
        "                [[13, 14, 15, 16], [17, 18, 19, 20], [21, 22, 23, 24]]]])\n",
        "\n",
        "sess = tf.InteractiveSession()\n",
        "tf.shape(t).eval()"
      ],
      "execution_count": 98,
      "outputs": [
        {
          "output_type": "stream",
          "text": [
            "/usr/local/lib/python3.6/dist-packages/tensorflow/python/client/session.py:1702: UserWarning: An interactive session is already active. This can cause out-of-memory errors in some cases. You must explicitly call `InteractiveSession.close()` to release resources held by the other session(s).\n",
            "  warnings.warn('An interactive session is already active. This can '\n"
          ],
          "name": "stderr"
        },
        {
          "output_type": "execute_result",
          "data": {
            "text/plain": [
              "array([1, 2, 3, 4], dtype=int32)"
            ]
          },
          "metadata": {
            "tags": []
          },
          "execution_count": 98
        }
      ]
    },
    {
      "metadata": {
        "id": "43E7EFZCH1Xd",
        "colab_type": "text"
      },
      "cell_type": "markdown",
      "source": [
        "위의 오류는 InteractiveSession을 반복실행해서 발생한 오류이고, eval()을 그냥 실행하면 강의처럼 실행되지 않는데 Session이 실행되는 동안 eval()이 가능한가봐요! \n",
        "\n",
        "[tf.InteractiveSession](https://www.tensorflow.org/api_docs/python/tf/InteractiveSession)\n",
        "\n",
        "그런데 Seeion실행이 안되어도 tensor.eval은 실행되던데 왜 그럴까요?\n",
        "\n",
        "[tf.Tensor](https://www.tensorflow.org/api_docs/python/tf/Tensor)"
      ]
    },
    {
      "metadata": {
        "id": "uG-mHXarG1Y2",
        "colab_type": "code",
        "colab": {
          "base_uri": "https://localhost:8080/",
          "height": 34
        },
        "outputId": "2f825558-52e5-4805-cb12-fe87268b21be"
      },
      "cell_type": "code",
      "source": [
        "sess.close()\n",
        "tf.shape(t).eval()"
      ],
      "execution_count": 99,
      "outputs": [
        {
          "output_type": "execute_result",
          "data": {
            "text/plain": [
              "array([1, 2, 3, 4], dtype=int32)"
            ]
          },
          "metadata": {
            "tags": []
          },
          "execution_count": 99
        }
      ]
    },
    {
      "metadata": {
        "id": "irMuhioEKNJg",
        "colab_type": "code",
        "colab": {
          "base_uri": "https://localhost:8080/",
          "height": 72
        },
        "outputId": "233042b1-21b6-42a2-ab39-82d3d5b3afa3"
      },
      "cell_type": "code",
      "source": [
        "sess = tf.InteractiveSession()"
      ],
      "execution_count": 100,
      "outputs": [
        {
          "output_type": "stream",
          "text": [
            "/usr/local/lib/python3.6/dist-packages/tensorflow/python/client/session.py:1702: UserWarning: An interactive session is already active. This can cause out-of-memory errors in some cases. You must explicitly call `InteractiveSession.close()` to release resources held by the other session(s).\n",
            "  warnings.warn('An interactive session is already active. This can '\n"
          ],
          "name": "stderr"
        }
      ]
    },
    {
      "metadata": {
        "id": "qBdzfK2qLtsG",
        "colab_type": "text"
      },
      "cell_type": "markdown",
      "source": [
        "*****\n",
        "왜 InteractiveSession이 닫히지 않는것일까요ㅜㅜㅜ\n",
        "eval()은 세션이 진행중일때만 실행 가능하다고 합니다ㅜㅜㅜ\n"
      ]
    },
    {
      "metadata": {
        "id": "RALFV9dFLs0M",
        "colab_type": "code",
        "colab": {
          "base_uri": "https://localhost:8080/",
          "height": 175
        },
        "outputId": "7d65879b-64b8-4f93-8f4f-75797298dae1"
      },
      "cell_type": "code",
      "source": [
        "pprint.pprint(t.eval())\n",
        "print('shape는 겉껍질부터 1뭉텅이->2뭉텅이->3뭉텅이->4뭉텅이',tf.shape(t).eval())\n",
        "print('rank는 괄호 갯수', tf.rank(t).eval())"
      ],
      "execution_count": 106,
      "outputs": [
        {
          "output_type": "stream",
          "text": [
            "array([[[[ 1,  2,  3,  4],\n",
            "         [ 5,  6,  7,  8],\n",
            "         [ 9, 10, 11, 12]],\n",
            "\n",
            "        [[13, 14, 15, 16],\n",
            "         [17, 18, 19, 20],\n",
            "         [21, 22, 23, 24]]]], dtype=int32)\n",
            "shape는 겉껍질부터 1뭉텅이->2뭉텅이->3뭉텅이->4뭉텅이 [1 2 3 4]\n",
            "rank는 괄호 갯수 4\n"
          ],
          "name": "stdout"
        }
      ]
    },
    {
      "metadata": {
        "id": "-I3mFyk4Njzw",
        "colab_type": "text"
      },
      "cell_type": "markdown",
      "source": [
        "####Axis"
      ]
    },
    {
      "metadata": {
        "id": "oEf7DVxFMiXE",
        "colab_type": "code",
        "colab": {
          "base_uri": "https://localhost:8080/",
          "height": 70
        },
        "outputId": "491738a4-f678-43d7-f992-01c8216bdf60"
      },
      "cell_type": "code",
      "source": [
        "print('rank가 {0} 개 -> axis {0}개'.format(tf.rank(t).eval()))\n",
        "z = np.array(range(0, tf.rank(t).eval()) )\n",
        "z = z[::-1]\n",
        "print('안쪽에서 부터 axis {0}'.format(np.array(z)),'\\n')\n",
        "#print('밖쪽에서 부터 axis {0}'.format(np.array(range(0,tf.rank(t).eval()))))\n",
        "\n",
        "a =\\\n",
        "[ #axis = 0, -4\n",
        "    [ #axis = 1, -3\n",
        "        [ #axis = 2, -2\n",
        "            [1,2,3,4], #axis = 3, -1\n",
        "            [5,6,7,8],\n",
        "            [9,10,11,12]\n",
        "        ],\n",
        "        [\n",
        "            [13,14,15,16],\n",
        "            [17,18,19,20], \n",
        "            [21,22,23,24]\n",
        "        ]\n",
        "    ]\n",
        "]\n",
        " \n",
        "  #shape도 밖부터, axis도 밖부터 센다"
      ],
      "execution_count": 131,
      "outputs": [
        {
          "output_type": "stream",
          "text": [
            "rank가 4 개 -> axis 4개\n",
            "안쪽에서 부터 axis [3 2 1 0] \n",
            "\n"
          ],
          "name": "stdout"
        }
      ]
    },
    {
      "metadata": {
        "id": "smziqFcmOCO-",
        "colab_type": "code",
        "colab": {
          "base_uri": "https://localhost:8080/",
          "height": 34
        },
        "outputId": "10f0b8ba-037c-4ddf-90c0-a17cc674e460"
      },
      "cell_type": "code",
      "source": [
        "#reduce_mean 평균, 의미 줄이기\n",
        "#reduce_sum 지정한 axis의 원소들을 '하나의 원소'로 합친다고 생각하자 마치 2048게임처럼!\n",
        "\n",
        "x = [[1., 2.],\n",
        "    [3., 4.]]\n",
        "tf.reduce_sum(x).eval() #x를 하나로 만들어라"
      ],
      "execution_count": 133,
      "outputs": [
        {
          "output_type": "execute_result",
          "data": {
            "text/plain": [
              "10.0"
            ]
          },
          "metadata": {
            "tags": []
          },
          "execution_count": 133
        }
      ]
    },
    {
      "metadata": {
        "id": "2OkYBTr7Srle",
        "colab_type": "code",
        "colab": {
          "base_uri": "https://localhost:8080/",
          "height": 34
        },
        "outputId": "96049581-de09-42cf-8dd2-f87b8ef2b9af"
      },
      "cell_type": "code",
      "source": [
        "tf.reduce_sum(x, axis=0).eval() #axis0을 하나로 만들어라\n",
        "\n",
        "'''\n",
        "x = [[1., 2.],\n",
        "    [3., 4.]]\n",
        "x' = reduce_sum(x, axis=0).eval()\n",
        "x' = [[1], [2]]<-axis=0의 괄호, axis=0에는 2개의 원소가 있었다\n",
        "이 원소를 하나로 통합해버리고[1]+[2]  axis =0만 남긴다\n",
        "x' = [[1]+[2]]\n",
        "'''\n",
        "\n",
        "x_ = tf.reduce_sum(x, axis=0).eval()\n",
        "print(x_)"
      ],
      "execution_count": 137,
      "outputs": [
        {
          "output_type": "stream",
          "text": [
            "[4. 6.]\n"
          ],
          "name": "stdout"
        }
      ]
    },
    {
      "metadata": {
        "id": "0IUfB_uaS-aE",
        "colab_type": "code",
        "colab": {
          "base_uri": "https://localhost:8080/",
          "height": 34
        },
        "outputId": "7ad37e26-d70d-4844-87be-6614e6d6f98f"
      },
      "cell_type": "code",
      "source": [
        "'''\n",
        "x = [[1., 2.],\n",
        "    [3., 4.]]\n",
        "x' = reduce_sum(x, axis=1).eval()\n",
        "x' = [[1.0, 2.0], [3.0, 4.0]<-axis=1의 괄호, axis=0에는 2개의 원소가 있었다]\n",
        "이 원소를 하나로 통합해버리고 axis=1괄호안 에는 하나의 원소만을 남긴다\n",
        "x' = [[1.0 + 2.0], [3.0 + 4.0]]\n",
        "'''\n",
        "\n",
        "x_ = tf.reduce_sum(x, axis=1).eval()\n",
        "print(x_)"
      ],
      "execution_count": 138,
      "outputs": [
        {
          "output_type": "stream",
          "text": [
            "[3. 7.]\n"
          ],
          "name": "stdout"
        }
      ]
    },
    {
      "metadata": {
        "id": "rywIBp9VUlAw",
        "colab_type": "code",
        "colab": {
          "base_uri": "https://localhost:8080/",
          "height": 34
        },
        "outputId": "91ed3323-2bf6-4896-be9b-1137921cca98"
      },
      "cell_type": "code",
      "source": [
        "#argmax\n",
        "#reshape\n",
        "t = np.array([[[0, 1, 2], \n",
        "               [3, 4, 5]],\n",
        "              \n",
        "              [[6, 7, 8], \n",
        "               [9, 10, 11]]])\n",
        "\n",
        "t.shape"
      ],
      "execution_count": 139,
      "outputs": [
        {
          "output_type": "execute_result",
          "data": {
            "text/plain": [
              "(2, 2, 3)"
            ]
          },
          "metadata": {
            "tags": []
          },
          "execution_count": 139
        }
      ]
    },
    {
      "metadata": {
        "id": "0sRlfqVvVNzc",
        "colab_type": "code",
        "colab": {
          "base_uri": "https://localhost:8080/",
          "height": 87
        },
        "outputId": "3616f7d7-e2c1-47ab-8aa5-8d68bf2d8c9c"
      },
      "cell_type": "code",
      "source": [
        "tf.reshape(t, shape=[-1, 3]).eval()\n",
        "\n",
        "#t를 dim = 2가 되도록 reshape해라 그 대신 가장 안쪽의 원소갯수는 3개 나머지는 알아서 해"
      ],
      "execution_count": 144,
      "outputs": [
        {
          "output_type": "execute_result",
          "data": {
            "text/plain": [
              "array([[ 0,  1,  2],\n",
              "       [ 3,  4,  5],\n",
              "       [ 6,  7,  8],\n",
              "       [ 9, 10, 11]])"
            ]
          },
          "metadata": {
            "tags": []
          },
          "execution_count": 144
        }
      ]
    },
    {
      "metadata": {
        "id": "jo1gGD5yVgXo",
        "colab_type": "code",
        "colab": {
          "base_uri": "https://localhost:8080/",
          "height": 140
        },
        "outputId": "848ebf0a-fbc6-411b-d5d5-1bd699f5a2de"
      },
      "cell_type": "code",
      "source": [
        "tf.reshape(t, shape=[-1, 1, 3]).eval()\n",
        "\n",
        "#t를 dim = 3가 되도록 reshape해라 가장 안쪽의 원소갯수는 3개, 그다음에는 1개 나머지는 알아서 해"
      ],
      "execution_count": 145,
      "outputs": [
        {
          "output_type": "execute_result",
          "data": {
            "text/plain": [
              "array([[[ 0,  1,  2]],\n",
              "\n",
              "       [[ 3,  4,  5]],\n",
              "\n",
              "       [[ 6,  7,  8]],\n",
              "\n",
              "       [[ 9, 10, 11]]])"
            ]
          },
          "metadata": {
            "tags": []
          },
          "execution_count": 145
        }
      ]
    },
    {
      "metadata": {
        "id": "p5DR4Y03WC-T",
        "colab_type": "code",
        "colab": {
          "base_uri": "https://localhost:8080/",
          "height": 2283
        },
        "outputId": "cb0ef622-3ad4-4f75-feb5-454920c5c9cc"
      },
      "cell_type": "code",
      "source": [
        "tf.reshape(t, shape=[-1, -1, 3]).eval()"
      ],
      "execution_count": 149,
      "outputs": [
        {
          "output_type": "error",
          "ename": "InvalidArgumentError",
          "evalue": "ignored",
          "traceback": [
            "\u001b[0;31m---------------------------------------------------------------------------\u001b[0m",
            "\u001b[0;31mInvalidArgumentError\u001b[0m                      Traceback (most recent call last)",
            "\u001b[0;32m/usr/local/lib/python3.6/dist-packages/tensorflow/python/client/session.py\u001b[0m in \u001b[0;36m_do_call\u001b[0;34m(self, fn, *args)\u001b[0m\n\u001b[1;32m   1333\u001b[0m     \u001b[0;32mtry\u001b[0m\u001b[0;34m:\u001b[0m\u001b[0;34m\u001b[0m\u001b[0;34m\u001b[0m\u001b[0m\n\u001b[0;32m-> 1334\u001b[0;31m       \u001b[0;32mreturn\u001b[0m \u001b[0mfn\u001b[0m\u001b[0;34m(\u001b[0m\u001b[0;34m*\u001b[0m\u001b[0margs\u001b[0m\u001b[0;34m)\u001b[0m\u001b[0;34m\u001b[0m\u001b[0;34m\u001b[0m\u001b[0m\n\u001b[0m\u001b[1;32m   1335\u001b[0m     \u001b[0;32mexcept\u001b[0m \u001b[0merrors\u001b[0m\u001b[0;34m.\u001b[0m\u001b[0mOpError\u001b[0m \u001b[0;32mas\u001b[0m \u001b[0me\u001b[0m\u001b[0;34m:\u001b[0m\u001b[0;34m\u001b[0m\u001b[0;34m\u001b[0m\u001b[0m\n",
            "\u001b[0;32m/usr/local/lib/python3.6/dist-packages/tensorflow/python/client/session.py\u001b[0m in \u001b[0;36m_run_fn\u001b[0;34m(feed_dict, fetch_list, target_list, options, run_metadata)\u001b[0m\n\u001b[1;32m   1318\u001b[0m       return self._call_tf_sessionrun(\n\u001b[0;32m-> 1319\u001b[0;31m           options, feed_dict, fetch_list, target_list, run_metadata)\n\u001b[0m\u001b[1;32m   1320\u001b[0m \u001b[0;34m\u001b[0m\u001b[0m\n",
            "\u001b[0;32m/usr/local/lib/python3.6/dist-packages/tensorflow/python/client/session.py\u001b[0m in \u001b[0;36m_call_tf_sessionrun\u001b[0;34m(self, options, feed_dict, fetch_list, target_list, run_metadata)\u001b[0m\n\u001b[1;32m   1406\u001b[0m         \u001b[0mself\u001b[0m\u001b[0;34m.\u001b[0m\u001b[0m_session\u001b[0m\u001b[0;34m,\u001b[0m \u001b[0moptions\u001b[0m\u001b[0;34m,\u001b[0m \u001b[0mfeed_dict\u001b[0m\u001b[0;34m,\u001b[0m \u001b[0mfetch_list\u001b[0m\u001b[0;34m,\u001b[0m \u001b[0mtarget_list\u001b[0m\u001b[0;34m,\u001b[0m\u001b[0;34m\u001b[0m\u001b[0;34m\u001b[0m\u001b[0m\n\u001b[0;32m-> 1407\u001b[0;31m         run_metadata)\n\u001b[0m\u001b[1;32m   1408\u001b[0m \u001b[0;34m\u001b[0m\u001b[0m\n",
            "\u001b[0;31mInvalidArgumentError\u001b[0m: Only one input size may be -1, not both 0 and 1\n\t [[{{node Reshape_6}} = Reshape[T=DT_INT64, Tshape=DT_INT32, _device=\"/job:localhost/replica:0/task:0/device:CPU:0\"](Reshape_6/tensor, Reshape_6/shape)]]",
            "\nDuring handling of the above exception, another exception occurred:\n",
            "\u001b[0;31mInvalidArgumentError\u001b[0m                      Traceback (most recent call last)",
            "\u001b[0;32m<ipython-input-149-e86a32e2fce9>\u001b[0m in \u001b[0;36m<module>\u001b[0;34m()\u001b[0m\n\u001b[0;32m----> 1\u001b[0;31m \u001b[0mtf\u001b[0m\u001b[0;34m.\u001b[0m\u001b[0mreshape\u001b[0m\u001b[0;34m(\u001b[0m\u001b[0mt\u001b[0m\u001b[0;34m,\u001b[0m \u001b[0mshape\u001b[0m\u001b[0;34m=\u001b[0m\u001b[0;34m[\u001b[0m\u001b[0;34m-\u001b[0m\u001b[0;36m1\u001b[0m\u001b[0;34m,\u001b[0m \u001b[0;34m-\u001b[0m\u001b[0;36m1\u001b[0m\u001b[0;34m,\u001b[0m \u001b[0;36m3\u001b[0m\u001b[0;34m]\u001b[0m\u001b[0;34m)\u001b[0m\u001b[0;34m.\u001b[0m\u001b[0meval\u001b[0m\u001b[0;34m(\u001b[0m\u001b[0;34m)\u001b[0m\u001b[0;34m\u001b[0m\u001b[0;34m\u001b[0m\u001b[0m\n\u001b[0m",
            "\u001b[0;32m/usr/local/lib/python3.6/dist-packages/tensorflow/python/framework/ops.py\u001b[0m in \u001b[0;36meval\u001b[0;34m(self, feed_dict, session)\u001b[0m\n\u001b[1;32m    711\u001b[0m \u001b[0;34m\u001b[0m\u001b[0m\n\u001b[1;32m    712\u001b[0m     \"\"\"\n\u001b[0;32m--> 713\u001b[0;31m     \u001b[0;32mreturn\u001b[0m \u001b[0m_eval_using_default_session\u001b[0m\u001b[0;34m(\u001b[0m\u001b[0mself\u001b[0m\u001b[0;34m,\u001b[0m \u001b[0mfeed_dict\u001b[0m\u001b[0;34m,\u001b[0m \u001b[0mself\u001b[0m\u001b[0;34m.\u001b[0m\u001b[0mgraph\u001b[0m\u001b[0;34m,\u001b[0m \u001b[0msession\u001b[0m\u001b[0;34m)\u001b[0m\u001b[0;34m\u001b[0m\u001b[0;34m\u001b[0m\u001b[0m\n\u001b[0m\u001b[1;32m    714\u001b[0m \u001b[0;34m\u001b[0m\u001b[0m\n\u001b[1;32m    715\u001b[0m \u001b[0;34m\u001b[0m\u001b[0m\n",
            "\u001b[0;32m/usr/local/lib/python3.6/dist-packages/tensorflow/python/framework/ops.py\u001b[0m in \u001b[0;36m_eval_using_default_session\u001b[0;34m(tensors, feed_dict, graph, session)\u001b[0m\n\u001b[1;32m   5155\u001b[0m                        \u001b[0;34m\"the tensor's graph is different from the session's \"\u001b[0m\u001b[0;34m\u001b[0m\u001b[0;34m\u001b[0m\u001b[0m\n\u001b[1;32m   5156\u001b[0m                        \"graph.\")\n\u001b[0;32m-> 5157\u001b[0;31m   \u001b[0;32mreturn\u001b[0m \u001b[0msession\u001b[0m\u001b[0;34m.\u001b[0m\u001b[0mrun\u001b[0m\u001b[0;34m(\u001b[0m\u001b[0mtensors\u001b[0m\u001b[0;34m,\u001b[0m \u001b[0mfeed_dict\u001b[0m\u001b[0;34m)\u001b[0m\u001b[0;34m\u001b[0m\u001b[0;34m\u001b[0m\u001b[0m\n\u001b[0m\u001b[1;32m   5158\u001b[0m \u001b[0;34m\u001b[0m\u001b[0m\n\u001b[1;32m   5159\u001b[0m \u001b[0;34m\u001b[0m\u001b[0m\n",
            "\u001b[0;32m/usr/local/lib/python3.6/dist-packages/tensorflow/python/client/session.py\u001b[0m in \u001b[0;36mrun\u001b[0;34m(self, fetches, feed_dict, options, run_metadata)\u001b[0m\n\u001b[1;32m    927\u001b[0m     \u001b[0;32mtry\u001b[0m\u001b[0;34m:\u001b[0m\u001b[0;34m\u001b[0m\u001b[0;34m\u001b[0m\u001b[0m\n\u001b[1;32m    928\u001b[0m       result = self._run(None, fetches, feed_dict, options_ptr,\n\u001b[0;32m--> 929\u001b[0;31m                          run_metadata_ptr)\n\u001b[0m\u001b[1;32m    930\u001b[0m       \u001b[0;32mif\u001b[0m \u001b[0mrun_metadata\u001b[0m\u001b[0;34m:\u001b[0m\u001b[0;34m\u001b[0m\u001b[0;34m\u001b[0m\u001b[0m\n\u001b[1;32m    931\u001b[0m         \u001b[0mproto_data\u001b[0m \u001b[0;34m=\u001b[0m \u001b[0mtf_session\u001b[0m\u001b[0;34m.\u001b[0m\u001b[0mTF_GetBuffer\u001b[0m\u001b[0;34m(\u001b[0m\u001b[0mrun_metadata_ptr\u001b[0m\u001b[0;34m)\u001b[0m\u001b[0;34m\u001b[0m\u001b[0;34m\u001b[0m\u001b[0m\n",
            "\u001b[0;32m/usr/local/lib/python3.6/dist-packages/tensorflow/python/client/session.py\u001b[0m in \u001b[0;36m_run\u001b[0;34m(self, handle, fetches, feed_dict, options, run_metadata)\u001b[0m\n\u001b[1;32m   1150\u001b[0m     \u001b[0;32mif\u001b[0m \u001b[0mfinal_fetches\u001b[0m \u001b[0;32mor\u001b[0m \u001b[0mfinal_targets\u001b[0m \u001b[0;32mor\u001b[0m \u001b[0;34m(\u001b[0m\u001b[0mhandle\u001b[0m \u001b[0;32mand\u001b[0m \u001b[0mfeed_dict_tensor\u001b[0m\u001b[0;34m)\u001b[0m\u001b[0;34m:\u001b[0m\u001b[0;34m\u001b[0m\u001b[0;34m\u001b[0m\u001b[0m\n\u001b[1;32m   1151\u001b[0m       results = self._do_run(handle, final_targets, final_fetches,\n\u001b[0;32m-> 1152\u001b[0;31m                              feed_dict_tensor, options, run_metadata)\n\u001b[0m\u001b[1;32m   1153\u001b[0m     \u001b[0;32melse\u001b[0m\u001b[0;34m:\u001b[0m\u001b[0;34m\u001b[0m\u001b[0;34m\u001b[0m\u001b[0m\n\u001b[1;32m   1154\u001b[0m       \u001b[0mresults\u001b[0m \u001b[0;34m=\u001b[0m \u001b[0;34m[\u001b[0m\u001b[0;34m]\u001b[0m\u001b[0;34m\u001b[0m\u001b[0;34m\u001b[0m\u001b[0m\n",
            "\u001b[0;32m/usr/local/lib/python3.6/dist-packages/tensorflow/python/client/session.py\u001b[0m in \u001b[0;36m_do_run\u001b[0;34m(self, handle, target_list, fetch_list, feed_dict, options, run_metadata)\u001b[0m\n\u001b[1;32m   1326\u001b[0m     \u001b[0;32mif\u001b[0m \u001b[0mhandle\u001b[0m \u001b[0;32mis\u001b[0m \u001b[0;32mNone\u001b[0m\u001b[0;34m:\u001b[0m\u001b[0;34m\u001b[0m\u001b[0;34m\u001b[0m\u001b[0m\n\u001b[1;32m   1327\u001b[0m       return self._do_call(_run_fn, feeds, fetches, targets, options,\n\u001b[0;32m-> 1328\u001b[0;31m                            run_metadata)\n\u001b[0m\u001b[1;32m   1329\u001b[0m     \u001b[0;32melse\u001b[0m\u001b[0;34m:\u001b[0m\u001b[0;34m\u001b[0m\u001b[0;34m\u001b[0m\u001b[0m\n\u001b[1;32m   1330\u001b[0m       \u001b[0;32mreturn\u001b[0m \u001b[0mself\u001b[0m\u001b[0;34m.\u001b[0m\u001b[0m_do_call\u001b[0m\u001b[0;34m(\u001b[0m\u001b[0m_prun_fn\u001b[0m\u001b[0;34m,\u001b[0m \u001b[0mhandle\u001b[0m\u001b[0;34m,\u001b[0m \u001b[0mfeeds\u001b[0m\u001b[0;34m,\u001b[0m \u001b[0mfetches\u001b[0m\u001b[0;34m)\u001b[0m\u001b[0;34m\u001b[0m\u001b[0;34m\u001b[0m\u001b[0m\n",
            "\u001b[0;32m/usr/local/lib/python3.6/dist-packages/tensorflow/python/client/session.py\u001b[0m in \u001b[0;36m_do_call\u001b[0;34m(self, fn, *args)\u001b[0m\n\u001b[1;32m   1346\u001b[0m           \u001b[0;32mpass\u001b[0m\u001b[0;34m\u001b[0m\u001b[0;34m\u001b[0m\u001b[0m\n\u001b[1;32m   1347\u001b[0m       \u001b[0mmessage\u001b[0m \u001b[0;34m=\u001b[0m \u001b[0merror_interpolation\u001b[0m\u001b[0;34m.\u001b[0m\u001b[0minterpolate\u001b[0m\u001b[0;34m(\u001b[0m\u001b[0mmessage\u001b[0m\u001b[0;34m,\u001b[0m \u001b[0mself\u001b[0m\u001b[0;34m.\u001b[0m\u001b[0m_graph\u001b[0m\u001b[0;34m)\u001b[0m\u001b[0;34m\u001b[0m\u001b[0;34m\u001b[0m\u001b[0m\n\u001b[0;32m-> 1348\u001b[0;31m       \u001b[0;32mraise\u001b[0m \u001b[0mtype\u001b[0m\u001b[0;34m(\u001b[0m\u001b[0me\u001b[0m\u001b[0;34m)\u001b[0m\u001b[0;34m(\u001b[0m\u001b[0mnode_def\u001b[0m\u001b[0;34m,\u001b[0m \u001b[0mop\u001b[0m\u001b[0;34m,\u001b[0m \u001b[0mmessage\u001b[0m\u001b[0;34m)\u001b[0m\u001b[0;34m\u001b[0m\u001b[0;34m\u001b[0m\u001b[0m\n\u001b[0m\u001b[1;32m   1349\u001b[0m \u001b[0;34m\u001b[0m\u001b[0m\n\u001b[1;32m   1350\u001b[0m   \u001b[0;32mdef\u001b[0m \u001b[0m_extend_graph\u001b[0m\u001b[0;34m(\u001b[0m\u001b[0mself\u001b[0m\u001b[0;34m)\u001b[0m\u001b[0;34m:\u001b[0m\u001b[0;34m\u001b[0m\u001b[0;34m\u001b[0m\u001b[0m\n",
            "\u001b[0;31mInvalidArgumentError\u001b[0m: Only one input size may be -1, not both 0 and 1\n\t [[node Reshape_6 (defined at <ipython-input-149-e86a32e2fce9>:1)  = Reshape[T=DT_INT64, Tshape=DT_INT32, _device=\"/job:localhost/replica:0/task:0/device:CPU:0\"](Reshape_6/tensor, Reshape_6/shape)]]\n\nCaused by op 'Reshape_6', defined at:\n  File \"/usr/lib/python3.6/runpy.py\", line 193, in _run_module_as_main\n    \"__main__\", mod_spec)\n  File \"/usr/lib/python3.6/runpy.py\", line 85, in _run_code\n    exec(code, run_globals)\n  File \"/usr/local/lib/python3.6/dist-packages/ipykernel_launcher.py\", line 16, in <module>\n    app.launch_new_instance()\n  File \"/usr/local/lib/python3.6/dist-packages/traitlets/config/application.py\", line 658, in launch_instance\n    app.start()\n  File \"/usr/local/lib/python3.6/dist-packages/ipykernel/kernelapp.py\", line 477, in start\n    ioloop.IOLoop.instance().start()\n  File \"/usr/local/lib/python3.6/dist-packages/tornado/ioloop.py\", line 888, in start\n    handler_func(fd_obj, events)\n  File \"/usr/local/lib/python3.6/dist-packages/tornado/stack_context.py\", line 277, in null_wrapper\n    return fn(*args, **kwargs)\n  File \"/usr/local/lib/python3.6/dist-packages/zmq/eventloop/zmqstream.py\", line 450, in _handle_events\n    self._handle_recv()\n  File \"/usr/local/lib/python3.6/dist-packages/zmq/eventloop/zmqstream.py\", line 480, in _handle_recv\n    self._run_callback(callback, msg)\n  File \"/usr/local/lib/python3.6/dist-packages/zmq/eventloop/zmqstream.py\", line 432, in _run_callback\n    callback(*args, **kwargs)\n  File \"/usr/local/lib/python3.6/dist-packages/tornado/stack_context.py\", line 277, in null_wrapper\n    return fn(*args, **kwargs)\n  File \"/usr/local/lib/python3.6/dist-packages/ipykernel/kernelbase.py\", line 283, in dispatcher\n    return self.dispatch_shell(stream, msg)\n  File \"/usr/local/lib/python3.6/dist-packages/ipykernel/kernelbase.py\", line 235, in dispatch_shell\n    handler(stream, idents, msg)\n  File \"/usr/local/lib/python3.6/dist-packages/ipykernel/kernelbase.py\", line 399, in execute_request\n    user_expressions, allow_stdin)\n  File \"/usr/local/lib/python3.6/dist-packages/ipykernel/ipkernel.py\", line 196, in do_execute\n    res = shell.run_cell(code, store_history=store_history, silent=silent)\n  File \"/usr/local/lib/python3.6/dist-packages/ipykernel/zmqshell.py\", line 533, in run_cell\n    return super(ZMQInteractiveShell, self).run_cell(*args, **kwargs)\n  File \"/usr/local/lib/python3.6/dist-packages/IPython/core/interactiveshell.py\", line 2718, in run_cell\n    interactivity=interactivity, compiler=compiler, result=result)\n  File \"/usr/local/lib/python3.6/dist-packages/IPython/core/interactiveshell.py\", line 2828, in run_ast_nodes\n    if self.run_code(code, result):\n  File \"/usr/local/lib/python3.6/dist-packages/IPython/core/interactiveshell.py\", line 2882, in run_code\n    exec(code_obj, self.user_global_ns, self.user_ns)\n  File \"<ipython-input-149-e86a32e2fce9>\", line 1, in <module>\n    tf.reshape(t, shape=[-1, -1, 3]).eval()\n  File \"/usr/local/lib/python3.6/dist-packages/tensorflow/python/ops/gen_array_ops.py\", line 6482, in reshape\n    \"Reshape\", tensor=tensor, shape=shape, name=name)\n  File \"/usr/local/lib/python3.6/dist-packages/tensorflow/python/framework/op_def_library.py\", line 787, in _apply_op_helper\n    op_def=op_def)\n  File \"/usr/local/lib/python3.6/dist-packages/tensorflow/python/util/deprecation.py\", line 488, in new_func\n    return func(*args, **kwargs)\n  File \"/usr/local/lib/python3.6/dist-packages/tensorflow/python/framework/ops.py\", line 3274, in create_op\n    op_def=op_def)\n  File \"/usr/local/lib/python3.6/dist-packages/tensorflow/python/framework/ops.py\", line 1770, in __init__\n    self._traceback = tf_stack.extract_stack()\n\nInvalidArgumentError (see above for traceback): Only one input size may be -1, not both 0 and 1\n\t [[node Reshape_6 (defined at <ipython-input-149-e86a32e2fce9>:1)  = Reshape[T=DT_INT64, Tshape=DT_INT32, _device=\"/job:localhost/replica:0/task:0/device:CPU:0\"](Reshape_6/tensor, Reshape_6/shape)]]\n"
          ]
        }
      ]
    },
    {
      "metadata": {
        "id": "QDiC1Mh4WSvO",
        "colab_type": "text"
      },
      "cell_type": "markdown",
      "source": [
        "알아서 해! 라는 뜻의 -1은 한번만 쓰고, 지정해주는 갯수(위에서 보면 1이나 3)는 나누어 떨어지게 줘야한다"
      ]
    },
    {
      "metadata": {
        "id": "8ij-yWe7WFeZ",
        "colab_type": "code",
        "colab": {
          "base_uri": "https://localhost:8080/",
          "height": 122
        },
        "outputId": "0c41ff14-daf0-42f8-b825-cc58a0b6e7fe"
      },
      "cell_type": "code",
      "source": [
        "#squeeze와 expand\n",
        "print(tf.squeeze([[0], [1], [2]]).eval(),'\\n')\n",
        "print(tf.expand_dims([0, 1, 2], 1).eval(),'\\n')"
      ],
      "execution_count": 161,
      "outputs": [
        {
          "output_type": "stream",
          "text": [
            "[0 1 2] \n",
            "\n",
            "[[0]\n",
            " [1]\n",
            " [2]] \n",
            "\n"
          ],
          "name": "stdout"
        }
      ]
    },
    {
      "metadata": {
        "id": "IYjUk9HPXldp",
        "colab_type": "code",
        "colab": {
          "base_uri": "https://localhost:8080/",
          "height": 140
        },
        "outputId": "7613c141-f6d2-4949-a247-fcd84c089394"
      },
      "cell_type": "code",
      "source": [
        "print(tf.expand_dims([[0, 1, 2],[3, 4, 5]], 1).eval(),'\\n')\n",
        "print(tf.expand_dims([[0, 1, 2],[3, 4, 5]], 0).eval(),'\\n')"
      ],
      "execution_count": 162,
      "outputs": [
        {
          "output_type": "stream",
          "text": [
            "[[[0 1 2]]\n",
            "\n",
            " [[3 4 5]]] \n",
            "\n",
            "[[[0 1 2]\n",
            "  [3 4 5]]] \n",
            "\n"
          ],
          "name": "stdout"
        }
      ]
    },
    {
      "metadata": {
        "id": "NQc67CbfYpo7",
        "colab_type": "text"
      },
      "cell_type": "markdown",
      "source": [
        "강의에서 expand_dims을 설명하실때 얼마를 expand할꺼냐 라고 하셨는데\n",
        "\n",
        "expand_dims은 1차원만을 키울 수 있다고 합니다.\n",
        "\n",
        "(Inserts a dimension of 1 into a tensor's shape)\n",
        "\n",
        "tf.expand_dims(\n",
        "\n",
        "    input,\n",
        "    \n",
        "    axis=None,\n",
        "    \n",
        "    name=None,\n",
        "    \n",
        "    dim=None\n",
        "    \n",
        ")\n",
        "\n",
        "인자가 위와 같으니 1은 axis를 말하는것 아닐까요?\n",
        "바로 위 sell실행을 보면 맞는것 같아요"
      ]
    },
    {
      "metadata": {
        "id": "w2lN-Iu9XQQO",
        "colab_type": "code",
        "colab": {
          "base_uri": "https://localhost:8080/",
          "height": 70
        },
        "outputId": "861c7690-9754-4175-d7c0-415e1d7d1fab"
      },
      "cell_type": "code",
      "source": [
        "print(tf.squeeze([[[0], [1], [2]],[[3], [4], [5]]]).eval(),'\\n')\n",
        "#print(tf.squeeze([[[0], [1], [2]],[[3], [4], [5]]], 1).eval(),'\\n')"
      ],
      "execution_count": 167,
      "outputs": [
        {
          "output_type": "stream",
          "text": [
            "[[0 1 2]\n",
            " [3 4 5]] \n",
            "\n"
          ],
          "name": "stdout"
        }
      ]
    },
    {
      "metadata": {
        "id": "EK09-1-0ZEvX",
        "colab_type": "code",
        "colab": {
          "base_uri": "https://localhost:8080/",
          "height": 87
        },
        "outputId": "111c7efb-406f-4532-e3a2-95281c2468ce"
      },
      "cell_type": "code",
      "source": [
        "y = [[[[[[[0]]],[[[1]]],[[[2]]]]], [[[[[0]]],[[[1]]],[[[2]]]]]]]\n",
        "print(tf.shape(np.array(y)).eval(),'\\n')\n",
        "\n",
        "y = tf.squeeze(y)\n",
        "print(tf.shape(y).eval(),'\\n')\n",
        "#squeeze는 size가 1인 차원들을 지워버린다"
      ],
      "execution_count": 190,
      "outputs": [
        {
          "output_type": "stream",
          "text": [
            "[1 2 1 3 1 1 1] \n",
            "\n",
            "[2 3] \n",
            "\n"
          ],
          "name": "stdout"
        }
      ]
    },
    {
      "metadata": {
        "id": "JcIjs0yFZe0V",
        "colab_type": "code",
        "colab": {
          "base_uri": "https://localhost:8080/",
          "height": 140
        },
        "outputId": "95f46f39-5c93-40dc-9bb8-77612c0b8a01"
      },
      "cell_type": "code",
      "source": [
        "#one_hot\n",
        "tf.one_hot([[0], [1], [2], [0]], depth=3).eval()"
      ],
      "execution_count": 191,
      "outputs": [
        {
          "output_type": "execute_result",
          "data": {
            "text/plain": [
              "array([[[1., 0., 0.]],\n",
              "\n",
              "       [[0., 1., 0.]],\n",
              "\n",
              "       [[0., 0., 1.]],\n",
              "\n",
              "       [[1., 0., 0.]]], dtype=float32)"
            ]
          },
          "metadata": {
            "tags": []
          },
          "execution_count": 191
        }
      ]
    },
    {
      "metadata": {
        "id": "hMi7pcFqdK8W",
        "colab_type": "code",
        "colab": {
          "base_uri": "https://localhost:8080/",
          "height": 140
        },
        "outputId": "2e9ef612-ed76-4d61-9542-9734e4ad17d8"
      },
      "cell_type": "code",
      "source": [
        "tf.one_hot([[0], [1], [2], [0]], depth=5).eval()"
      ],
      "execution_count": 192,
      "outputs": [
        {
          "output_type": "execute_result",
          "data": {
            "text/plain": [
              "array([[[1., 0., 0., 0., 0.]],\n",
              "\n",
              "       [[0., 1., 0., 0., 0.]],\n",
              "\n",
              "       [[0., 0., 1., 0., 0.]],\n",
              "\n",
              "       [[1., 0., 0., 0., 0.]]], dtype=float32)"
            ]
          },
          "metadata": {
            "tags": []
          },
          "execution_count": 192
        }
      ]
    },
    {
      "metadata": {
        "id": "Sg1LcYL_dssq",
        "colab_type": "text"
      },
      "cell_type": "markdown",
      "source": [
        "one hot은 rank를 증가시킴\n",
        "\n",
        "3->one hot, depth = 3->[0, 0, 1]\n",
        "\n",
        "[3]->one hot, depth =3->[[0,0,1]]"
      ]
    },
    {
      "metadata": {
        "id": "Z9jYYZMFdM2N",
        "colab_type": "code",
        "colab": {
          "base_uri": "https://localhost:8080/",
          "height": 87
        },
        "outputId": "43b02b84-5809-4c80-b802-4882c70b0ecb"
      },
      "cell_type": "code",
      "source": [
        "tf.reshape(tf.one_hot([[0], [1], [2], [0]], depth=5), shape=[-1, 5]).eval()"
      ],
      "execution_count": 197,
      "outputs": [
        {
          "output_type": "execute_result",
          "data": {
            "text/plain": [
              "array([[1., 0., 0., 0., 0.],\n",
              "       [0., 1., 0., 0., 0.],\n",
              "       [0., 0., 1., 0., 0.],\n",
              "       [1., 0., 0., 0., 0.]], dtype=float32)"
            ]
          },
          "metadata": {
            "tags": []
          },
          "execution_count": 197
        }
      ]
    },
    {
      "metadata": {
        "id": "insdndRndbgb",
        "colab_type": "code",
        "colab": {
          "base_uri": "https://localhost:8080/",
          "height": 122
        },
        "outputId": "6a13693b-b3fb-4434-cc18-f88474280abd"
      },
      "cell_type": "code",
      "source": [
        "#casting 어떠한 값을 원하는 형태의 자료형으로 cast한다\n",
        "#stack쌓기\n",
        "#ones_like(a) a와 형태가 같은 자료형을 만듬(원소는 모두 1)\n",
        "#zeros_like(a) a와 형태가 같은 자료형을 만듬(원소는 모두 0)\n",
        "#zip\n",
        "for x, y in zip([1, 2, 3], [4, 5, 6]):\n",
        "    print('x is :', x,'y is: ', y)\n",
        "    \n",
        "for x, y, z in zip([1, 2, 3], [4, 5, 6], [7, 8, 9]):\n",
        "    print(x, y, z)"
      ],
      "execution_count": 203,
      "outputs": [
        {
          "output_type": "stream",
          "text": [
            "x is : 1 y is:  4\n",
            "x is : 2 y is:  5\n",
            "x is : 3 y is:  6\n",
            "1 4 7\n",
            "2 5 8\n",
            "3 6 9\n"
          ],
          "name": "stdout"
        }
      ]
    },
    {
      "metadata": {
        "id": "7lLmAGtoerPk",
        "colab_type": "code",
        "colab": {
          "base_uri": "https://localhost:8080/",
          "height": 52
        },
        "outputId": "acae5f10-3671-46c6-ad93-8341f20cc11a"
      },
      "cell_type": "code",
      "source": [
        "for x, y in zip([[1, 2, 3], [4, 5, 6]], [[7, 8, 9], [10, 11, 12]]):\n",
        "    print('x is :', x,'y is: ', y)"
      ],
      "execution_count": 202,
      "outputs": [
        {
          "output_type": "stream",
          "text": [
            "x is : [1, 2, 3] y is:  [7, 8, 9]\n",
            "x is : [4, 5, 6] y is:  [10, 11, 12]\n"
          ],
          "name": "stdout"
        }
      ]
    },
    {
      "metadata": {
        "id": "0t9T8tRVe2gK",
        "colab_type": "code",
        "colab": {}
      },
      "cell_type": "code",
      "source": [
        ""
      ],
      "execution_count": 0,
      "outputs": []
    }
  ]
}
