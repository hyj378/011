{
  "nbformat": 4,
  "nbformat_minor": 0,
  "metadata": {
    "colab": {
      "name": "2.2데이터 조작",
      "provenance": [],
      "collapsed_sections": [
        "h_dq8Tcf2P8c"
      ],
      "authorship_tag": "ABX9TyM0VwB+iGa/qq0Ub+pBCRgT",
      "include_colab_link": true
    },
    "kernelspec": {
      "name": "python3",
      "display_name": "Python 3"
    },
    "accelerator": "GPU"
  },
  "cells": [
    {
      "cell_type": "markdown",
      "metadata": {
        "id": "view-in-github",
        "colab_type": "text"
      },
      "source": [
        "<a href=\"https://colab.research.google.com/github/hyj378/main-repository/blob/master/2_2%EB%8D%B0%EC%9D%B4%ED%84%B0_%EC%A1%B0%EC%9E%91.ipynb\" target=\"_parent\"><img src=\"https://colab.research.google.com/assets/colab-badge.svg\" alt=\"Open In Colab\"/></a>"
      ]
    },
    {
      "cell_type": "code",
      "metadata": {
        "id": "rhDkpjQEbxLT",
        "colab_type": "code",
        "colab": {}
      },
      "source": [
        "from google.colab import drive\n",
        "drive.mount('/content/gdrive/')"
      ],
      "execution_count": null,
      "outputs": []
    },
    {
      "cell_type": "code",
      "metadata": {
        "id": "lTOCa8hAct4h",
        "colab_type": "code",
        "colab": {}
      },
      "source": [
        "# !pip install --target='/content/gdrive/My Drive/env' mxnet-cu101mkl==1.6.0  # updating mxnet to at least v1.6\n",
        "# ConnectionResetError: [Errno 104] Connection reset by peer\n",
        "!pip install -U mxnet-cu101mkl==1.6.0  # updating mxnet to at least v1.6\""
      ],
      "execution_count": null,
      "outputs": []
    },
    {
      "cell_type": "markdown",
      "metadata": {
        "id": "h_dq8Tcf2P8c",
        "colab_type": "text"
      },
      "source": [
        "# 1.Getting Start with MXNET"
      ]
    },
    {
      "cell_type": "markdown",
      "metadata": {
        "id": "Jt4D6ttR7F-l",
        "colab_type": "text"
      },
      "source": [
        "가장 먼저 데이터를 변수에 저장해 봅시다. 데이터는 간단히 말하면 1차원의 데이터일때는 vector, 2차원일때는 metrix, 3차원 이상일때는 지칭하는 이름이 특별히 없고, 통틀어서 tensor라고 주로 부릅니다. 간단하게 원소 12개의 숫자로 이루어진 vector는 아래와 같이 표현할 수 있으며, 추가적인 설청을 하지 않으면 이 tensor는 main memory에 저장되어 CPU-based 연산을 위해 사용할 수 있도록 디자인 될 것 입니다.\n",
        "\n",
        "*MXNet의 np와 numpy 가 유사하지만 혹시 차이점이 있을까 하여 numpy도 함께 실습해보겠습니다*"
      ]
    },
    {
      "cell_type": "code",
      "metadata": {
        "id": "rNDPasz_eqtF",
        "colab_type": "code",
        "colab": {}
      },
      "source": [
        "from mxnet import np,npx #numpy와 numpy extension\n",
        "import numpy as onp # original numpy"
      ],
      "execution_count": 22,
      "outputs": []
    },
    {
      "cell_type": "code",
      "metadata": {
        "id": "p4JM9F641bpg",
        "colab_type": "code",
        "colab": {
          "base_uri": "https://localhost:8080/",
          "height": 0
        },
        "outputId": "6bc281a2-46f7-4f15-c904-8e52774a6a3d"
      },
      "source": [
        "# 먼저 12개의 수를 이용한 벡터를 x변수에 저장합니다\n",
        "print(\"np on MXNet\")\n",
        "x=np.arange(12) \n",
        "print(x)\n",
        "print(x.shape)\n",
        "print(type(x))\n",
        "\n",
        "print(\"\\noriginal numpy\")\n",
        "ox=onp.arange(12)\n",
        "print(ox)\n",
        "print(ox.shape)\n",
        "print(type(ox))"
      ],
      "execution_count": 17,
      "outputs": [
        {
          "output_type": "stream",
          "text": [
            "np on MXNet\n",
            "[ 0.  1.  2.  3.  4.  5.  6.  7.  8.  9. 10. 11.]\n",
            "(12,)\n",
            "<class 'mxnet.numpy.ndarray'>\n",
            "\n",
            "original numpy\n",
            "[ 0  1  2  3  4  5  6  7  8  9 10 11]\n",
            "(12,)\n",
            "<class 'numpy.ndarray'>\n"
          ],
          "name": "stdout"
        }
      ]
    },
    {
      "cell_type": "code",
      "metadata": {
        "id": "7qVZEwkp8S2-",
        "colab_type": "code",
        "colab": {
          "base_uri": "https://localhost:8080/",
          "height": 0
        },
        "outputId": "f65a10f3-78fb-4b89-be36-01bf217cf741"
      },
      "source": [
        "# shape을 가공해봅시다\n",
        "print(\"np on MXNet\")\n",
        "x1=x.reshape(3,4)\n",
        "x2=x.reshape(2,-1,2) # == x2=x.reshape(2,3,2)\n",
        "print(x1)\n",
        "print(x1.shape)\n",
        "print(x2)\n",
        "print(x2.shape)\n",
        "\n",
        "print(\"\\noriginal numpy\")\n",
        "ox1=ox.reshape(3,4)\n",
        "ox2=ox.reshape(2,3,2)\n",
        "print(ox1)\n",
        "print(ox1.shape)\n",
        "print(ox2)\n",
        "print(ox2.shape)"
      ],
      "execution_count": 19,
      "outputs": [
        {
          "output_type": "stream",
          "text": [
            "np on MXNet\n",
            "[[ 0.  1.  2.  3.]\n",
            " [ 4.  5.  6.  7.]\n",
            " [ 8.  9. 10. 11.]]\n",
            "(3, 4)\n",
            "[[[ 0.  1.]\n",
            "  [ 2.  3.]\n",
            "  [ 4.  5.]]\n",
            "\n",
            " [[ 6.  7.]\n",
            "  [ 8.  9.]\n",
            "  [10. 11.]]]\n",
            "(2, 3, 2)\n",
            "\n",
            "original numpy\n",
            "[[ 0  1  2  3]\n",
            " [ 4  5  6  7]\n",
            " [ 8  9 10 11]]\n",
            "(3, 4)\n",
            "[[[ 0  1]\n",
            "  [ 2  3]\n",
            "  [ 4  5]]\n",
            "\n",
            " [[ 6  7]\n",
            "  [ 8  9]\n",
            "  [10 11]]]\n",
            "(2, 3, 2)\n"
          ],
          "name": "stdout"
        }
      ]
    },
    {
      "cell_type": "code",
      "metadata": {
        "id": "jV_ZaBg_-KFn",
        "colab_type": "code",
        "colab": {
          "base_uri": "https://localhost:8080/",
          "height": 0
        },
        "outputId": "bb791094-3d81-418b-c52d-bd206d201df2"
      },
      "source": [
        "# 다양한 방법으로 tensor를 선언해 봅시다\n",
        "print(\"np on MXNet\")\n",
        "print(np.zeros((2,3,1)))\n",
        "print(np.ones((2,3,1)))\n",
        "print(np.random.normal(0,1,size=(3,4)))\n",
        "print(np.array([[1,54],[2,56]]))\n",
        "\n",
        "print(\"\\noriginal numpy\")\n",
        "print(onp.zeros((2,3,1)))\n",
        "print(onp.ones((2,3,1)))\n",
        "print(onp.random.normal(0,1,size=(3,4)))\n",
        "print(onp.array([[1,54],[2,56]]))"
      ],
      "execution_count": 29,
      "outputs": [
        {
          "output_type": "stream",
          "text": [
            "np on MXNet\n",
            "[[[0.]\n",
            "  [0.]\n",
            "  [0.]]\n",
            "\n",
            " [[0.]\n",
            "  [0.]\n",
            "  [0.]]]\n",
            "[[[1.]\n",
            "  [1.]\n",
            "  [1.]]\n",
            "\n",
            " [[1.]\n",
            "  [1.]\n",
            "  [1.]]]\n",
            "[[-1.771029   -0.5459446  -0.45138445 -2.3556297 ]\n",
            " [ 0.57938355  0.5414402  -1.856082    2.6785066 ]\n",
            " [-1.9768796   1.2546344  -0.20801921 -0.54877394]]\n",
            "[[ 1. 54.]\n",
            " [ 2. 56.]]\n",
            "\n",
            "original numpy\n",
            "[[[0.]\n",
            "  [0.]\n",
            "  [0.]]\n",
            "\n",
            " [[0.]\n",
            "  [0.]\n",
            "  [0.]]]\n",
            "[[[1.]\n",
            "  [1.]\n",
            "  [1.]]\n",
            "\n",
            " [[1.]\n",
            "  [1.]\n",
            "  [1.]]]\n",
            "[[-0.25167444  0.87177608  1.54761448  0.59364384]\n",
            " [ 1.48541644  0.93959338 -0.33410851 -1.83669898]\n",
            " [-0.58915769 -0.27788139  1.14203692 -1.86398843]]\n",
            "[[ 1 54]\n",
            " [ 2 56]]\n"
          ],
          "name": "stdout"
        }
      ]
    },
    {
      "cell_type": "markdown",
      "metadata": {
        "id": "snabIB_WCZ8M",
        "colab_type": "text"
      },
      "source": [
        "요소별 사칙연산. 공통 표준 산술연산자 (+,-,*,/ㅡ,**) 는 텐서의 shape이 같을때 모두 요소별 연산을 한다."
      ]
    },
    {
      "cell_type": "code",
      "metadata": {
        "id": "7c7SrUQ9_itl",
        "colab_type": "code",
        "colab": {
          "base_uri": "https://localhost:8080/",
          "height": 0
        },
        "outputId": "7e83cc13-1ffa-422f-8722-e1a4c414b446"
      },
      "source": [
        "x=np.array([1,2,3,4])\n",
        "y=np.array([6,4,2,1])\n",
        "x + y, x - y, x * y, x / y, x ** y"
      ],
      "execution_count": 37,
      "outputs": [
        {
          "output_type": "execute_result",
          "data": {
            "text/plain": [
              "(array([7., 6., 5., 5.]),\n",
              " array([-5., -2.,  1.,  3.]),\n",
              " array([6., 8., 6., 4.]),\n",
              " array([0.16666667, 0.5       , 1.5       , 4.        ]),\n",
              " array([ 1., 16.,  9.,  4.]))"
            ]
          },
          "metadata": {
            "tags": []
          },
          "execution_count": 37
        }
      ]
    },
    {
      "cell_type": "code",
      "metadata": {
        "id": "0mhdr09KDmIj",
        "colab_type": "code",
        "colab": {
          "base_uri": "https://localhost:8080/",
          "height": 0
        },
        "outputId": "0c0703f1-f677-40ff-d3e8-28f0bcdb12ab"
      },
      "source": [
        "np.exp(x)"
      ],
      "execution_count": 38,
      "outputs": [
        {
          "output_type": "execute_result",
          "data": {
            "text/plain": [
              "array([ 2.7182817,  7.389056 , 20.085537 , 54.59815  ])"
            ]
          },
          "metadata": {
            "tags": []
          },
          "execution_count": 38
        }
      ]
    },
    {
      "cell_type": "code",
      "metadata": {
        "id": "n-CWeCKUDsBD",
        "colab_type": "code",
        "colab": {
          "base_uri": "https://localhost:8080/",
          "height": 0
        },
        "outputId": "b60bffd7-22f7-4240-b37e-e73385db13dc"
      },
      "source": [
        "x=np.arange(12).reshape(3,4)\n",
        "y=np.random.normal(0,12,size=(3,4))\n",
        "print(np.concatenate([x,y], axis=0).shape)\n",
        "print(np.concatenate([x,y], axis=1).shape)\n",
        "print(x, y, x==y)\n",
        "print(y.sum())"
      ],
      "execution_count": 43,
      "outputs": [
        {
          "output_type": "stream",
          "text": [
            "(6, 4)\n",
            "(3, 8)\n",
            "[[ 0.  1.  2.  3.]\n",
            " [ 4.  5.  6.  7.]\n",
            " [ 8.  9. 10. 11.]] [[-11.654632    6.043085   -6.9907475 -14.27334  ]\n",
            " [  4.4604926  -6.6025643  11.160087  -19.102507 ]\n",
            " [-17.070906  -13.298335   -6.211439    0.9446422]] [[False False False False]\n",
            " [False False False False]\n",
            " [False False False False]]\n",
            "-72.59616\n"
          ],
          "name": "stdout"
        }
      ]
    },
    {
      "cell_type": "code",
      "metadata": {
        "id": "CEfbtr6EDSjD",
        "colab_type": "code",
        "colab": {
          "base_uri": "https://localhost:8080/",
          "height": 0
        },
        "outputId": "ef970860-d0a6-4f0a-c920-f9c5e21f8b08"
      },
      "source": [
        "x=onp.array([1,2,3,4])\n",
        "y=onp.array([6,4,2,1])\n",
        "x + y, x - y, x * y, x / y, x ** y"
      ],
      "execution_count": 44,
      "outputs": [
        {
          "output_type": "execute_result",
          "data": {
            "text/plain": [
              "(array([7, 6, 5, 5]),\n",
              " array([-5, -2,  1,  3]),\n",
              " array([6, 8, 6, 4]),\n",
              " array([0.16666667, 0.5       , 1.5       , 4.        ]),\n",
              " array([ 1, 16,  9,  4]))"
            ]
          },
          "metadata": {
            "tags": []
          },
          "execution_count": 44
        }
      ]
    },
    {
      "cell_type": "code",
      "metadata": {
        "id": "cenQ1uWWEbRS",
        "colab_type": "code",
        "colab": {
          "base_uri": "https://localhost:8080/",
          "height": 0
        },
        "outputId": "2e736112-9483-4e5c-cc68-0c8d3512d160"
      },
      "source": [
        "onp.exp(x)"
      ],
      "execution_count": 45,
      "outputs": [
        {
          "output_type": "execute_result",
          "data": {
            "text/plain": [
              "array([ 2.71828183,  7.3890561 , 20.08553692, 54.59815003])"
            ]
          },
          "metadata": {
            "tags": []
          },
          "execution_count": 45
        }
      ]
    },
    {
      "cell_type": "code",
      "metadata": {
        "id": "IWZ72z6ODgUG",
        "colab_type": "code",
        "colab": {
          "base_uri": "https://localhost:8080/",
          "height": 0
        },
        "outputId": "0775ec5c-2928-4abd-d070-abf8cea24536"
      },
      "source": [
        "x=onp.arange(12).reshape(3,4)\n",
        "y=onp.random.normal(0,12,size=(3,4))\n",
        "print(onp.concatenate([x,y], axis=0).shape)\n",
        "print(onp.concatenate([x,y], axis=1).shape)\n",
        "print(x, y, x==y)\n",
        "print(y.sum())"
      ],
      "execution_count": 46,
      "outputs": [
        {
          "output_type": "stream",
          "text": [
            "(6, 4)\n",
            "(3, 8)\n",
            "[[ 0  1  2  3]\n",
            " [ 4  5  6  7]\n",
            " [ 8  9 10 11]] [[  0.6412043   -8.2299687    4.4613359    5.92456812]\n",
            " [ -9.78738279   1.28626319   8.33468643   5.1567833 ]\n",
            " [  2.85440103 -20.10400148  -3.03958966   2.55076974]] [[False False False False]\n",
            " [False False False False]\n",
            " [False False False False]]\n",
            "-9.950930617511077\n"
          ],
          "name": "stdout"
        }
      ]
    },
    {
      "cell_type": "markdown",
      "metadata": {
        "id": "7UglL1_vEnUw",
        "colab_type": "text"
      },
      "source": [
        "tensor의 형식이 다를때는 Brodcasting Mechanism이 적용된다"
      ]
    },
    {
      "cell_type": "code",
      "metadata": {
        "id": "8xGAAZg_Ehmm",
        "colab_type": "code",
        "colab": {
          "base_uri": "https://localhost:8080/",
          "height": 0
        },
        "outputId": "62b4e46a-2b62-4a7d-a176-2fccf494e6f5"
      },
      "source": [
        "a=np.arange(3).reshape(3,1)\n",
        "b=np.arange(2).reshape(1,2)\n",
        "a,b"
      ],
      "execution_count": 49,
      "outputs": [
        {
          "output_type": "execute_result",
          "data": {
            "text/plain": [
              "(array([[0.],\n",
              "        [1.],\n",
              "        [2.]]), array([[0., 1.]]))"
            ]
          },
          "metadata": {
            "tags": []
          },
          "execution_count": 49
        }
      ]
    },
    {
      "cell_type": "code",
      "metadata": {
        "id": "9zTG_n0IE8Ev",
        "colab_type": "code",
        "colab": {
          "base_uri": "https://localhost:8080/",
          "height": 0
        },
        "outputId": "bbb2fab4-0770-4b4c-daf9-ae15bff73a55"
      },
      "source": [
        "a,b,a==b,a+b"
      ],
      "execution_count": 53,
      "outputs": [
        {
          "output_type": "execute_result",
          "data": {
            "text/plain": [
              "(array([[0.],\n",
              "        [1.],\n",
              "        [2.]]), array([[0., 1.]]), array([[ True, False],\n",
              "        [False,  True],\n",
              "        [False, False]]), array([[0., 1.],\n",
              "        [1., 2.],\n",
              "        [2., 3.]]))"
            ]
          },
          "metadata": {
            "tags": []
          },
          "execution_count": 53
        }
      ]
    },
    {
      "cell_type": "code",
      "metadata": {
        "id": "4D3zJcACE-o8",
        "colab_type": "code",
        "colab": {
          "base_uri": "https://localhost:8080/",
          "height": 0
        },
        "outputId": "31d5f261-e830-4808-a3d7-111ce1ad0102"
      },
      "source": [
        "a=onp.arange(3).reshape(3,1)\n",
        "b=onp.arange(2).reshape(1,2)\n",
        "a,b, a==b, a+b"
      ],
      "execution_count": 54,
      "outputs": [
        {
          "output_type": "execute_result",
          "data": {
            "text/plain": [
              "(array([[0],\n",
              "        [1],\n",
              "        [2]]), array([[0, 1]]), array([[ True, False],\n",
              "        [False,  True],\n",
              "        [False, False]]), array([[0, 1],\n",
              "        [1, 2],\n",
              "        [2, 3]]))"
            ]
          },
          "metadata": {
            "tags": []
          },
          "execution_count": 54
        }
      ]
    },
    {
      "cell_type": "markdown",
      "metadata": {
        "id": "SvTZK6tyFmp3",
        "colab_type": "text"
      },
      "source": [
        "배열의 인덱스를 이용하여 더욱 편리하게 텐서를 다룰 수 있다"
      ]
    },
    {
      "cell_type": "code",
      "metadata": {
        "id": "_4-6bkrHFcEX",
        "colab_type": "code",
        "colab": {
          "base_uri": "https://localhost:8080/",
          "height": 0
        },
        "outputId": "9c5a5e32-1e64-41b7-c754-3b9c46354580"
      },
      "source": [
        "x=np.arange(12)\n",
        "x[-1],x.reshape(3,4)[:,:],x.reshape(3,4)[1:2,:2]"
      ],
      "execution_count": 57,
      "outputs": [
        {
          "output_type": "execute_result",
          "data": {
            "text/plain": [
              "(array([11.]), array([[ 0.,  1.,  2.,  3.],\n",
              "        [ 4.,  5.,  6.,  7.],\n",
              "        [ 8.,  9., 10., 11.]]), array([[4., 5.]]))"
            ]
          },
          "metadata": {
            "tags": []
          },
          "execution_count": 57
        }
      ]
    },
    {
      "cell_type": "markdown",
      "metadata": {
        "id": "mUsUA8N-GFn4",
        "colab_type": "text"
      },
      "source": [
        "연산을 좀 더 메모리 효율적으로 진행하여보자. 연산을 수행할 때마다 결과는 새로운 메모리에 할당된다. 이는 python이 y+x 연산을 진행한 후, 새로운 메모리에 이를 저장하고, y가 이 메모리를 지정(point)하도록 연산이 진행되기 때문이다."
      ]
    },
    {
      "cell_type": "code",
      "metadata": {
        "id": "s-lNFnnNF5l-",
        "colab_type": "code",
        "colab": {
          "base_uri": "https://localhost:8080/",
          "height": 0
        },
        "outputId": "9ef3f64f-322a-4383-a71a-d111334a56ac"
      },
      "source": [
        "x=np.arange(5)\n",
        "y=np.arange(5,10)\n",
        "print(id(y))\n",
        "y=np.arange(5,10)\n",
        "print(id(y)) # 심지어 재배정시에도 바뀐다\n",
        "before=id(y)\n",
        "y=y+x\n",
        "id(y)==before"
      ],
      "execution_count": 66,
      "outputs": [
        {
          "output_type": "stream",
          "text": [
            "140081308139880\n",
            "140081308142544\n"
          ],
          "name": "stdout"
        },
        {
          "output_type": "execute_result",
          "data": {
            "text/plain": [
              "False"
            ]
          },
          "metadata": {
            "tags": []
          },
          "execution_count": 66
        }
      ]
    },
    {
      "cell_type": "code",
      "metadata": {
        "id": "qNFA0sqrHNPs",
        "colab_type": "code",
        "colab": {
          "base_uri": "https://localhost:8080/",
          "height": 0
        },
        "outputId": "5a15f62b-155c-4855-cee5-cc1bafe4292b"
      },
      "source": [
        "# numpy도 마찬가지\n",
        "x=onp.arange(5)\n",
        "y=onp.arange(5,10)\n",
        "print(id(y))\n",
        "y=onp.arange(5,10)\n",
        "print(id(y))\n",
        "before=id(y)\n",
        "y=y+x\n",
        "id(y)==before"
      ],
      "execution_count": 65,
      "outputs": [
        {
          "output_type": "stream",
          "text": [
            "140081308500176\n",
            "140081307873888\n"
          ],
          "name": "stdout"
        },
        {
          "output_type": "execute_result",
          "data": {
            "text/plain": [
              "False"
            ]
          },
          "metadata": {
            "tags": []
          },
          "execution_count": 65
        }
      ]
    },
    {
      "cell_type": "markdown",
      "metadata": {
        "id": "EqokWkWhH__L",
        "colab_type": "text"
      },
      "source": [
        "이러한 방식의 연산은 효율적이지 않다. 특히 머신러닝에서는 수많은 파라미터연산이 진행되므로 이렇게 필수적이지 않은 메모리 낭비를 막는것이 좋다."
      ]
    },
    {
      "cell_type": "code",
      "metadata": {
        "id": "iXdZc39uHYu_",
        "colab_type": "code",
        "colab": {
          "base_uri": "https://localhost:8080/",
          "height": 0
        },
        "outputId": "2e427d2e-fd4b-4a13-a226-61f5e92a5e48"
      },
      "source": [
        "y=np.arange(5,10)\n",
        "y1=y\n",
        "print(id(y), id(y1))\n",
        "print(y==y1)\n",
        "print(id(y)==id(y1))\n",
        "y=np.arange(5,10)\n",
        "print(id(y),id(y1))\n",
        "print(y==y1)\n",
        "print(id(y)==id(y1))"
      ],
      "execution_count": 72,
      "outputs": [
        {
          "output_type": "stream",
          "text": [
            "140081308602160 140081308602160\n",
            "[ True  True  True  True  True]\n",
            "True\n",
            "140083456924408 140081308602160\n",
            "[ True  True  True  True  True]\n",
            "False\n"
          ],
          "name": "stdout"
        }
      ]
    },
    {
      "cell_type": "markdown",
      "metadata": {
        "id": "nqgMPThFI05v",
        "colab_type": "text"
      },
      "source": [
        "또한 위처럼 업데이트를 통한 방식은 위와같은 혼선을 낳을 수 있다. 해결방법은 아래와 같다. 사전에 할당된 배열의 slice 방식을 이용하는 것이다."
      ]
    },
    {
      "cell_type": "code",
      "metadata": {
        "id": "40M85V-mIk7W",
        "colab_type": "code",
        "colab": {
          "base_uri": "https://localhost:8080/",
          "height": 0
        },
        "outputId": "f9d33b4b-774a-408c-d715-17e6ca2499f0"
      },
      "source": [
        "# 1. 새로운 변수를 이용\n",
        "z=np.zeros_like(y)\n",
        "print('id(x): ', id(x))\n",
        "z[:]=x+y\n",
        "print('id(x): ', id(x))\n",
        "\n",
        "# 2. 데이터를 보존할 필요가 없다면\n",
        "print('id(x): ', id(x))\n",
        "x += y\n",
        "# 'x[:]=x+y' 와 같다\n",
        "print('id(x): ', id(x))"
      ],
      "execution_count": 73,
      "outputs": [
        {
          "output_type": "stream",
          "text": [
            "id(x):  140081307849496\n",
            "id(x):  140081307849496\n",
            "id(x):  140081307849496\n",
            "id(x):  140081307849496\n"
          ],
          "name": "stdout"
        }
      ]
    },
    {
      "cell_type": "markdown",
      "metadata": {
        "id": "rZRJ_MsKKUgX",
        "colab_type": "text"
      },
      "source": [
        "MXNet 데이터와 다른 Object의 상호 변환은 아래와 같이 진행할 수 있다."
      ]
    },
    {
      "cell_type": "code",
      "metadata": {
        "id": "gO121rL1Jlgx",
        "colab_type": "code",
        "colab": {
          "base_uri": "https://localhost:8080/",
          "height": 0
        },
        "outputId": "8c7268fb-19c2-4932-9c32-3f0a30e84709"
      },
      "source": [
        "_mxnet=np.arange(3)\n",
        "print('np.arange(3)', type(_mxnet))\n",
        "_numpy=_mxnet.asnumpy()\n",
        "print('_mxnet.asnumpy()', type(_numpy))\n",
        "_mxnet=np.array(_numpy)\n",
        "print('np.array(_numpy)', type(_mxnet))\n",
        "import torch\n",
        "_torch=torch.tensor(_numpy)\n",
        "print('torch.tensor(_numpy)', type(_torch))\n",
        "_numpy=_torch.numpy()\n",
        "print('_torch.numpy()', type(_numpy))\n",
        "print(_mxnet.shape)\n",
        "print(_numpy.shape)\n",
        "print(_torch.shape)"
      ],
      "execution_count": 113,
      "outputs": [
        {
          "output_type": "stream",
          "text": [
            "np.arange(3) <class 'mxnet.numpy.ndarray'>\n",
            "_mxnet.asnumpy() <class 'numpy.ndarray'>\n",
            "np.array(_numpy) <class 'mxnet.numpy.ndarray'>\n",
            "torch.tensor(_numpy) <class 'torch.Tensor'>\n",
            "_torch.numpy() <class 'numpy.ndarray'>\n",
            "(3,)\n",
            "(3,)\n",
            "torch.Size([3])\n"
          ],
          "name": "stdout"
        }
      ]
    },
    {
      "cell_type": "markdown",
      "metadata": {
        "id": "5aqqATr7TaSc",
        "colab_type": "text"
      },
      "source": [
        "# 2. Data Preprocessing"
      ]
    },
    {
      "cell_type": "markdown",
      "metadata": {
        "id": "cOQcVTGbVQOg",
        "colab_type": "text"
      },
      "source": [
        "pandas를 이용하여 데이터를 다뤄보자."
      ]
    },
    {
      "cell_type": "code",
      "metadata": {
        "id": "gQ1hhwTkTVxR",
        "colab_type": "code",
        "colab": {
          "base_uri": "https://localhost:8080/",
          "height": 35
        },
        "outputId": "6b0edf76-2d53-4a1d-d81f-455a9113eeb2"
      },
      "source": [
        "import os\n",
        "def make_tmp_csv(path):\n",
        "  path=os.path.join(path, 'empty.csv')\n",
        "  with open(path, 'w') as f:\n",
        "    f.write('NumRooms,Alley,Price\\n')  # Column names\n",
        "    f.write('NA,Pave,127500\\n')  # Each row represents a data point\n",
        "    f.write('2,NA,106000\\n')\n",
        "    f.write('4,NA,178100\\n')\n",
        "    f.write('NA,NA,140000\\n')\n",
        "  return path\n",
        "\n",
        "filepath=make_tmp_csv('./')\n",
        "!ls"
      ],
      "execution_count": 123,
      "outputs": [
        {
          "output_type": "stream",
          "text": [
            "empty.csv  gdrive  sample_data\n"
          ],
          "name": "stdout"
        }
      ]
    },
    {
      "cell_type": "code",
      "metadata": {
        "id": "cNkZPyrUW2hX",
        "colab_type": "code",
        "colab": {
          "base_uri": "https://localhost:8080/",
          "height": 107
        },
        "outputId": "1537a444-2c23-4012-e242-9dc137be0aa2"
      },
      "source": [
        "import pandas as pd\n",
        "\n",
        "data=pd.read_csv(filepath)\n",
        "print(data)"
      ],
      "execution_count": 124,
      "outputs": [
        {
          "output_type": "stream",
          "text": [
            "   NumRooms Alley   Price\n",
            "0       NaN  Pave  127500\n",
            "1       2.0   NaN  106000\n",
            "2       4.0   NaN  178100\n",
            "3       NaN   NaN  140000\n"
          ],
          "name": "stdout"
        }
      ]
    },
    {
      "cell_type": "code",
      "metadata": {
        "id": "KJ8UtKB3XFPE",
        "colab_type": "code",
        "colab": {
          "base_uri": "https://localhost:8080/",
          "height": 233
        },
        "outputId": "3e0c103f-4613-433a-f293-7616fa197a7b"
      },
      "source": [
        "# nan 값을 처리할 때 2가지 방법을 이용할 수 있다. 지우거나, 채울 수 있는데 위와같은 경우는 데이터가 부족하므로 채우는 것이 좋다 Room number  데이터만을 채울 것 이므로\n",
        "inputs, outputs = data.iloc[:, 0:2], data.iloc[:, 2]\n",
        "inputs=inputs.fillna(inputs.mean())\n",
        "print(inputs.mean())\n",
        "print(inputs)\n",
        "# 똑똑하게도 이산형 데이터의 NaN은 채우지 않는다\n",
        "# 또한 get_dummies를 이용하여 가변수도 만들 수 있다. 아래의 경우 Alley_Pave, Ally_nan\n",
        "inputs=pd.get_dummies(inputs, dummy_na=True)\n",
        "print(inputs)"
      ],
      "execution_count": 138,
      "outputs": [
        {
          "output_type": "stream",
          "text": [
            "NumRooms    3.0\n",
            "dtype: float64\n",
            "   NumRooms Alley\n",
            "0       3.0  Pave\n",
            "1       2.0   NaN\n",
            "2       4.0   NaN\n",
            "3       3.0   NaN\n",
            "   NumRooms  Alley_Pave  Alley_nan\n",
            "0       3.0           1          0\n",
            "1       2.0           0          1\n",
            "2       4.0           0          1\n",
            "3       3.0           0          1\n"
          ],
          "name": "stdout"
        }
      ]
    },
    {
      "cell_type": "code",
      "metadata": {
        "id": "QtjGc9dYZlX9",
        "colab_type": "code",
        "colab": {
          "base_uri": "https://localhost:8080/",
          "height": 197
        },
        "outputId": "93e74791-5835-437b-b158-e3e73c10bace"
      },
      "source": [
        "from mxnet import np\n",
        "print(inputs.values, type(inputs.values))\n",
        "print(outputs.values, type(outputs.values))\n",
        "\n",
        "x,y=np.array(inputs.values), np.array(outputs.values)\n",
        "print(x, type(x))\n",
        "print(y, type(y))"
      ],
      "execution_count": 143,
      "outputs": [
        {
          "output_type": "stream",
          "text": [
            "[[3. 1. 0.]\n",
            " [2. 0. 1.]\n",
            " [4. 0. 1.]\n",
            " [3. 0. 1.]] <class 'numpy.ndarray'>\n",
            "[127500 106000 178100 140000] <class 'numpy.ndarray'>\n",
            "[[3. 1. 0.]\n",
            " [2. 0. 1.]\n",
            " [4. 0. 1.]\n",
            " [3. 0. 1.]] <class 'mxnet.numpy.ndarray'>\n",
            "[127500 106000 178100 140000] <class 'mxnet.numpy.ndarray'>\n"
          ],
          "name": "stdout"
        }
      ]
    },
    {
      "cell_type": "markdown",
      "metadata": {
        "id": "ylfvNrKXaZjC",
        "colab_type": "text"
      },
      "source": [
        "이외에도, 그냥 nan값을 drop하여 데이터 전처리를 진행할 수도 있다."
      ]
    },
    {
      "cell_type": "code",
      "metadata": {
        "id": "GpTQxP0IafmY",
        "colab_type": "code",
        "colab": {
          "base_uri": "https://localhost:8080/",
          "height": 107
        },
        "outputId": "5b0f5560-6743-4324-8f55-b1a47b20ad61"
      },
      "source": [
        "import pandas as pd\n",
        "\n",
        "data=pd.read_csv(filepath)\n",
        "print(data)"
      ],
      "execution_count": 149,
      "outputs": [
        {
          "output_type": "stream",
          "text": [
            "   NumRooms Alley   Price\n",
            "0       NaN  Pave  127500\n",
            "1       2.0   NaN  106000\n",
            "2       4.0   NaN  178100\n",
            "3       NaN   NaN  140000\n"
          ],
          "name": "stdout"
        }
      ]
    },
    {
      "cell_type": "code",
      "metadata": {
        "id": "yPaMc5WsallC",
        "colab_type": "code",
        "colab": {
          "base_uri": "https://localhost:8080/",
          "height": 179
        },
        "outputId": "3c84e036-df82-4b0b-fa00-882d4396ee31"
      },
      "source": [
        "# 이의 경우 그냥 dropna를 사용하면 좋지 않다\n",
        "print(data.dropna(axis=0), '\\n*********')\n",
        "print(data.dropna(axis=1))"
      ],
      "execution_count": 147,
      "outputs": [
        {
          "output_type": "stream",
          "text": [
            "Empty DataFrame\n",
            "Columns: [NumRooms, Alley, Price]\n",
            "Index: [] \n",
            "*********\n",
            "    Price\n",
            "0  127500\n",
            "1  106000\n",
            "2  178100\n",
            "3  140000\n"
          ],
          "name": "stdout"
        }
      ]
    },
    {
      "cell_type": "code",
      "metadata": {
        "id": "gaZQ6On1a9OE",
        "colab_type": "code",
        "colab": {
          "base_uri": "https://localhost:8080/",
          "height": 125
        },
        "outputId": "da6417e1-75ae-48d5-8665-ae3146ac7faf"
      },
      "source": [
        "# 1. 직접 지정한다\n",
        "print(data.dropna(subset=['NumRooms']))\n",
        "\n",
        "# 2. 이산 데이터의 nan을 가변수를 이용하여 변환한다\n",
        "data=pd.get_dummies(data, dummy_na=True)\n",
        "print(data.dropna(axis=0))"
      ],
      "execution_count": 150,
      "outputs": [
        {
          "output_type": "stream",
          "text": [
            "   NumRooms Alley   Price\n",
            "1       2.0   NaN  106000\n",
            "2       4.0   NaN  178100\n",
            "   NumRooms   Price  Alley_Pave  Alley_nan\n",
            "1       2.0  106000           0          1\n",
            "2       4.0  178100           0          1\n"
          ],
          "name": "stdout"
        }
      ]
    },
    {
      "cell_type": "markdown",
      "metadata": {
        "id": "Vs5HhO_hckO-",
        "colab_type": "text"
      },
      "source": [
        "# 3. 자동 미분 (autogrid)\n",
        "- [pytorch](https://9bow.github.io/PyTorch-tutorials-kr-0.3.1/beginner/blitz/autograd_tutorial.html)\n",
        "- [MXNet&pytorch&tensorflow](https://d2l.ai/chapter_preliminaries/linear-algebra.html)"
      ]
    },
    {
      "cell_type": "markdown",
      "metadata": {
        "id": "9kjr8yUMfbGZ",
        "colab_type": "text"
      },
      "source": [
        "pytorch를 많이 사용하니 torch를 기준으로 진행하겠습니다. pytorch의 autogrid 패키지는 텐서의 연산에 자동미분을 제공합니다. <br>\n",
        "```autogrid.Variable```에는  tensor의 raw data에 접근하는```.data```와 변수의 관련한 변화도를 누적하는 ```.grad```, ```autogrid.Variable```를 생성한 ```Function```을 참조하고 있는 ```.grad_fn``` 3가지로 이루어져 있습니다.\n",
        "이렇게 연산의 history를 누적하고 있어 ```.backward()```를 호출하여 쉽게 도함수를 계산할 수 있게 합니다."
      ]
    },
    {
      "cell_type": "code",
      "metadata": {
        "id": "q3SW6qI4cjYG",
        "colab_type": "code",
        "colab": {
          "base_uri": "https://localhost:8080/",
          "height": 217
        },
        "outputId": "a8ca03c6-c316-453e-f1e3-e4ae06673cd3"
      },
      "source": [
        "import torch\n",
        "from torch.autograd import Variable\n",
        "x=Variable(torch.ones(2,2), requires_grad=True)\n",
        "# 이렇게 할 수도\n",
        "# x = torch.ones(2,2)\n",
        "# x.requires_grad_(True)\n",
        "print(x)\n",
        "print('x.grad_fn: ', x.grad_fn)\n",
        "print('x.grad: ', x.grad)\n",
        "y=x+2\n",
        "print('y.grad_fn: ', y.grad_fn)\n",
        "print('y.grad: ', y.grad)\n",
        "z=y*y*3\n",
        "out=z.mean()\n",
        "print(z, out)"
      ],
      "execution_count": 229,
      "outputs": [
        {
          "output_type": "stream",
          "text": [
            "tensor([[1., 1.],\n",
            "        [1., 1.]], requires_grad=True)\n",
            "x.grad_fn:  None\n",
            "x.grad:  None\n",
            "y.grad_fn:  <AddBackward0 object at 0x7f66ef80f240>\n",
            "y.grad:  None\n",
            "tensor([[27., 27.],\n",
            "        [27., 27.]], grad_fn=<MulBackward0>) tensor(27., grad_fn=<MeanBackward0>)\n"
          ],
          "name": "stdout"
        },
        {
          "output_type": "stream",
          "text": [
            "/usr/local/lib/python3.6/dist-packages/torch/tensor.py:746: UserWarning: The .grad attribute of a Tensor that is not a leaf Tensor is being accessed. Its .grad attribute won't be populated during autograd.backward(). If you indeed want the gradient for a non-leaf Tensor, use .retain_grad() on the non-leaf Tensor. If you access the non-leaf Tensor by mistake, make sure you access the leaf Tensor instead. See github.com/pytorch/pytorch/pull/30531 for more informations.\n",
            "  warnings.warn(\"The .grad attribute of a Tensor that is not a leaf Tensor is being accessed. Its .grad \"\n"
          ],
          "name": "stderr"
        }
      ]
    },
    {
      "cell_type": "code",
      "metadata": {
        "id": "oasOsIXQkOim",
        "colab_type": "code",
        "colab": {
          "base_uri": "https://localhost:8080/",
          "height": 89
        },
        "outputId": "4a2744ee-329b-4a85-a67a-abcb9337beef"
      },
      "source": [
        "# 이제 backprop을 진행해보자\n",
        "out.backward() # out.backward(torch.Tensor([1.0]))\n",
        "print(x.grad)\n",
        "# out = (1/4)*∑(3*(xi+2)^2) 이를 xi에 대하여 편미분 하면 4.5임을 알 수 있다.\n",
        "y.sum().backward() # backward는 scale variables에만 적용(?)가능 -> .sum()을 이용한다\n",
        "print(x.grad)\n",
        "# 마찬가지로 y = ∑(xi+2) 를 xi에 대하여 편미분하면 1 임을 알 수 있다 (누적됨)"
      ],
      "execution_count": 230,
      "outputs": [
        {
          "output_type": "stream",
          "text": [
            "tensor([[4.5000, 4.5000],\n",
            "        [4.5000, 4.5000]])\n",
            "tensor([[5.5000, 5.5000],\n",
            "        [5.5000, 5.5000]])\n"
          ],
          "name": "stdout"
        }
      ]
    },
    {
      "cell_type": "code",
      "metadata": {
        "id": "Z5ckosoPln4N",
        "colab_type": "code",
        "colab": {
          "base_uri": "https://localhost:8080/",
          "height": 53
        },
        "outputId": "f9e3b80e-f4ca-4dd0-dd88-fa469dd8c9ad"
      },
      "source": [
        "# Toy example y=2(x⊤)(x)\n",
        "#x=Variable(torch.arange(4.0))\n",
        "x = torch.arange(4.0)\n",
        "x.requires_grad_(True)\n",
        "print(x, x.grad)\n",
        "y=2*torch.dot(x, x)\n",
        "print(x, y)"
      ],
      "execution_count": 240,
      "outputs": [
        {
          "output_type": "stream",
          "text": [
            "tensor([0., 1., 2., 3.], requires_grad=True) None\n",
            "tensor([0., 1., 2., 3.], requires_grad=True) tensor(28., grad_fn=<MulBackward0>)\n"
          ],
          "name": "stdout"
        }
      ]
    },
    {
      "cell_type": "code",
      "metadata": {
        "id": "cOqOgIocndKN",
        "colab_type": "code",
        "colab": {}
      },
      "source": [
        "y.backward()"
      ],
      "execution_count": 241,
      "outputs": []
    },
    {
      "cell_type": "code",
      "metadata": {
        "id": "SIamE_fXoYf9",
        "colab_type": "code",
        "colab": {
          "base_uri": "https://localhost:8080/",
          "height": 53
        },
        "outputId": "5c1e4f01-a191-445d-bde4-244c1a8d612d"
      },
      "source": [
        "print(x.grad)\n",
        "print(x.grad==4*x)\n",
        "# y = ∑2*(xi)^2 를 xi에 대하여 편미분하면 4 xi 임을 알 수 있다."
      ],
      "execution_count": 242,
      "outputs": [
        {
          "output_type": "stream",
          "text": [
            "tensor([ 0.,  4.,  8., 12.])\n",
            "tensor([True, True, True, True])\n"
          ],
          "name": "stdout"
        }
      ]
    },
    {
      "cell_type": "code",
      "metadata": {
        "id": "Q7AMCcksoeRm",
        "colab_type": "code",
        "colab": {
          "base_uri": "https://localhost:8080/",
          "height": 53
        },
        "outputId": "eed0d2f8-a928-4e83-91f5-0127fbb76dd4"
      },
      "source": [
        "x.grad.zero_()\n",
        "print(x, x.grad)\n",
        "y=x.sum()\n",
        "y.backward()\n",
        "x.grad\n",
        "# y = ∑(xi) 를 xi에 대하여 편미분하면 1 임을 알 수 있다."
      ],
      "execution_count": 256,
      "outputs": [
        {
          "output_type": "stream",
          "text": [
            "tensor([0., 1., 2., 3.], requires_grad=True) tensor([0., 0., 0., 0.])\n"
          ],
          "name": "stdout"
        },
        {
          "output_type": "execute_result",
          "data": {
            "text/plain": [
              "tensor([1., 1., 1., 1.])"
            ]
          },
          "metadata": {
            "tags": []
          },
          "execution_count": 256
        }
      ]
    },
    {
      "cell_type": "code",
      "metadata": {
        "id": "o9BOHAfSoijc",
        "colab_type": "code",
        "colab": {
          "base_uri": "https://localhost:8080/",
          "height": 89
        },
        "outputId": "d4b68676-c793-4791-bf96-7c9d871ff19e"
      },
      "source": [
        "# 어떤 변수를 연산의 굴레에서 detaching 하고싶다면?\n",
        "x.grad.zero_()\n",
        "print(x.grad)\n",
        "y=x*x\n",
        "u=y.detach() # have no grad\n",
        "print(u)\n",
        "z=u*x # x * tensor([0., 1., 4., 9.]) : ∑(xi)*ui 미분 -> ui 이므로 u가 변화량 그 자체\n",
        "\n",
        "z.sum().backward()\n",
        "print(x.grad == u)\n",
        "print(x.grad)\n",
        "# u의 계산 결과가 x의 변화량에까지 영향을 미치지 않는다."
      ],
      "execution_count": 259,
      "outputs": [
        {
          "output_type": "stream",
          "text": [
            "tensor([0., 0., 0., 0.])\n",
            "tensor([0., 1., 4., 9.])\n",
            "tensor([True, True, True, True])\n",
            "tensor([0., 1., 4., 9.])\n"
          ],
          "name": "stdout"
        }
      ]
    },
    {
      "cell_type": "code",
      "metadata": {
        "id": "vbPZCL5zrLBI",
        "colab_type": "code",
        "colab": {
          "base_uri": "https://localhost:8080/",
          "height": 35
        },
        "outputId": "046097a4-32a7-44b3-d995-94525ab11d45"
      },
      "source": [
        "x.grad.zero_()\n",
        "y.sum().backward()\n",
        "x.grad == 2 * x"
      ],
      "execution_count": 260,
      "outputs": [
        {
          "output_type": "execute_result",
          "data": {
            "text/plain": [
              "tensor([True, True, True, True])"
            ]
          },
          "metadata": {
            "tags": []
          },
          "execution_count": 260
        }
      ]
    },
    {
      "cell_type": "markdown",
      "metadata": {
        "id": "vIttAUJVTjeH",
        "colab_type": "text"
      },
      "source": [
        "# 4. Html로 저장"
      ]
    },
    {
      "cell_type": "code",
      "metadata": {
        "id": "4ADFiqV1MRm-",
        "colab_type": "code",
        "colab": {
          "base_uri": "https://localhost:8080/",
          "height": 71
        },
        "outputId": "760d6737-c667-42a4-c6f5-1df003ff7b17"
      },
      "source": [
        "! ls '/content/gdrive/My Drive/Colab Notebooks/2.2데이터 조작.ipynb'\n",
        "! jupyter nbconvert --to html '/content/gdrive/My Drive/Colab Notebooks/2.2데이터 조작.ipynb'"
      ],
      "execution_count": 151,
      "outputs": [
        {
          "output_type": "stream",
          "text": [
            "'/content/gdrive/My Drive/Colab Notebooks/2.2데이터 조작.ipynb'\n",
            "[NbConvertApp] Converting notebook /content/gdrive/My Drive/Colab Notebooks/2.2데이터 조작.ipynb to html\n",
            "[NbConvertApp] Writing 332167 bytes to /content/gdrive/My Drive/Colab Notebooks/2.2데이터 조작.html\n"
          ],
          "name": "stdout"
        }
      ]
    }
  ]
}