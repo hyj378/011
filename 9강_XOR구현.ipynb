{
  "nbformat": 4,
  "nbformat_minor": 0,
  "metadata": {
    "colab": {
      "name": "9강 XOR구현.ipynb",
      "version": "0.3.2",
      "provenance": [],
      "collapsed_sections": [],
      "include_colab_link": true
    },
    "kernelspec": {
      "name": "python3",
      "display_name": "Python 3"
    }
  },
  "cells": [
    {
      "cell_type": "markdown",
      "metadata": {
        "id": "view-in-github",
        "colab_type": "text"
      },
      "source": [
        "<a href=\"https://colab.research.google.com/github/hyj378/011/blob/ML_basic_inyt/9%EA%B0%95_XOR%EA%B5%AC%ED%98%84.ipynb\" target=\"_parent\"><img src=\"https://colab.research.google.com/assets/colab-badge.svg\" alt=\"Open In Colab\"/></a>"
      ]
    },
    {
      "metadata": {
        "id": "gWdQLzqNKb6j",
        "colab_type": "text"
      },
      "cell_type": "markdown",
      "source": [
        "#XOR"
      ]
    },
    {
      "metadata": {
        "id": "nLAWp5bRKgQP",
        "colab_type": "code",
        "outputId": "54aec44c-fb2c-4121-c4d8-3fc440593076",
        "colab": {
          "base_uri": "https://localhost:8080/",
          "height": 580
        }
      },
      "cell_type": "code",
      "source": [
        "#선형 예측 Linear Regression ->hypothesis함수로 1차방정식 이용\n",
        "#분리 Logistic classification ->hypothesis함수로 sigmoid이용 (2종류 구분)\n",
        "#분리 Logistic classification ->hypothesis함수로 sofrmax이용 (다종류 구분)\n",
        "import tensorflow as tf\n",
        "import numpy as np\n",
        "x_data = np.array([[0, 0],[0, 1],[1, 0],[1, 1]], dtype=np.float32)\n",
        "y_data = np.array([[0], [1], [1], [0]], dtype=np.float32)\n",
        "\n",
        "X = tf.placeholder(tf.float32)\n",
        "Y = tf.placeholder(tf.float32)\n",
        "W = tf.Variable(tf.random_normal([2, 1]), name = 'weight')\n",
        "b = tf.Variable(tf.random_normal([1]), name='bias')\n",
        "\n",
        "hypothesis = tf.sigmoid(tf.matmul(X, W) + b)\n",
        "\n",
        "cost = -tf.reduce_mean(Y*tf.log(hypothesis) + (1-Y)*tf.log(1-hypothesis))\n",
        "train = tf.train.GradientDescentOptimizer(learning_rate=0.1).minimize(cost)\n",
        "\n",
        "predicted = tf.cast(hypothesis > 0.5, dtype=tf.float32)\n",
        "accuracy = tf.reduce_mean(tf.cast(tf.equal(predicted, Y), dtype=tf.float32))\n",
        "\n",
        "with tf.Session() as sess:\n",
        "  sess.run(tf.global_variables_initializer())\n",
        "  \n",
        "  for step in range(10001):\n",
        "    sess.run(train, feed_dict={X: x_data, Y: y_data})\n",
        "    if step % 1000 == 0:\n",
        "      print(step, sess.run(cost, feed_dict={X: x_data, Y:y_data}), sess.run(W))\n",
        "  h, c, a = sess.run([hypothesis, predicted, accuracy], feed_dict={X: x_data, Y:y_data})\n",
        "  print(\"\\nHypothesis: \", h, \"\\nCorrect: \", c, \"\\nAccuracy: \", a)"
      ],
      "execution_count": 0,
      "outputs": [
        {
          "output_type": "stream",
          "text": [
            "0 0.78359926 [[0.53903866]\n",
            " [1.58815   ]]\n",
            "1000 0.69318056 [[0.02130462]\n",
            " [0.02333232]]\n",
            "2000 0.6931472 [[0.00043613]\n",
            " [0.00043997]]\n",
            "3000 0.6931472 [[8.5803276e-06]\n",
            " [8.5869715e-06]]\n",
            "4000 0.6931472 [[1.596745e-07]\n",
            " [1.588678e-07]]\n",
            "5000 0.6931472 [[1.3285231e-07]\n",
            " [1.3204561e-07]]\n",
            "6000 0.6931472 [[1.3285231e-07]\n",
            " [1.3204561e-07]]\n",
            "7000 0.6931472 [[1.3285231e-07]\n",
            " [1.3204561e-07]]\n",
            "8000 0.6931472 [[1.3285231e-07]\n",
            " [1.3204561e-07]]\n",
            "9000 0.6931472 [[1.3285231e-07]\n",
            " [1.3204561e-07]]\n",
            "10000 0.6931472 [[1.3285231e-07]\n",
            " [1.3204561e-07]]\n",
            "\n",
            "Hypothesis:  [[0.5]\n",
            " [0.5]\n",
            " [0.5]\n",
            " [0.5]] \n",
            "Correct:  [[0.]\n",
            " [0.]\n",
            " [0.]\n",
            " [0.]] \n",
            "Accuracy:  0.5\n"
          ],
          "name": "stdout"
        }
      ]
    },
    {
      "metadata": {
        "id": "msFqB7_dSOm8",
        "colab_type": "text"
      },
      "cell_type": "markdown",
      "source": [
        "하나의 함수모델로 XOR을 분류하기 어렵다!"
      ]
    },
    {
      "metadata": {
        "id": "ugDoIPmSTip0",
        "colab_type": "text"
      },
      "cell_type": "markdown",
      "source": [
        "#AND / OR\n",
        "\n",
        "######밑바닥부터 시작하는 딥러닝 참조\n",
        "\n",
        "######가중치를 직접 주어 함수만들기"
      ]
    },
    {
      "metadata": {
        "id": "8Jqgbb54O1mY",
        "colab_type": "code",
        "colab": {}
      },
      "cell_type": "code",
      "source": [
        "def NOT(x1):\n",
        "    if x1 <= 0:\n",
        "    return 1\n",
        "  else:\n",
        "    return 0\n",
        "  \n",
        "def AND(x1, x2):\n",
        "  x = np.array([x1, x2])\n",
        "  w = np.array([0.5, 0.5])\n",
        "  b = -0.7\n",
        "  tmp = np.sum(w*x) + b\n",
        "  if tmp <= 0:\n",
        "    return 0\n",
        "  else:\n",
        "    return 1\n",
        "  \n",
        "def OR(x1 ,x2):\n",
        "  x = np.array([x1, x2])\n",
        "  w = np.array([0.5, 0.5])\n",
        "  b = -0.2\n",
        "  tmp = np.sum(x*w) + b\n",
        "  if tmp <= 0:\n",
        "    return 0\n",
        "  else:\n",
        "    return 1\n",
        "  \n",
        "def XOR(x1, x2):\n",
        "  s1 = AND(x1, x2)\n",
        "  s1 = NOT(s1)  #이거를 하나로 묶어 s1 = NAND(x1, x2)\n",
        "  s2 = OR(x1, x2)\n",
        "  y = AND(s1, s2)\n",
        "  return y"
      ],
      "execution_count": 0,
      "outputs": []
    },
    {
      "metadata": {
        "id": "YmyYpmcNWUvd",
        "colab_type": "code",
        "outputId": "6112612f-28b1-4b02-c814-fd87c3fe877a",
        "colab": {
          "base_uri": "https://localhost:8080/",
          "height": 5526
        }
      },
      "cell_type": "code",
      "source": [
        "import tensorflow as tf\n",
        "import numpy as np\n",
        "x_data = np.array([[0, 0],[0, 1],[1, 0],[1, 1]], dtype=np.float32)\n",
        "y_data = np.array([[0], [1], [1], [0]], dtype=np.float32)\n",
        "\n",
        "X = tf.placeholder(tf.float32, [None, 2])\n",
        "Y = tf.placeholder(tf.float32, [None, 1])\n",
        "\n",
        "W1 = tf.Variable(tf.random_normal([2, 2]), name='weight1')\n",
        "b1 = tf.Variable(tf.random_normal([2]), name='bias1')\n",
        "layer1 = tf.sigmoid(tf.matmul(X, W1) + b1)\n",
        "\n",
        "W2 = tf.Variable(tf.random_normal([2, 1]), name='weight2')\n",
        "b2 = tf.Variable(tf.random_normal([1]), name='bias2')\n",
        "hypothesis = tf.sigmoid(tf.matmul(layer1, W2) + b2)\n",
        "\n",
        "cost = -tf.reduce_mean(Y * tf.log(hypothesis) + (1 - Y) *\n",
        "                       tf.log(1 - hypothesis))\n",
        "\n",
        "train = tf.train.GradientDescentOptimizer(learning_rate=0.1).minimize(cost)\n",
        "predicted = tf.cast(hypothesis > 0.5, dtype=tf.float32)\n",
        "accuracy = tf.reduce_mean(tf.cast(tf.equal(predicted, Y), dtype=tf.float32))\n",
        "\n",
        "with tf.Session() as sess:\n",
        "    sess.run(tf.global_variables_initializer())\n",
        "\n",
        "    for step in range(100001): #100001회로 늘렸다\n",
        "        sess.run(train, feed_dict={X: x_data, Y: y_data})\n",
        "        if step % 1000 == 0:\n",
        "            print(step, sess.run(cost, feed_dict={\n",
        "                  X: x_data, Y: y_data}), sess.run([W1, W2]))\n",
        "\n",
        "    h, c, a = sess.run([hypothesis, predicted, accuracy],feed_dict={X: x_data, Y: y_data})\n",
        "    print(\"\\nHypothesis: \", h, \"\\nCorrect: \", c, \"\\nAccuracy: \", a)\n"
      ],
      "execution_count": 0,
      "outputs": [
        {
          "output_type": "stream",
          "text": [
            "0 1.0545385 [array([[ 0.42808506,  0.09939292],\n",
            "       [-0.1243186 ,  1.7933985 ]], dtype=float32), array([[ 0.07821158],\n",
            "       [-1.6252916 ]], dtype=float32)]\n",
            "1000 0.64218545 [array([[0.69036895, 1.7687551 ],\n",
            "       [0.23204991, 1.9073644 ]], dtype=float32), array([[ 0.8547142],\n",
            "       [-2.1259992]], dtype=float32)]\n",
            "2000 0.4072173 [array([[2.3193765, 3.070557 ],\n",
            "       [2.2161984, 3.0366983]], dtype=float32), array([[ 2.6975062],\n",
            "       [-4.045318 ]], dtype=float32)]\n",
            "3000 0.13060834 [array([[4.1887703, 3.9980526],\n",
            "       [4.171562 , 3.9871013]], dtype=float32), array([[ 5.56862 ],\n",
            "       [-6.172926]], dtype=float32)]\n",
            "4000 0.06459529 [array([[4.949399 , 4.439242 ],\n",
            "       [4.9409385, 4.434311 ]], dtype=float32), array([[ 7.0026193],\n",
            "       [-7.4916425]], dtype=float32)]\n",
            "5000 0.041272797 [array([[5.354852 , 4.6983385],\n",
            "       [5.349102 , 4.6953173]], dtype=float32), array([[ 7.866957],\n",
            "       [-8.34193 ]], dtype=float32)]\n",
            "6000 0.029907392 [array([[5.6195   , 4.8765182],\n",
            "       [5.615052 , 4.8743567]], dtype=float32), array([[ 8.476274],\n",
            "       [-8.955394]], dtype=float32)]\n",
            "7000 0.023298342 [array([[5.8120856, 5.0105047],\n",
            "       [5.8084106, 5.008818 ]], dtype=float32), array([[ 8.944402],\n",
            "       [-9.431428]], dtype=float32)]\n",
            "8000 0.019013615 [array([[5.961777 , 5.117057 ],\n",
            "       [5.9586124, 5.1156683]], dtype=float32), array([[ 9.323585],\n",
            "       [-9.818877]], dtype=float32)]\n",
            "9000 0.01602502 [array([[6.0833383, 5.2050714],\n",
            "       [6.08054  , 5.203888 ]], dtype=float32), array([[  9.641834],\n",
            "       [-10.144861]], dtype=float32)]\n",
            "10000 0.013828403 [array([[6.1851745, 5.2797933],\n",
            "       [6.18265  , 5.278758 ]], dtype=float32), array([[  9.915817],\n",
            "       [-10.425855]], dtype=float32)]\n",
            "11000 0.012149161 [array([[6.2724867, 5.3445525],\n",
            "       [6.2701735, 5.34363  ]], dtype=float32), array([[ 10.156237],\n",
            "       [-10.672561]], dtype=float32)]\n",
            "12000 0.010825714 [array([[6.348692 , 5.401591 ],\n",
            "       [6.346556 , 5.4007525]], dtype=float32), array([[ 10.370345],\n",
            "       [-10.892303]], dtype=float32)]\n",
            "13000 0.009756905 [array([[6.4161654, 5.4524746],\n",
            "       [6.41417  , 5.45171  ]], dtype=float32), array([[ 10.563292],\n",
            "       [-11.090318]], dtype=float32)]\n",
            "14000 0.008876385 [array([[6.4765973, 5.498357 ],\n",
            "       [6.474726 , 5.4976482]], dtype=float32), array([[ 10.738851],\n",
            "       [-11.270458]], dtype=float32)]\n",
            "15000 0.008138964 [array([[6.531247 , 5.540085 ],\n",
            "       [6.5294785, 5.5394263]], dtype=float32), array([[ 10.899883],\n",
            "       [-11.435636]], dtype=float32)]\n",
            "16000 0.00751256 [array([[6.581066 , 5.57832  ],\n",
            "       [6.579383 , 5.5777044]], dtype=float32), array([[ 11.048597],\n",
            "       [-11.588123]], dtype=float32)]\n",
            "17000 0.0069742408 [array([[6.6267996, 5.613583 ],\n",
            "       [6.6251955, 5.6130047]], dtype=float32), array([[ 11.18673  ],\n",
            "       [-11.7297125]], dtype=float32)]\n",
            "18000 0.006506671 [array([[6.669033 , 5.6462812],\n",
            "       [6.6674995, 5.645734 ]], dtype=float32), array([[ 11.315678],\n",
            "       [-11.861833]], dtype=float32)]\n",
            "19000 0.006096885 [array([[6.708236 , 5.6767497],\n",
            "       [6.7067647, 5.676227 ]], dtype=float32), array([[ 11.4365835],\n",
            "       [-11.985667 ]], dtype=float32)]\n",
            "20000 0.0057349326 [array([[6.7447867, 5.7052536],\n",
            "       [6.7433686, 5.704756 ]], dtype=float32), array([[ 11.550388],\n",
            "       [-12.102185]], dtype=float32)]\n",
            "21000 0.005412909 [array([[6.779023 , 5.732045 ],\n",
            "       [6.777648 , 5.7315702]], dtype=float32), array([[ 11.657886],\n",
            "       [-12.212177]], dtype=float32)]\n",
            "22000 0.005124619 [array([[6.811181 , 5.7572746],\n",
            "       [6.809857 , 5.756821 ]], dtype=float32), array([[ 11.759707],\n",
            "       [-12.316356]], dtype=float32)]\n",
            "23000 0.004865107 [array([[6.841488 , 5.781119 ],\n",
            "       [6.840201 , 5.7806773]], dtype=float32), array([[ 11.85645 ],\n",
            "       [-12.415268]], dtype=float32)]\n",
            "24000 0.0046302164 [array([[6.8701634, 5.8037205],\n",
            "       [6.8689127, 5.8032994]], dtype=float32), array([[ 11.948596],\n",
            "       [-12.509459]], dtype=float32)]\n",
            "25000 0.0044167563 [array([[6.897334 , 5.8251953],\n",
            "       [6.8961167, 5.8247867]], dtype=float32), array([[ 12.036528],\n",
            "       [-12.599301]], dtype=float32)]\n",
            "26000 0.004221766 [array([[6.923135 , 5.8456545],\n",
            "       [6.921953 , 5.845259 ]], dtype=float32), array([[ 12.12065 ],\n",
            "       [-12.685223]], dtype=float32)]\n",
            "27000 0.0040431237 [array([[6.9477296, 5.8651733],\n",
            "       [6.9465847, 5.864791 ]], dtype=float32), array([[ 12.20125 ],\n",
            "       [-12.767557]], dtype=float32)]\n",
            "28000 0.0038787702 [array([[6.971179 , 5.8838496],\n",
            "       [6.9700594, 5.883483 ]], dtype=float32), array([[ 12.278651],\n",
            "       [-12.846511]], dtype=float32)]\n",
            "29000 0.0037270691 [array([[6.9936075, 5.9017234],\n",
            "       [6.9925137, 5.9013634]], dtype=float32), array([[ 12.353047],\n",
            "       [-12.922424]], dtype=float32)]\n",
            "30000 0.003586698 [array([[7.015089 , 5.9188747],\n",
            "       [7.0140214, 5.9185276]], dtype=float32), array([[ 12.424652],\n",
            "       [-12.995507]], dtype=float32)]\n",
            "31000 0.0034564112 [array([[7.0357084, 5.9353433],\n",
            "       [7.0346665, 5.9350033]], dtype=float32), array([[ 12.49371 ],\n",
            "       [-13.065977]], dtype=float32)]\n",
            "32000 0.0033351127 [array([[7.0554996, 5.9512215],\n",
            "       [7.0544705, 5.9508867]], dtype=float32), array([[ 12.560408],\n",
            "       [-13.133928]], dtype=float32)]\n",
            "33000 0.003221947 [array([[7.074533 , 5.9665284],\n",
            "       [7.07353  , 5.966207 ]], dtype=float32), array([[ 12.624898],\n",
            "       [-13.199639]], dtype=float32)]\n",
            "34000 0.0031161641 [array([[7.092878 , 5.9812446],\n",
            "       [7.091889 , 5.9809313]], dtype=float32), array([[ 12.687257],\n",
            "       [-13.263227]], dtype=float32)]\n",
            "35000 0.0030169846 [array([[7.1105914, 5.995466 ],\n",
            "       [7.10963  , 5.995159 ]], dtype=float32), array([[ 12.747682],\n",
            "       [-13.324792]], dtype=float32)]\n",
            "36000 0.0029238379 [array([[7.1276402, 6.009235 ],\n",
            "       [7.126693 , 6.008934 ]], dtype=float32), array([[ 12.8062935],\n",
            "       [-13.384447 ]], dtype=float32)]\n",
            "37000 0.0028363194 [array([[7.144137 , 6.0225763],\n",
            "       [7.1432037, 6.0222845]], dtype=float32), array([[ 12.863111],\n",
            "       [-13.442316]], dtype=float32)]\n",
            "38000 0.0027538296 [array([[7.160105, 6.035451],\n",
            "       [7.159187, 6.035159]], dtype=float32), array([[ 12.918326],\n",
            "       [-13.498539]], dtype=float32)]\n",
            "39000 0.0026757694 [array([[7.175568 , 6.0479097],\n",
            "       [7.174664 , 6.047626 ]], dtype=float32), array([[ 12.97209 ],\n",
            "       [-13.553259]], dtype=float32)]\n",
            "40000 0.0026022128 [array([[7.190556 , 6.0600214],\n",
            "       [7.1896667, 6.059744 ]], dtype=float32), array([[ 13.024263],\n",
            "       [-13.606343]], dtype=float32)]\n",
            "41000 0.0025323667 [array([[7.2050934, 6.0718465],\n",
            "       [7.204219 , 6.0715747]], dtype=float32), array([[ 13.075166],\n",
            "       [-13.658161]], dtype=float32)]\n",
            "42000 0.0024662302 [array([[7.219218 , 6.0832906],\n",
            "       [7.2183585, 6.083019 ]], dtype=float32), array([[ 13.124715],\n",
            "       [-13.708501]], dtype=float32)]\n",
            "43000 0.0024034146 [array([[7.232961 , 6.0943937],\n",
            "       [7.2321177, 6.0941305]], dtype=float32), array([[ 13.172988],\n",
            "       [-13.757629]], dtype=float32)]\n",
            "44000 0.00234365 [array([[7.2463126, 6.105289 ],\n",
            "       [7.245469 , 6.105033 ]], dtype=float32), array([[ 13.220139],\n",
            "       [-13.805593]], dtype=float32)]\n",
            "45000 0.0022867718 [array([[7.25924  , 6.1157794],\n",
            "       [7.2584114, 6.1155233]], dtype=float32), array([[ 13.266175],\n",
            "       [-13.85239 ]], dtype=float32)]\n",
            "46000 0.0022325853 [array([[7.2718716, 6.126077 ],\n",
            "       [7.27106  , 6.125828 ]], dtype=float32), array([[ 13.311143],\n",
            "       [-13.898012]], dtype=float32)]\n",
            "47000 0.0021808508 [array([[7.284253 , 6.1360908],\n",
            "       [7.283456 , 6.1358414]], dtype=float32), array([[ 13.3550825],\n",
            "       [-13.9426155]], dtype=float32)]\n",
            "48000 0.0021315387 [array([[7.296174 , 6.14589  ],\n",
            "       [7.295377 , 6.1456466]], dtype=float32), array([[ 13.398009],\n",
            "       [-13.986222]], dtype=float32)]\n",
            "49000 0.0020842745 [array([[7.307889 , 6.155427 ],\n",
            "       [7.307108 , 6.1551833]], dtype=float32), array([[ 13.439999],\n",
            "       [-14.028884]], dtype=float32)]\n",
            "50000 0.0020390288 [array([[7.319333 , 6.1647983],\n",
            "       [7.318552 , 6.164564 ]], dtype=float32), array([[ 13.481076],\n",
            "       [-14.070643]], dtype=float32)]\n",
            "51000 0.0019958154 [array([[7.3304367, 6.173858 ],\n",
            "       [7.329672 , 6.173624 ]], dtype=float32), array([[ 13.521274],\n",
            "       [-14.111545]], dtype=float32)]\n",
            "52000 0.0019542617 [array([[7.341404 , 6.182867 ],\n",
            "       [7.340639 , 6.1826406]], dtype=float32), array([[ 13.56068 ],\n",
            "       [-14.151599]], dtype=float32)]\n",
            "53000 0.0019145162 [array([[7.351971 , 6.19145  ],\n",
            "       [7.351223 , 6.1912236]], dtype=float32), array([[ 13.599312],\n",
            "       [-14.190734]], dtype=float32)]\n",
            "54000 0.0018762503 [array([[7.3624616, 6.200033 ],\n",
            "       [7.3617134, 6.1998067]], dtype=float32), array([[ 13.637242],\n",
            "       [-14.229137]], dtype=float32)]\n",
            "55000 0.0018395237 [array([[7.3725686, 6.208355 ],\n",
            "       [7.3718376, 6.208135 ]], dtype=float32), array([[ 13.674436],\n",
            "       [-14.266823]], dtype=float32)]\n",
            "56000 0.0018041419 [array([[7.382582 , 6.216461 ],\n",
            "       [7.381851 , 6.2162414]], dtype=float32), array([[ 13.710784],\n",
            "       [-14.303893]], dtype=float32)]\n",
            "57000 0.0017700155 [array([[7.3923135, 6.2245674],\n",
            "       [7.3916   , 6.2243476]], dtype=float32), array([[ 13.746537],\n",
            "       [-14.340133]], dtype=float32)]\n",
            "58000 0.0017372784 [array([[7.40185  , 6.2323885],\n",
            "       [7.401137 , 6.2321773]], dtype=float32), array([[ 13.781817],\n",
            "       [-14.37568 ]], dtype=float32)]\n",
            "59000 0.001705677 [array([[7.411318 , 6.240018 ],\n",
            "       [7.410622 , 6.2398067]], dtype=float32), array([[ 13.81615 ],\n",
            "       [-14.410737]], dtype=float32)]\n",
            "60000 0.0016752111 [array([[7.4203777, 6.2476473],\n",
            "       [7.419682 , 6.247436 ]], dtype=float32), array([[ 13.850053],\n",
            "       [-14.445069]], dtype=float32)]\n",
            "61000 0.0016456716 [array([[7.4294376, 6.2551064],\n",
            "       [7.428742 , 6.254905 ]], dtype=float32), array([[ 13.883431],\n",
            "       [-14.478761]], dtype=float32)]\n",
            "62000 0.0016173269 [array([[7.4382734, 6.262259 ],\n",
            "       [7.4375973, 6.262058 ]], dtype=float32), array([[ 13.916018],\n",
            "       [-14.512135]], dtype=float32)]\n",
            "63000 0.0015899084 [array([[7.4468565, 6.2694116],\n",
            "       [7.4461803, 6.2692103]], dtype=float32), array([[ 13.948412 ],\n",
            "       [-14.5445595]], dtype=float32)]\n",
            "64000 0.0015633415 [array([[7.4554396, 6.276564 ],\n",
            "       [7.4547634, 6.276363 ]], dtype=float32), array([[ 13.979883],\n",
            "       [-14.576732]], dtype=float32)]\n",
            "65000 0.0015376558 [array([[7.4637923, 6.2832966],\n",
            "       [7.463135 , 6.283105 ]], dtype=float32), array([[ 14.011174],\n",
            "       [-14.608203]], dtype=float32)]\n",
            "66000 0.0015128066 [array([[7.4718986, 6.2899723],\n",
            "       [7.471241 , 6.2897806]], dtype=float32), array([[ 14.041692],\n",
            "       [-14.639328]], dtype=float32)]\n",
            "67000 0.0014886892 [array([[7.480005 , 6.296648 ],\n",
            "       [7.479347 , 6.2964563]], dtype=float32), array([[ 14.0719795],\n",
            "       [-14.669846 ]], dtype=float32)]\n",
            "68000 0.0014654231 [array([[7.488034 , 6.3033237],\n",
            "       [7.4873953, 6.303132 ]], dtype=float32), array([[ 14.101543],\n",
            "       [-14.699979]], dtype=float32)]\n",
            "69000 0.0014428142 [array([[7.495663 , 6.30965  ],\n",
            "       [7.4950247, 6.309467 ]], dtype=float32), array([[ 14.131028],\n",
            "       [-14.729543]], dtype=float32)]\n",
            "70000 0.0014209221 [array([[7.5032926, 6.315849 ],\n",
            "       [7.502654 , 6.3156657]], dtype=float32), array([[ 14.159638],\n",
            "       [-14.758841]], dtype=float32)]\n",
            "71000 0.0013995378 [array([[7.510922 , 6.3220477],\n",
            "       [7.5102835, 6.3218646]], dtype=float32), array([[ 14.188249],\n",
            "       [-14.787451]], dtype=float32)]\n",
            "72000 0.0013788554 [array([[7.518333 , 6.3282466],\n",
            "       [7.517715 , 6.3280635]], dtype=float32), array([[ 14.216012],\n",
            "       [-14.816061]], dtype=float32)]\n",
            "73000 0.001358845 [array([[7.5254855, 6.3344455],\n",
            "       [7.5248675, 6.3342624]], dtype=float32), array([[ 14.243669 ],\n",
            "       [-14.8437195]], dtype=float32)]\n",
            "74000 0.0013393869 [array([[7.532638 , 6.340292 ],\n",
            "       [7.53202  , 6.3401165]], dtype=float32), array([[ 14.270903],\n",
            "       [-14.871376]], dtype=float32)]\n",
            "75000 0.0013205113 [array([[7.5397906, 6.346014 ],\n",
            "       [7.5391726, 6.3458385]], dtype=float32), array([[ 14.2976055],\n",
            "       [-14.89845  ]], dtype=float32)]\n",
            "76000 0.0013020239 [array([[7.5468316, 6.351736 ],\n",
            "       [7.5462327, 6.3515606]], dtype=float32), array([[ 14.324308],\n",
            "       [-14.925153]], dtype=float32)]\n",
            "77000 0.0012841338 [array([[7.5535073, 6.357458 ],\n",
            "       [7.5529084, 6.3572826]], dtype=float32), array([[ 14.350182],\n",
            "       [-14.95184 ]], dtype=float32)]\n",
            "78000 0.0012667362 [array([[7.560183 , 6.36318  ],\n",
            "       [7.559584 , 6.3630047]], dtype=float32), array([[ 14.375931],\n",
            "       [-14.97759 ]], dtype=float32)]\n",
            "79000 0.0012496375 [array([[7.566859 , 6.3688717],\n",
            "       [7.56626  , 6.3687053]], dtype=float32), array([[ 14.40159 ],\n",
            "       [-15.003339]], dtype=float32)]\n",
            "80000 0.0012331209 [array([[7.5735345, 6.374117 ],\n",
            "       [7.5729356, 6.3739505]], dtype=float32), array([[ 14.426386],\n",
            "       [-15.028902]], dtype=float32)]\n",
            "81000 0.0012171267 [array([[7.5799947, 6.379362 ],\n",
            "       [7.5794177, 6.3791957]], dtype=float32), array([[ 14.451181],\n",
            "       [-15.053698]], dtype=float32)]\n",
            "82000 0.0012013717 [array([[7.5861936, 6.3846073],\n",
            "       [7.5856166, 6.384441 ]], dtype=float32), array([[ 14.475864],\n",
            "       [-15.078493]], dtype=float32)]\n",
            "83000 0.0011861539 [array([[7.5923924, 6.3898525],\n",
            "       [7.5918155, 6.389686 ]], dtype=float32), array([[ 14.499706],\n",
            "       [-15.103068]], dtype=float32)]\n",
            "84000 0.0011712795 [array([[7.5985913, 6.3950977],\n",
            "       [7.5980144, 6.3949313]], dtype=float32), array([[ 14.523548],\n",
            "       [-15.12691 ]], dtype=float32)]\n",
            "85000 0.0011566589 [array([[7.60479  , 6.400343 ],\n",
            "       [7.604213 , 6.4001765]], dtype=float32), array([[ 14.54739 ],\n",
            "       [-15.150752]], dtype=float32)]\n",
            "86000 0.0011424413 [array([[7.610989 , 6.405201 ],\n",
            "       [7.610412 , 6.4050446]], dtype=float32), array([[ 14.570467],\n",
            "       [-15.174594]], dtype=float32)]\n",
            "87000 0.0011287163 [array([[7.6167517, 6.4099693],\n",
            "       [7.6161947, 6.409813 ]], dtype=float32), array([[ 14.593355],\n",
            "       [-15.197501]], dtype=float32)]\n",
            "88000 0.0011151703 [array([[7.6224737, 6.4147377],\n",
            "       [7.621917 , 6.4145813]], dtype=float32), array([[ 14.616243],\n",
            "       [-15.220389]], dtype=float32)]\n",
            "89000 0.0011019381 [array([[7.628196 , 6.419506 ],\n",
            "       [7.627639 , 6.4193497]], dtype=float32), array([[ 14.638651],\n",
            "       [-15.243278]], dtype=float32)]\n",
            "90000 0.0010891235 [array([[7.633918 , 6.4242744],\n",
            "       [7.633361 , 6.424118 ]], dtype=float32), array([[ 14.660585 ],\n",
            "       [-15.2657795]], dtype=float32)]\n",
            "91000 0.0010765778 [array([[7.63964  , 6.429043 ],\n",
            "       [7.639083 , 6.4288864]], dtype=float32), array([[ 14.68252 ],\n",
            "       [-15.287714]], dtype=float32)]\n",
            "92000 0.0010641812 [array([[7.645362, 6.433811],\n",
            "       [7.644805, 6.433655]], dtype=float32), array([[ 14.704454 ],\n",
            "       [-15.3096485]], dtype=float32)]\n",
            "93000 0.0010521131 [array([[7.6508617, 6.4385448],\n",
            "       [7.6503224, 6.4383955]], dtype=float32), array([[ 14.7259655],\n",
            "       [-15.331583 ]], dtype=float32)]\n",
            "94000 0.0010404927 [array([[7.656107 , 6.4428363],\n",
            "       [7.6555676, 6.442687 ]], dtype=float32), array([[ 14.746946],\n",
            "       [-15.352895]], dtype=float32)]\n",
            "95000 0.0010290663 [array([[7.661352 , 6.447128 ],\n",
            "       [7.660813 , 6.4469786]], dtype=float32), array([[ 14.767927],\n",
            "       [-15.373876]], dtype=float32)]\n",
            "96000 0.0010177295 [array([[7.6665974, 6.4514194],\n",
            "       [7.666058 , 6.45127  ]], dtype=float32), array([[ 14.788908],\n",
            "       [-15.394856]], dtype=float32)]\n",
            "97000 0.0010066464 [array([[7.6718426, 6.455711 ],\n",
            "       [7.6713033, 6.4555616]], dtype=float32), array([[ 14.809551],\n",
            "       [-15.415837]], dtype=float32)]\n",
            "98000 0.0009959216 [array([[7.677088 , 6.4600024],\n",
            "       [7.6765485, 6.459853 ]], dtype=float32), array([[ 14.829578],\n",
            "       [-15.436459]], dtype=float32)]\n",
            "99000 0.0009854204 [array([[7.682333 , 6.464294 ],\n",
            "       [7.6817937, 6.4641447]], dtype=float32), array([[ 14.849606],\n",
            "       [-15.456486]], dtype=float32)]\n",
            "100000 0.0009749941 [array([[7.687578 , 6.4685855],\n",
            "       [7.687039 , 6.4684362]], dtype=float32), array([[ 14.869633],\n",
            "       [-15.476513]], dtype=float32)]\n",
            "\n",
            "Hypothesis:  [[1.2505881e-03]\n",
            " [9.9912471e-01]\n",
            " [9.9912483e-01]\n",
            " [8.9698884e-04]] \n",
            "Correct:  [[0.]\n",
            " [1.]\n",
            " [1.]\n",
            " [0.]] \n",
            "Accuracy:  1.0\n"
          ],
          "name": "stdout"
        }
      ]
    },
    {
      "metadata": {
        "id": "UagzScIFf90o",
        "colab_type": "text"
      },
      "cell_type": "markdown",
      "source": [
        "강의대로 했을때 계속 정확도가 0.5로 나왔는데 학습횟수를 늘리거나  공개된 코드처럼  random seed를777로 하면 1.0로 나온다"
      ]
    },
    {
      "metadata": {
        "id": "WSHeKfsYgP4Z",
        "colab_type": "text"
      },
      "cell_type": "markdown",
      "source": [
        "##Wide NN for XOR"
      ]
    },
    {
      "metadata": {
        "id": "ZCbLUfq1gPMS",
        "colab_type": "code",
        "outputId": "f0a78104-2338-4823-b3c7-686bb661457c",
        "colab": {
          "base_uri": "https://localhost:8080/",
          "height": 193
        }
      },
      "cell_type": "code",
      "source": [
        "import tensorflow as tf\n",
        "import numpy as np\n",
        "\n",
        "tf.set_random_seed(777)\n",
        "\n",
        "x_data = np.array([[0, 0],[0, 1],[1, 0],[1, 1]], dtype=np.float32)\n",
        "y_data = np.array([[0], [1], [1], [0]], dtype=np.float32)\n",
        "\n",
        "X = tf.placeholder(tf.float32, [None, 2])\n",
        "Y = tf.placeholder(tf.float32, [None, 1])\n",
        "\n",
        "W1 = tf.Variable(tf.random_normal([2, 10]), name='weight1')\n",
        "b1 = tf.Variable(tf.random_normal([10]), name='bias1')\n",
        "layer1 = tf.sigmoid(tf.matmul(X, W1) + b1)\n",
        "\n",
        "W2 = tf.Variable(tf.random_normal([10, 1]), name='weight2')\n",
        "b2 = tf.Variable(tf.random_normal([1]), name='bias2')\n",
        "hypothesis = tf.sigmoid(tf.matmul(layer1, W2) + b2)\n",
        "\n",
        "cost = -tf.reduce_mean(Y * tf.log(hypothesis) + (1 - Y) *\n",
        "                       tf.log(1 - hypothesis))\n",
        "\n",
        "train = tf.train.GradientDescentOptimizer(learning_rate=0.1).minimize(cost)\n",
        "predicted = tf.cast(hypothesis > 0.5, dtype=tf.float32)\n",
        "accuracy = tf.reduce_mean(tf.cast(tf.equal(predicted, Y), dtype=tf.float32))\n",
        "\n",
        "with tf.Session() as sess:\n",
        "    sess.run(tf.global_variables_initializer())\n",
        "\n",
        "    for step in range(10001):\n",
        "        sess.run(train, feed_dict={X: x_data, Y: y_data})\n",
        "\n",
        "    h, c, a = sess.run([hypothesis, predicted, accuracy],feed_dict={X: x_data, Y: y_data})\n",
        "    print(\"\\nHypothesis: \", h, \"\\nCorrect: \", c, \"\\nAccuracy: \", a)\n"
      ],
      "execution_count": 0,
      "outputs": [
        {
          "output_type": "stream",
          "text": [
            "\n",
            "Hypothesis:  [[0.00507385]\n",
            " [0.9945274 ]\n",
            " [0.9938022 ]\n",
            " [0.00704323]] \n",
            "Correct:  [[0.]\n",
            " [1.]\n",
            " [1.]\n",
            " [0.]] \n",
            "Accuracy:  1.0\n"
          ],
          "name": "stdout"
        }
      ]
    },
    {
      "metadata": {
        "id": "woyUok-GhblR",
        "colab_type": "text"
      },
      "cell_type": "markdown",
      "source": [
        "##Deep NN for XOR"
      ]
    },
    {
      "metadata": {
        "id": "L6NmeanKhEBz",
        "colab_type": "code",
        "outputId": "79eadf22-0562-49ab-a747-dd932ba723ad",
        "colab": {
          "base_uri": "https://localhost:8080/",
          "height": 193
        }
      },
      "cell_type": "code",
      "source": [
        "import tensorflow as tf\n",
        "import numpy as np\n",
        "\n",
        "tf.set_random_seed(777)\n",
        "\n",
        "x_data = np.array([[0, 0],[0, 1],[1, 0],[1, 1]], dtype=np.float32)\n",
        "y_data = np.array([[0], [1], [1], [0]], dtype=np.float32)\n",
        "\n",
        "X = tf.placeholder(tf.float32, [None, 2])\n",
        "Y = tf.placeholder(tf.float32, [None, 1])\n",
        "\n",
        "W1 = tf.Variable(tf.random_normal([2, 10]), name='weight1')\n",
        "b1 = tf.Variable(tf.random_normal([10]), name='bias1')\n",
        "layer1 = tf.sigmoid(tf.matmul(X, W1) + b1)\n",
        "\n",
        "W2 = tf.Variable(tf.random_normal([10, 10]), name='weight2')\n",
        "b2 = tf.Variable(tf.random_normal([10]), name='bias2')\n",
        "layer2 = tf.sigmoid(tf.matmul(layer1, W2) + b2)\n",
        "\n",
        "W3 = tf.Variable(tf.random_normal([10, 10]), name='weight3')\n",
        "b3 = tf.Variable(tf.random_normal([10]), name='bias3')\n",
        "layer3 = tf.sigmoid(tf.matmul(layer2, W3) + b3)\n",
        "\n",
        "W4 = tf.Variable(tf.random_normal([10, 1]), name='weight4')\n",
        "b4 = tf.Variable(tf.random_normal([1]), name='bias4')\n",
        "hypothesis = tf.sigmoid(tf.matmul(layer3, W4) + b4)\n",
        "\n",
        "cost = -tf.reduce_mean(Y * tf.log(hypothesis) + (1 - Y) *\n",
        "                       tf.log(1 - hypothesis))\n",
        "\n",
        "train = tf.train.GradientDescentOptimizer(learning_rate=0.1).minimize(cost)\n",
        "predicted = tf.cast(hypothesis > 0.5, dtype=tf.float32)\n",
        "accuracy = tf.reduce_mean(tf.cast(tf.equal(predicted, Y), dtype=tf.float32))\n",
        "\n",
        "with tf.Session() as sess:\n",
        "    sess.run(tf.global_variables_initializer())\n",
        "\n",
        "    for step in range(10001):\n",
        "        sess.run(train, feed_dict={X: x_data, Y: y_data})\n",
        "\n",
        "    h, c, a = sess.run([hypothesis, predicted, accuracy],feed_dict={X: x_data, Y: y_data})\n",
        "    print(\"\\nHypothesis: \", h, \"\\nCorrect: \", c, \"\\nAccuracy: \", a)\n"
      ],
      "execution_count": 0,
      "outputs": [
        {
          "output_type": "stream",
          "text": [
            "\n",
            "Hypothesis:  [[5.8153545e-04]\n",
            " [9.9895930e-01]\n",
            " [9.9862421e-01]\n",
            " [1.4965999e-03]] \n",
            "Correct:  [[0.]\n",
            " [1.]\n",
            " [1.]\n",
            " [0.]] \n",
            "Accuracy:  1.0\n"
          ],
          "name": "stdout"
        }
      ]
    },
    {
      "metadata": {
        "id": "UMylzG4niTm3",
        "colab_type": "text"
      },
      "cell_type": "markdown",
      "source": [
        "##exercise"
      ]
    },
    {
      "metadata": {
        "id": "4cp1L6gDiE1q",
        "colab_type": "code",
        "outputId": "c5387573-e261-4b2d-aee2-3d08755d00ce",
        "colab": {
          "base_uri": "https://localhost:8080/",
          "height": 87
        }
      },
      "cell_type": "code",
      "source": [
        "import tensorflow as tf\n",
        "import numpy as np\n",
        "old_v = tf.logging.get_verbosity()\n",
        "tf.logging.set_verbosity(tf.logging.ERROR)\n",
        "\n",
        "from tensorflow.examples.tutorials.mnist import input_data\n",
        "mnist = input_data.read_data_sets(\"MNIST_data/\", one_hot = True)"
      ],
      "execution_count": 0,
      "outputs": [
        {
          "output_type": "stream",
          "text": [
            "Extracting MNIST_data/train-images-idx3-ubyte.gz\n",
            "Extracting MNIST_data/train-labels-idx1-ubyte.gz\n",
            "Extracting MNIST_data/t10k-images-idx3-ubyte.gz\n",
            "Extracting MNIST_data/t10k-labels-idx1-ubyte.gz\n"
          ],
          "name": "stdout"
        }
      ]
    },
    {
      "metadata": {
        "id": "BjHG1BVUiyLy",
        "colab_type": "code",
        "colab": {}
      },
      "cell_type": "code",
      "source": [
        "nb_classes = 10\n",
        "learning_rate = 0.1\n",
        "\n",
        "X = tf.placeholder(tf.float32, [None, 784])\n",
        "Y = tf.placeholder(tf.float32, [None, nb_classes]) #one_hot\n",
        "\n",
        "W1 = tf.Variable(tf.random_normal([784, 100]), name = 'weight1')\n",
        "b1 = tf.Variable(tf.random_normal([100]), name = 'bias1')\n",
        "layer1 = tf.nn.softmax(tf.matmul(X, W1) + b1)\n",
        "\n",
        "W2 = tf.Variable(tf.random_normal([100, 100]), name = 'weight2')\n",
        "b2 = tf.Variable(tf.random_normal([100]), name = 'bias2')\n",
        "layer2 = tf.nn.softmax(tf.matmul(layer1, W2) + b2)\n",
        "\n",
        "W3 = tf.Variable(tf.random_normal([100, 50]), name = 'weight3')\n",
        "b3 = tf.Variable(tf.random_normal([50]), name = 'bias3')\n",
        "layer3 = tf.nn.softmax(tf.matmul(layer2, W3) + b3)\n",
        "\n",
        "W4 = tf.Variable(tf.random_normal([50, nb_classes]), name = 'weight4')\n",
        "b4 = tf.Variable(tf.random_normal([nb_classes]), name = 'bias4')\n",
        "hypothesis = tf.nn.softmax(tf.matmul(layer3, W4) + b4)\n",
        "\n",
        "cost = tf.reduce_mean(-tf.reduce_sum(Y * tf.log(hypothesis), axis = 1))\n",
        "train = tf.train.GradientDescentOptimizer(learning_rate = learning_rate).minimize(cost)\n",
        "\n",
        "is_correct = tf.equal(tf.arg_max(hypothesis, 1), tf.arg_max(Y, 1))\n",
        "accuracy = tf.reduce_mean(tf.cast(is_correct, tf.float32))"
      ],
      "execution_count": 0,
      "outputs": []
    },
    {
      "metadata": {
        "id": "BreHhey5l_LA",
        "colab_type": "code",
        "outputId": "3df29a5f-0dbf-4869-ecf8-d3e8e4e1bbd5",
        "colab": {
          "base_uri": "https://localhost:8080/",
          "height": 351
        }
      },
      "cell_type": "code",
      "source": [
        "#arg_max의 원소 1은 차원에 대한 원소!\n",
        "a = [#0차원 \n",
        "    [ #1차원\n",
        "        [ #2차원\n",
        "            [1,2,3,4],\n",
        "            [9,10,11,12] ,\n",
        "            [5,6,7,8],\n",
        "        ],\n",
        "        [ #2차원\n",
        "            [13,14,15,16],#3차원\n",
        "            [17,18,19,20], \n",
        "            [21,22,25,24]\n",
        "        ]\n",
        "    ]\n",
        "]\n",
        "print(np.array(a).ndim)\n",
        "\n",
        "with tf.Session() as sess:\n",
        "  b = tf.arg_max(a, 0).eval()\n",
        "  print(b, '\\n')\n",
        "  \n",
        "  c = tf.arg_max(a, 1).eval()\n",
        "  print(c, '\\n')\n",
        "  \n",
        "  d = tf.arg_max(a, 2).eval()\n",
        "  print(d, '\\n')\n",
        "  \n",
        "  e = tf.arg_max(a, 3).eval()\n",
        "  print(e, '\\n')\n",
        "  "
      ],
      "execution_count": 0,
      "outputs": [
        {
          "output_type": "stream",
          "text": [
            "4\n",
            "[[[0 0 0 0]\n",
            "  [0 0 0 0]\n",
            "  [0 0 0 0]]\n",
            "\n",
            " [[0 0 0 0]\n",
            "  [0 0 0 0]\n",
            "  [0 0 0 0]]] \n",
            "\n",
            "[[[1 1 1 1]\n",
            "  [1 1 1 1]\n",
            "  [1 1 1 1]]] \n",
            "\n",
            "[[[1 1 1 1]\n",
            "  [2 2 2 2]]] \n",
            "\n",
            "[[[3 3 3]\n",
            "  [3 3 2]]] \n",
            "\n"
          ],
          "name": "stdout"
        }
      ]
    },
    {
      "metadata": {
        "id": "bcs9rndAmzTB",
        "colab_type": "code",
        "outputId": "6ee69046-f3fe-4aff-858c-0f2862091f41",
        "colab": {
          "base_uri": "https://localhost:8080/",
          "height": 334
        }
      },
      "cell_type": "code",
      "source": [
        "training_epochs = 15\n",
        "batch_size = 100\n",
        "\n",
        "with tf.Session() as sess:\n",
        "  sess.run(tf.global_variables_initializer())\n",
        "  for epoch in range(training_epochs):\n",
        "    avg_cost=0\n",
        "    total_batch = int(mnist.train.num_examples/batch_size)\n",
        "    \n",
        "    for step in range(total_batch):\n",
        "      batch_xs, batch_ys = mnist.train.next_batch(batch_size)\n",
        "      c, _ =sess.run([cost, train], feed_dict={X: batch_xs, Y: batch_ys})\n",
        "      avg_cost += c/total_batch\n",
        "      \n",
        "    print('Epoch: ', '%04d'%(epoch+1), '회차 시도', 'cost =','{:.9f}.'.format(avg_cost)) \n",
        "  print('학습종료\\n')\n",
        "  \n",
        "  print('Accuracy: ', accuracy.eval(session=sess, feed_dict={X : mnist.test.images, Y: mnist.test.labels}))"
      ],
      "execution_count": 0,
      "outputs": [
        {
          "output_type": "stream",
          "text": [
            "Epoch:  0001 회차 시도 cost = 2.361468370.\n",
            "Epoch:  0002 회차 시도 cost = 2.299384060.\n",
            "Epoch:  0003 회차 시도 cost = 2.296324273.\n",
            "Epoch:  0004 회차 시도 cost = 2.292810603.\n",
            "Epoch:  0005 회차 시도 cost = 2.287308013.\n",
            "Epoch:  0006 회차 시도 cost = 2.277925830.\n",
            "Epoch:  0007 회차 시도 cost = 2.261516134.\n",
            "Epoch:  0008 회차 시도 cost = 2.231581639.\n",
            "Epoch:  0009 회차 시도 cost = 2.175398827.\n",
            "Epoch:  0010 회차 시도 cost = 2.074475345.\n",
            "Epoch:  0011 회차 시도 cost = 1.948511219.\n",
            "Epoch:  0012 회차 시도 cost = 1.801095715.\n",
            "Epoch:  0013 회차 시도 cost = 1.691067862.\n",
            "Epoch:  0014 회차 시도 cost = 1.623682512.\n",
            "Epoch:  0015 회차 시도 cost = 1.584810056.\n",
            "학습종료\n",
            "\n",
            "Accuracy:  0.3205\n"
          ],
          "name": "stdout"
        }
      ]
    },
    {
      "metadata": {
        "id": "HWk1TfmErmzu",
        "colab_type": "text"
      },
      "cell_type": "markdown",
      "source": [
        "deep과 wide를 적용했더니 정확도가 더 떨어진다 검색해봤더니 나만 발생하는 문제는 아닌것 같다 각 요소가 결과에 미치는 값(편미분값(?))이 각각 너무 작아서 그런걸까?"
      ]
    },
    {
      "metadata": {
        "id": "s52qxaBes3zP",
        "colab_type": "text"
      },
      "cell_type": "markdown",
      "source": [
        "#Tensorboard\n",
        "\n",
        "[참조링크 here](https://zzsza.github.io/data/2018/08/30/google-colab/#tensorboard-%EC%82%AC%EC%9A%A9%ED%95%98%EA%B8%B0)\n",
        "\n",
        "[참조 here](https://www.dlology.com/blog/quick-guide-to-run-tensorboard-in-google-colab/)\n"
      ]
    },
    {
      "metadata": {
        "id": "q9NOa-0shxTR",
        "colab_type": "code",
        "colab": {}
      },
      "cell_type": "code",
      "source": [
        "sess.close()"
      ],
      "execution_count": 0,
      "outputs": []
    },
    {
      "metadata": {
        "id": "kSidzDEg0c9Y",
        "colab_type": "code",
        "colab": {}
      },
      "cell_type": "code",
      "source": [
        "LOG_DIR = 'drive/tb_logs' #LOG_DIR을 사용하면 구글내에 log폴더 생성\n",
        "\n",
        "#ngrok:secure tunnels to localhost\n",
        "#방화벽 넘어서 외부에서 로컬에 접솔 가능하게 하는 터널 프로그램\n",
        "#setup ngrok and run TensorBoard on Colab\n",
        "!wget https://bin.equinox.io/c/4VmDzA7iaHb/ngrok-stable-linux-amd64.zip\n",
        "!unzip ngrok-stable-linux-amd64.zip\n",
        "\n",
        "import os\n",
        "if not os.path.exists(LOG_DIR): #디렉토리 존재 유무를 확인하는 파이썬 \n",
        "  os.makedirs(LOG_DIR)\n",
        "\n",
        "#Get tensorboard in the background\n",
        "LOG_DIR ='drive/tb_logs' #구글 내 드라이브에 data, tb_logs 폴더 생성\n",
        "get_ipython().system_raw(\n",
        "    'tensorboard --logdir {} --host 0.0.0.0 --port 6006 &'\n",
        "    .format(LOG_DIR)\n",
        ") \n",
        "\n",
        "#Launch ngrok background process\n",
        "#http://localhost:4040/api/tunnels 자신의 컴퓨터 localhost에 텐서보드페이지가 생성\n",
        "get_ipython().system_raw('./ngrok http 6006 &')\n",
        "!curl -s http://localhost:4040/api/tunnels | python3 -c \\\n",
        "      \"import sys, json; print(json.load(sys.stdin)['tunnels'][0]['public_url'])\""
      ],
      "execution_count": 0,
      "outputs": []
    },
    {
      "metadata": {
        "id": "bSCjY8OSL-oD",
        "colab_type": "code",
        "outputId": "b366edad-f02e-421e-b932-a9effffc0c4d",
        "colab": {
          "base_uri": "https://localhost:8080/",
          "height": 34
        }
      },
      "cell_type": "code",
      "source": [
        "!pip install -U tensorboardcolab"
      ],
      "execution_count": 0,
      "outputs": [
        {
          "output_type": "stream",
          "text": [
            "Requirement already up-to-date: tensorboardcolab in /usr/local/lib/python3.6/dist-packages (0.0.22)\n"
          ],
          "name": "stdout"
        }
      ]
    },
    {
      "metadata": {
        "id": "2QpxVt2NMZDA",
        "colab_type": "code",
        "colab": {}
      },
      "cell_type": "code",
      "source": [
        "from tensorboardcolab import *\n",
        "tbc=TensorBoardColab()"
      ],
      "execution_count": 0,
      "outputs": []
    },
    {
      "metadata": {
        "id": "W0NDWXkvNsna",
        "colab_type": "text"
      },
      "cell_type": "markdown",
      "source": [
        "Google storage에서 파일읽기\n",
        "\n",
        "\n",
        "```\n",
        "!pip3 install gcsfs dask \n",
        "\n",
        "import gcsfs\n",
        "\n",
        "from google.colab import auth\n",
        "auth.authenticate_user()\n",
        "\n",
        "fs = gcsfs.GCSFileSystem(project='project_name')\n",
        "with fs.open('주소') as f:\n",
        "    df = pd.read_csv(f)\n",
        "```\n",
        "\n",
        "gcsfs\n",
        "Pythonic file-system for Google Cloud Storage\n",
        "[here](https://gcsfs.readthedocs.io/en/latest/)\n",
        "\n",
        "dask Dask is a flexible library for [parallel computing](https://ko.wikipedia.org/wiki/%EB%B3%91%EB%A0%AC_%EC%BB%B4%ED%93%A8%ED%8C%85)\n",
        " in Python. [here](https://docs.dask.org/en/latest/)\n",
        " \n",
        " [stackoverflow](https://stackoverflow.com/questions/47818822/can-i-use-tensorboard-with-google-colab)"
      ]
    },
    {
      "metadata": {
        "id": "-mdMANnVO0ID",
        "colab_type": "code",
        "colab": {}
      },
      "cell_type": "code",
      "source": [
        "!pip3 install gcsfs dask \n",
        "\n",
        "import gcsfs\n",
        "\n",
        "from google.colab import auth\n",
        "auth.authenticate_user()\n",
        "fs = gcsfs.GCSFileSystem(project='project_name')"
      ],
      "execution_count": 0,
      "outputs": []
    },
    {
      "metadata": {
        "id": "srXEUhoceuzm",
        "colab_type": "code",
        "outputId": "1a75b47c-3768-4d20-9c1c-c5e2beaa9158",
        "colab": {
          "base_uri": "https://localhost:8080/",
          "height": 2122
        }
      },
      "cell_type": "code",
      "source": [
        "import tensorflow as tf\n",
        "a = tf.constant(3.0)\n",
        "b = tf.constant(5.0)\n",
        "c = a*b\n",
        "\n",
        "c_summary = tf.summary.scalar('point', c)\n",
        "merged = tf.summary.merge_all()\n",
        "\n",
        "with tf.Session() as sess:\n",
        "  writer=tf.summary.FileWriter('./ngrok http 6006 &')\n",
        "  \n",
        "  result = sess.run([merged])\n",
        "  \n",
        "  sess.run(tf.global_variables_initializer())\n",
        "  \n",
        "  writer.add_summary(result[0])"
      ],
      "execution_count": 0,
      "outputs": [
        {
          "output_type": "error",
          "ename": "InvalidArgumentError",
          "evalue": "ignored",
          "traceback": [
            "\u001b[0;31m---------------------------------------------------------------------------\u001b[0m",
            "\u001b[0;31mInvalidArgumentError\u001b[0m                      Traceback (most recent call last)",
            "\u001b[0;32m/usr/local/lib/python3.6/dist-packages/tensorflow/python/client/session.py\u001b[0m in \u001b[0;36m_do_call\u001b[0;34m(self, fn, *args)\u001b[0m\n\u001b[1;32m   1333\u001b[0m     \u001b[0;32mtry\u001b[0m\u001b[0;34m:\u001b[0m\u001b[0;34m\u001b[0m\u001b[0;34m\u001b[0m\u001b[0m\n\u001b[0;32m-> 1334\u001b[0;31m       \u001b[0;32mreturn\u001b[0m \u001b[0mfn\u001b[0m\u001b[0;34m(\u001b[0m\u001b[0;34m*\u001b[0m\u001b[0margs\u001b[0m\u001b[0;34m)\u001b[0m\u001b[0;34m\u001b[0m\u001b[0;34m\u001b[0m\u001b[0m\n\u001b[0m\u001b[1;32m   1335\u001b[0m     \u001b[0;32mexcept\u001b[0m \u001b[0merrors\u001b[0m\u001b[0;34m.\u001b[0m\u001b[0mOpError\u001b[0m \u001b[0;32mas\u001b[0m \u001b[0me\u001b[0m\u001b[0;34m:\u001b[0m\u001b[0;34m\u001b[0m\u001b[0;34m\u001b[0m\u001b[0m\n",
            "\u001b[0;32m/usr/local/lib/python3.6/dist-packages/tensorflow/python/client/session.py\u001b[0m in \u001b[0;36m_run_fn\u001b[0;34m(feed_dict, fetch_list, target_list, options, run_metadata)\u001b[0m\n\u001b[1;32m   1318\u001b[0m       return self._call_tf_sessionrun(\n\u001b[0;32m-> 1319\u001b[0;31m           options, feed_dict, fetch_list, target_list, run_metadata)\n\u001b[0m\u001b[1;32m   1320\u001b[0m \u001b[0;34m\u001b[0m\u001b[0m\n",
            "\u001b[0;32m/usr/local/lib/python3.6/dist-packages/tensorflow/python/client/session.py\u001b[0m in \u001b[0;36m_call_tf_sessionrun\u001b[0;34m(self, options, feed_dict, fetch_list, target_list, run_metadata)\u001b[0m\n\u001b[1;32m   1406\u001b[0m         \u001b[0mself\u001b[0m\u001b[0;34m.\u001b[0m\u001b[0m_session\u001b[0m\u001b[0;34m,\u001b[0m \u001b[0moptions\u001b[0m\u001b[0;34m,\u001b[0m \u001b[0mfeed_dict\u001b[0m\u001b[0;34m,\u001b[0m \u001b[0mfetch_list\u001b[0m\u001b[0;34m,\u001b[0m \u001b[0mtarget_list\u001b[0m\u001b[0;34m,\u001b[0m\u001b[0;34m\u001b[0m\u001b[0;34m\u001b[0m\u001b[0m\n\u001b[0;32m-> 1407\u001b[0;31m         run_metadata)\n\u001b[0m\u001b[1;32m   1408\u001b[0m \u001b[0;34m\u001b[0m\u001b[0m\n",
            "\u001b[0;31mInvalidArgumentError\u001b[0m: You must feed a value for placeholder tensor 'Placeholder_1' with dtype float and shape [?,1]\n\t [[{{node Placeholder_1}} = Placeholder[dtype=DT_FLOAT, shape=[?,1], _device=\"/job:localhost/replica:0/task:0/device:CPU:0\"]()]]",
            "\nDuring handling of the above exception, another exception occurred:\n",
            "\u001b[0;31mInvalidArgumentError\u001b[0m                      Traceback (most recent call last)",
            "\u001b[0;32m<ipython-input-43-8d20fd3e88b2>\u001b[0m in \u001b[0;36m<module>\u001b[0;34m()\u001b[0m\n\u001b[1;32m     10\u001b[0m   \u001b[0mwriter\u001b[0m\u001b[0;34m=\u001b[0m\u001b[0mtf\u001b[0m\u001b[0;34m.\u001b[0m\u001b[0msummary\u001b[0m\u001b[0;34m.\u001b[0m\u001b[0mFileWriter\u001b[0m\u001b[0;34m(\u001b[0m\u001b[0;34m'./ngrok http 6006 &'\u001b[0m\u001b[0;34m)\u001b[0m\u001b[0;34m\u001b[0m\u001b[0;34m\u001b[0m\u001b[0m\n\u001b[1;32m     11\u001b[0m \u001b[0;34m\u001b[0m\u001b[0m\n\u001b[0;32m---> 12\u001b[0;31m   \u001b[0mresult\u001b[0m \u001b[0;34m=\u001b[0m \u001b[0msess\u001b[0m\u001b[0;34m.\u001b[0m\u001b[0mrun\u001b[0m\u001b[0;34m(\u001b[0m\u001b[0;34m[\u001b[0m\u001b[0mmerged\u001b[0m\u001b[0;34m]\u001b[0m\u001b[0;34m)\u001b[0m\u001b[0;34m\u001b[0m\u001b[0;34m\u001b[0m\u001b[0m\n\u001b[0m\u001b[1;32m     13\u001b[0m \u001b[0;34m\u001b[0m\u001b[0m\n\u001b[1;32m     14\u001b[0m   \u001b[0msess\u001b[0m\u001b[0;34m.\u001b[0m\u001b[0mrun\u001b[0m\u001b[0;34m(\u001b[0m\u001b[0mtf\u001b[0m\u001b[0;34m.\u001b[0m\u001b[0mglobal_variables_initializer\u001b[0m\u001b[0;34m(\u001b[0m\u001b[0;34m)\u001b[0m\u001b[0;34m)\u001b[0m\u001b[0;34m\u001b[0m\u001b[0;34m\u001b[0m\u001b[0m\n",
            "\u001b[0;32m/usr/local/lib/python3.6/dist-packages/tensorflow/python/client/session.py\u001b[0m in \u001b[0;36mrun\u001b[0;34m(self, fetches, feed_dict, options, run_metadata)\u001b[0m\n\u001b[1;32m    927\u001b[0m     \u001b[0;32mtry\u001b[0m\u001b[0;34m:\u001b[0m\u001b[0;34m\u001b[0m\u001b[0;34m\u001b[0m\u001b[0m\n\u001b[1;32m    928\u001b[0m       result = self._run(None, fetches, feed_dict, options_ptr,\n\u001b[0;32m--> 929\u001b[0;31m                          run_metadata_ptr)\n\u001b[0m\u001b[1;32m    930\u001b[0m       \u001b[0;32mif\u001b[0m \u001b[0mrun_metadata\u001b[0m\u001b[0;34m:\u001b[0m\u001b[0;34m\u001b[0m\u001b[0;34m\u001b[0m\u001b[0m\n\u001b[1;32m    931\u001b[0m         \u001b[0mproto_data\u001b[0m \u001b[0;34m=\u001b[0m \u001b[0mtf_session\u001b[0m\u001b[0;34m.\u001b[0m\u001b[0mTF_GetBuffer\u001b[0m\u001b[0;34m(\u001b[0m\u001b[0mrun_metadata_ptr\u001b[0m\u001b[0;34m)\u001b[0m\u001b[0;34m\u001b[0m\u001b[0;34m\u001b[0m\u001b[0m\n",
            "\u001b[0;32m/usr/local/lib/python3.6/dist-packages/tensorflow/python/client/session.py\u001b[0m in \u001b[0;36m_run\u001b[0;34m(self, handle, fetches, feed_dict, options, run_metadata)\u001b[0m\n\u001b[1;32m   1150\u001b[0m     \u001b[0;32mif\u001b[0m \u001b[0mfinal_fetches\u001b[0m \u001b[0;32mor\u001b[0m \u001b[0mfinal_targets\u001b[0m \u001b[0;32mor\u001b[0m \u001b[0;34m(\u001b[0m\u001b[0mhandle\u001b[0m \u001b[0;32mand\u001b[0m \u001b[0mfeed_dict_tensor\u001b[0m\u001b[0;34m)\u001b[0m\u001b[0;34m:\u001b[0m\u001b[0;34m\u001b[0m\u001b[0;34m\u001b[0m\u001b[0m\n\u001b[1;32m   1151\u001b[0m       results = self._do_run(handle, final_targets, final_fetches,\n\u001b[0;32m-> 1152\u001b[0;31m                              feed_dict_tensor, options, run_metadata)\n\u001b[0m\u001b[1;32m   1153\u001b[0m     \u001b[0;32melse\u001b[0m\u001b[0;34m:\u001b[0m\u001b[0;34m\u001b[0m\u001b[0;34m\u001b[0m\u001b[0m\n\u001b[1;32m   1154\u001b[0m       \u001b[0mresults\u001b[0m \u001b[0;34m=\u001b[0m \u001b[0;34m[\u001b[0m\u001b[0;34m]\u001b[0m\u001b[0;34m\u001b[0m\u001b[0;34m\u001b[0m\u001b[0m\n",
            "\u001b[0;32m/usr/local/lib/python3.6/dist-packages/tensorflow/python/client/session.py\u001b[0m in \u001b[0;36m_do_run\u001b[0;34m(self, handle, target_list, fetch_list, feed_dict, options, run_metadata)\u001b[0m\n\u001b[1;32m   1326\u001b[0m     \u001b[0;32mif\u001b[0m \u001b[0mhandle\u001b[0m \u001b[0;32mis\u001b[0m \u001b[0;32mNone\u001b[0m\u001b[0;34m:\u001b[0m\u001b[0;34m\u001b[0m\u001b[0;34m\u001b[0m\u001b[0m\n\u001b[1;32m   1327\u001b[0m       return self._do_call(_run_fn, feeds, fetches, targets, options,\n\u001b[0;32m-> 1328\u001b[0;31m                            run_metadata)\n\u001b[0m\u001b[1;32m   1329\u001b[0m     \u001b[0;32melse\u001b[0m\u001b[0;34m:\u001b[0m\u001b[0;34m\u001b[0m\u001b[0;34m\u001b[0m\u001b[0m\n\u001b[1;32m   1330\u001b[0m       \u001b[0;32mreturn\u001b[0m \u001b[0mself\u001b[0m\u001b[0;34m.\u001b[0m\u001b[0m_do_call\u001b[0m\u001b[0;34m(\u001b[0m\u001b[0m_prun_fn\u001b[0m\u001b[0;34m,\u001b[0m \u001b[0mhandle\u001b[0m\u001b[0;34m,\u001b[0m \u001b[0mfeeds\u001b[0m\u001b[0;34m,\u001b[0m \u001b[0mfetches\u001b[0m\u001b[0;34m)\u001b[0m\u001b[0;34m\u001b[0m\u001b[0;34m\u001b[0m\u001b[0m\n",
            "\u001b[0;32m/usr/local/lib/python3.6/dist-packages/tensorflow/python/client/session.py\u001b[0m in \u001b[0;36m_do_call\u001b[0;34m(self, fn, *args)\u001b[0m\n\u001b[1;32m   1346\u001b[0m           \u001b[0;32mpass\u001b[0m\u001b[0;34m\u001b[0m\u001b[0;34m\u001b[0m\u001b[0m\n\u001b[1;32m   1347\u001b[0m       \u001b[0mmessage\u001b[0m \u001b[0;34m=\u001b[0m \u001b[0merror_interpolation\u001b[0m\u001b[0;34m.\u001b[0m\u001b[0minterpolate\u001b[0m\u001b[0;34m(\u001b[0m\u001b[0mmessage\u001b[0m\u001b[0;34m,\u001b[0m \u001b[0mself\u001b[0m\u001b[0;34m.\u001b[0m\u001b[0m_graph\u001b[0m\u001b[0;34m)\u001b[0m\u001b[0;34m\u001b[0m\u001b[0;34m\u001b[0m\u001b[0m\n\u001b[0;32m-> 1348\u001b[0;31m       \u001b[0;32mraise\u001b[0m \u001b[0mtype\u001b[0m\u001b[0;34m(\u001b[0m\u001b[0me\u001b[0m\u001b[0;34m)\u001b[0m\u001b[0;34m(\u001b[0m\u001b[0mnode_def\u001b[0m\u001b[0;34m,\u001b[0m \u001b[0mop\u001b[0m\u001b[0;34m,\u001b[0m \u001b[0mmessage\u001b[0m\u001b[0;34m)\u001b[0m\u001b[0;34m\u001b[0m\u001b[0;34m\u001b[0m\u001b[0m\n\u001b[0m\u001b[1;32m   1349\u001b[0m \u001b[0;34m\u001b[0m\u001b[0m\n\u001b[1;32m   1350\u001b[0m   \u001b[0;32mdef\u001b[0m \u001b[0m_extend_graph\u001b[0m\u001b[0;34m(\u001b[0m\u001b[0mself\u001b[0m\u001b[0;34m)\u001b[0m\u001b[0;34m:\u001b[0m\u001b[0;34m\u001b[0m\u001b[0;34m\u001b[0m\u001b[0m\n",
            "\u001b[0;31mInvalidArgumentError\u001b[0m: You must feed a value for placeholder tensor 'Placeholder_1' with dtype float and shape [?,1]\n\t [[node Placeholder_1 (defined at <ipython-input-8-393318fdbb81>:10)  = Placeholder[dtype=DT_FLOAT, shape=[?,1], _device=\"/job:localhost/replica:0/task:0/device:CPU:0\"]()]]\n\nCaused by op 'Placeholder_1', defined at:\n  File \"/usr/lib/python3.6/runpy.py\", line 193, in _run_module_as_main\n    \"__main__\", mod_spec)\n  File \"/usr/lib/python3.6/runpy.py\", line 85, in _run_code\n    exec(code, run_globals)\n  File \"/usr/local/lib/python3.6/dist-packages/ipykernel_launcher.py\", line 16, in <module>\n    app.launch_new_instance()\n  File \"/usr/local/lib/python3.6/dist-packages/traitlets/config/application.py\", line 658, in launch_instance\n    app.start()\n  File \"/usr/local/lib/python3.6/dist-packages/ipykernel/kernelapp.py\", line 477, in start\n    ioloop.IOLoop.instance().start()\n  File \"/usr/local/lib/python3.6/dist-packages/tornado/ioloop.py\", line 888, in start\n    handler_func(fd_obj, events)\n  File \"/usr/local/lib/python3.6/dist-packages/tornado/stack_context.py\", line 277, in null_wrapper\n    return fn(*args, **kwargs)\n  File \"/usr/local/lib/python3.6/dist-packages/zmq/eventloop/zmqstream.py\", line 450, in _handle_events\n    self._handle_recv()\n  File \"/usr/local/lib/python3.6/dist-packages/zmq/eventloop/zmqstream.py\", line 480, in _handle_recv\n    self._run_callback(callback, msg)\n  File \"/usr/local/lib/python3.6/dist-packages/zmq/eventloop/zmqstream.py\", line 432, in _run_callback\n    callback(*args, **kwargs)\n  File \"/usr/local/lib/python3.6/dist-packages/tornado/stack_context.py\", line 277, in null_wrapper\n    return fn(*args, **kwargs)\n  File \"/usr/local/lib/python3.6/dist-packages/ipykernel/kernelbase.py\", line 283, in dispatcher\n    return self.dispatch_shell(stream, msg)\n  File \"/usr/local/lib/python3.6/dist-packages/ipykernel/kernelbase.py\", line 235, in dispatch_shell\n    handler(stream, idents, msg)\n  File \"/usr/local/lib/python3.6/dist-packages/ipykernel/kernelbase.py\", line 399, in execute_request\n    user_expressions, allow_stdin)\n  File \"/usr/local/lib/python3.6/dist-packages/ipykernel/ipkernel.py\", line 196, in do_execute\n    res = shell.run_cell(code, store_history=store_history, silent=silent)\n  File \"/usr/local/lib/python3.6/dist-packages/ipykernel/zmqshell.py\", line 533, in run_cell\n    return super(ZMQInteractiveShell, self).run_cell(*args, **kwargs)\n  File \"/usr/local/lib/python3.6/dist-packages/IPython/core/interactiveshell.py\", line 2718, in run_cell\n    interactivity=interactivity, compiler=compiler, result=result)\n  File \"/usr/local/lib/python3.6/dist-packages/IPython/core/interactiveshell.py\", line 2822, in run_ast_nodes\n    if self.run_code(code, result):\n  File \"/usr/local/lib/python3.6/dist-packages/IPython/core/interactiveshell.py\", line 2882, in run_code\n    exec(code_obj, self.user_global_ns, self.user_ns)\n  File \"<ipython-input-8-393318fdbb81>\", line 10, in <module>\n    Y = tf.placeholder(tf.float32, [None, 1])\n  File \"/usr/local/lib/python3.6/dist-packages/tensorflow/python/ops/array_ops.py\", line 1747, in placeholder\n    return gen_array_ops.placeholder(dtype=dtype, shape=shape, name=name)\n  File \"/usr/local/lib/python3.6/dist-packages/tensorflow/python/ops/gen_array_ops.py\", line 5206, in placeholder\n    \"Placeholder\", dtype=dtype, shape=shape, name=name)\n  File \"/usr/local/lib/python3.6/dist-packages/tensorflow/python/framework/op_def_library.py\", line 787, in _apply_op_helper\n    op_def=op_def)\n  File \"/usr/local/lib/python3.6/dist-packages/tensorflow/python/util/deprecation.py\", line 488, in new_func\n    return func(*args, **kwargs)\n  File \"/usr/local/lib/python3.6/dist-packages/tensorflow/python/framework/ops.py\", line 3274, in create_op\n    op_def=op_def)\n  File \"/usr/local/lib/python3.6/dist-packages/tensorflow/python/framework/ops.py\", line 1770, in __init__\n    self._traceback = tf_stack.extract_stack()\n\nInvalidArgumentError (see above for traceback): You must feed a value for placeholder tensor 'Placeholder_1' with dtype float and shape [?,1]\n\t [[node Placeholder_1 (defined at <ipython-input-8-393318fdbb81>:10)  = Placeholder[dtype=DT_FLOAT, shape=[?,1], _device=\"/job:localhost/replica:0/task:0/device:CPU:0\"]()]]\n"
          ]
        }
      ]
    },
    {
      "metadata": {
        "id": "Aq6nA7-4s7gX",
        "colab_type": "code",
        "outputId": "04563f3d-e51b-48e7-a95a-e99c6efde53e",
        "colab": {
          "base_uri": "https://localhost:8080/",
          "height": 2105
        }
      },
      "cell_type": "code",
      "source": [
        "import tensorflow as tf\n",
        "import numpy as np\n",
        "\n",
        "tf.set_random_seed(777)\n",
        "\n",
        "#x_data = np.array([[0, 0],[0, 1],[1, 0],[1, 1]], dtype=np.float32)\n",
        "#y_data = np.array([[0], [1], [1], [0]], dtype=np.float32)\n",
        "\n",
        "x_data = [[0, 0],\n",
        "          [0, 1],\n",
        "          [1, 0],\n",
        "          [1, 1]]\n",
        "y_data = [[0],\n",
        "          [1],\n",
        "          [1],\n",
        "          [0]]\n",
        "\n",
        "X = tf.placeholder(tf.float32, [None, 2], name='x')\n",
        "Y = tf.placeholder(tf.float32, [None, 1], name='y')\n",
        "\n",
        "#scope로 정리하기\n",
        "with tf.name_scope(\"layer1\") as scope:\n",
        "  W1 = tf.Variable(tf.random_normal([2, 2]), name='weight1')\n",
        "  b1 = tf.Variable(tf.random_normal([2]), name='bias1')\n",
        "  layer1 = tf.sigmoid(tf.matmul(X, W1) + b1)\n",
        "  #step 1 logging\n",
        "  w1_hist = tf.summary.histogram(\"weights1\", W1)\n",
        "  b1_hist = tf.summary.histogram(\"biases1\", b1)\n",
        "  layer1_hist = tf.summary.histogram(\"layer1\", layer1)\n",
        "\n",
        "with tf.name_scope(\"layer2\") as scope:\n",
        "  W2 = tf.Variable(tf.random_normal([2, 1]), name='weight2')\n",
        "  b2 = tf.Variable(tf.random_normal([1]), name='bias2')\n",
        "  hypothesis = tf.sigmoid(tf.matmul(layer1, W2) + b2)\n",
        "  #step 1 logging\n",
        "  w2_hist = tf.summary.histogram(\"weights2\", W2)\n",
        "  b2_hist = tf.summary.histogram(\"biases2\", b2)\n",
        "  hypothesis_hist = tf.summary.histogram(\"hypothesis\", hypothesis)\n",
        "\n",
        "cost = -tf.reduce_mean(Y * tf.log(hypothesis) + (1 - Y) * tf.log(1 - hypothesis))\n",
        "\n",
        "#step 1 logging\n",
        "cost_summ = tf.summary.scalar(\"cost\", cost)\n",
        "\n",
        "train = tf.train.GradientDescentOptimizer(learning_rate=0.1).minimize(cost)\n",
        "predicted = tf.cast(hypothesis > 0.5, dtype=tf.float32)\n",
        "accuracy = tf.reduce_mean(tf.cast(tf.equal(predicted, Y), dtype=tf.float32))\n",
        "\n",
        "\n",
        "with tf.Session() as sess:\n",
        "  \n",
        "  #step 2 summary\n",
        "  summary = tf.summary.merge_all()\n",
        "  sess.run(tf.global_variables_initializer())\n",
        "  \n",
        "  #Create summary writer\n",
        "  writer = tf.summary.FileWriter(\"./ngrok http 6006 &\")\n",
        "  writer.add_graph(sess.graph)\n",
        "  \n",
        "  \n",
        "  for step in range(10001):\n",
        "    s, _ = sess.run([summary, train], feed_dict={X: x_data, Y: y_data})\n",
        "    writer.add_summary(s, global_step = step)"
      ],
      "execution_count": 0,
      "outputs": [
        {
          "output_type": "error",
          "ename": "InvalidArgumentError",
          "evalue": "ignored",
          "traceback": [
            "\u001b[0;31m---------------------------------------------------------------------------\u001b[0m",
            "\u001b[0;31mInvalidArgumentError\u001b[0m                      Traceback (most recent call last)",
            "\u001b[0;32m/usr/local/lib/python3.6/dist-packages/tensorflow/python/client/session.py\u001b[0m in \u001b[0;36m_do_call\u001b[0;34m(self, fn, *args)\u001b[0m\n\u001b[1;32m   1333\u001b[0m     \u001b[0;32mtry\u001b[0m\u001b[0;34m:\u001b[0m\u001b[0;34m\u001b[0m\u001b[0;34m\u001b[0m\u001b[0m\n\u001b[0;32m-> 1334\u001b[0;31m       \u001b[0;32mreturn\u001b[0m \u001b[0mfn\u001b[0m\u001b[0;34m(\u001b[0m\u001b[0;34m*\u001b[0m\u001b[0margs\u001b[0m\u001b[0;34m)\u001b[0m\u001b[0;34m\u001b[0m\u001b[0;34m\u001b[0m\u001b[0m\n\u001b[0m\u001b[1;32m   1335\u001b[0m     \u001b[0;32mexcept\u001b[0m \u001b[0merrors\u001b[0m\u001b[0;34m.\u001b[0m\u001b[0mOpError\u001b[0m \u001b[0;32mas\u001b[0m \u001b[0me\u001b[0m\u001b[0;34m:\u001b[0m\u001b[0;34m\u001b[0m\u001b[0;34m\u001b[0m\u001b[0m\n",
            "\u001b[0;32m/usr/local/lib/python3.6/dist-packages/tensorflow/python/client/session.py\u001b[0m in \u001b[0;36m_run_fn\u001b[0;34m(feed_dict, fetch_list, target_list, options, run_metadata)\u001b[0m\n\u001b[1;32m   1318\u001b[0m       return self._call_tf_sessionrun(\n\u001b[0;32m-> 1319\u001b[0;31m           options, feed_dict, fetch_list, target_list, run_metadata)\n\u001b[0m\u001b[1;32m   1320\u001b[0m \u001b[0;34m\u001b[0m\u001b[0m\n",
            "\u001b[0;32m/usr/local/lib/python3.6/dist-packages/tensorflow/python/client/session.py\u001b[0m in \u001b[0;36m_call_tf_sessionrun\u001b[0;34m(self, options, feed_dict, fetch_list, target_list, run_metadata)\u001b[0m\n\u001b[1;32m   1406\u001b[0m         \u001b[0mself\u001b[0m\u001b[0;34m.\u001b[0m\u001b[0m_session\u001b[0m\u001b[0;34m,\u001b[0m \u001b[0moptions\u001b[0m\u001b[0;34m,\u001b[0m \u001b[0mfeed_dict\u001b[0m\u001b[0;34m,\u001b[0m \u001b[0mfetch_list\u001b[0m\u001b[0;34m,\u001b[0m \u001b[0mtarget_list\u001b[0m\u001b[0;34m,\u001b[0m\u001b[0;34m\u001b[0m\u001b[0;34m\u001b[0m\u001b[0m\n\u001b[0;32m-> 1407\u001b[0;31m         run_metadata)\n\u001b[0m\u001b[1;32m   1408\u001b[0m \u001b[0;34m\u001b[0m\u001b[0m\n",
            "\u001b[0;31mInvalidArgumentError\u001b[0m: You must feed a value for placeholder tensor 'Placeholder_1' with dtype float and shape [?,1]\n\t [[{{node Placeholder_1}} = Placeholder[dtype=DT_FLOAT, shape=[?,1], _device=\"/job:localhost/replica:0/task:0/device:CPU:0\"]()]]",
            "\nDuring handling of the above exception, another exception occurred:\n",
            "\u001b[0;31mInvalidArgumentError\u001b[0m                      Traceback (most recent call last)",
            "\u001b[0;32m<ipython-input-19-5ad784d5cac0>\u001b[0m in \u001b[0;36m<module>\u001b[0;34m()\u001b[0m\n\u001b[1;32m     60\u001b[0m \u001b[0;34m\u001b[0m\u001b[0m\n\u001b[1;32m     61\u001b[0m   \u001b[0;32mfor\u001b[0m \u001b[0mstep\u001b[0m \u001b[0;32min\u001b[0m \u001b[0mrange\u001b[0m\u001b[0;34m(\u001b[0m\u001b[0;36m10001\u001b[0m\u001b[0;34m)\u001b[0m\u001b[0;34m:\u001b[0m\u001b[0;34m\u001b[0m\u001b[0;34m\u001b[0m\u001b[0m\n\u001b[0;32m---> 62\u001b[0;31m     \u001b[0ms\u001b[0m\u001b[0;34m,\u001b[0m \u001b[0m_\u001b[0m \u001b[0;34m=\u001b[0m \u001b[0msess\u001b[0m\u001b[0;34m.\u001b[0m\u001b[0mrun\u001b[0m\u001b[0;34m(\u001b[0m\u001b[0;34m[\u001b[0m\u001b[0msummary\u001b[0m\u001b[0;34m,\u001b[0m \u001b[0mtrain\u001b[0m\u001b[0;34m]\u001b[0m\u001b[0;34m,\u001b[0m \u001b[0mfeed_dict\u001b[0m\u001b[0;34m=\u001b[0m\u001b[0;34m{\u001b[0m\u001b[0mX\u001b[0m\u001b[0;34m:\u001b[0m \u001b[0mx_data\u001b[0m\u001b[0;34m,\u001b[0m \u001b[0mY\u001b[0m\u001b[0;34m:\u001b[0m \u001b[0my_data\u001b[0m\u001b[0;34m}\u001b[0m\u001b[0;34m)\u001b[0m\u001b[0;34m\u001b[0m\u001b[0;34m\u001b[0m\u001b[0m\n\u001b[0m\u001b[1;32m     63\u001b[0m     \u001b[0mwriter\u001b[0m\u001b[0;34m.\u001b[0m\u001b[0madd_summary\u001b[0m\u001b[0;34m(\u001b[0m\u001b[0ms\u001b[0m\u001b[0;34m,\u001b[0m \u001b[0mglobal_step\u001b[0m \u001b[0;34m=\u001b[0m \u001b[0mstep\u001b[0m\u001b[0;34m)\u001b[0m\u001b[0;34m\u001b[0m\u001b[0;34m\u001b[0m\u001b[0m\n",
            "\u001b[0;32m/usr/local/lib/python3.6/dist-packages/tensorflow/python/client/session.py\u001b[0m in \u001b[0;36mrun\u001b[0;34m(self, fetches, feed_dict, options, run_metadata)\u001b[0m\n\u001b[1;32m    927\u001b[0m     \u001b[0;32mtry\u001b[0m\u001b[0;34m:\u001b[0m\u001b[0;34m\u001b[0m\u001b[0;34m\u001b[0m\u001b[0m\n\u001b[1;32m    928\u001b[0m       result = self._run(None, fetches, feed_dict, options_ptr,\n\u001b[0;32m--> 929\u001b[0;31m                          run_metadata_ptr)\n\u001b[0m\u001b[1;32m    930\u001b[0m       \u001b[0;32mif\u001b[0m \u001b[0mrun_metadata\u001b[0m\u001b[0;34m:\u001b[0m\u001b[0;34m\u001b[0m\u001b[0;34m\u001b[0m\u001b[0m\n\u001b[1;32m    931\u001b[0m         \u001b[0mproto_data\u001b[0m \u001b[0;34m=\u001b[0m \u001b[0mtf_session\u001b[0m\u001b[0;34m.\u001b[0m\u001b[0mTF_GetBuffer\u001b[0m\u001b[0;34m(\u001b[0m\u001b[0mrun_metadata_ptr\u001b[0m\u001b[0;34m)\u001b[0m\u001b[0;34m\u001b[0m\u001b[0;34m\u001b[0m\u001b[0m\n",
            "\u001b[0;32m/usr/local/lib/python3.6/dist-packages/tensorflow/python/client/session.py\u001b[0m in \u001b[0;36m_run\u001b[0;34m(self, handle, fetches, feed_dict, options, run_metadata)\u001b[0m\n\u001b[1;32m   1150\u001b[0m     \u001b[0;32mif\u001b[0m \u001b[0mfinal_fetches\u001b[0m \u001b[0;32mor\u001b[0m \u001b[0mfinal_targets\u001b[0m \u001b[0;32mor\u001b[0m \u001b[0;34m(\u001b[0m\u001b[0mhandle\u001b[0m \u001b[0;32mand\u001b[0m \u001b[0mfeed_dict_tensor\u001b[0m\u001b[0;34m)\u001b[0m\u001b[0;34m:\u001b[0m\u001b[0;34m\u001b[0m\u001b[0;34m\u001b[0m\u001b[0m\n\u001b[1;32m   1151\u001b[0m       results = self._do_run(handle, final_targets, final_fetches,\n\u001b[0;32m-> 1152\u001b[0;31m                              feed_dict_tensor, options, run_metadata)\n\u001b[0m\u001b[1;32m   1153\u001b[0m     \u001b[0;32melse\u001b[0m\u001b[0;34m:\u001b[0m\u001b[0;34m\u001b[0m\u001b[0;34m\u001b[0m\u001b[0m\n\u001b[1;32m   1154\u001b[0m       \u001b[0mresults\u001b[0m \u001b[0;34m=\u001b[0m \u001b[0;34m[\u001b[0m\u001b[0;34m]\u001b[0m\u001b[0;34m\u001b[0m\u001b[0;34m\u001b[0m\u001b[0m\n",
            "\u001b[0;32m/usr/local/lib/python3.6/dist-packages/tensorflow/python/client/session.py\u001b[0m in \u001b[0;36m_do_run\u001b[0;34m(self, handle, target_list, fetch_list, feed_dict, options, run_metadata)\u001b[0m\n\u001b[1;32m   1326\u001b[0m     \u001b[0;32mif\u001b[0m \u001b[0mhandle\u001b[0m \u001b[0;32mis\u001b[0m \u001b[0;32mNone\u001b[0m\u001b[0;34m:\u001b[0m\u001b[0;34m\u001b[0m\u001b[0;34m\u001b[0m\u001b[0m\n\u001b[1;32m   1327\u001b[0m       return self._do_call(_run_fn, feeds, fetches, targets, options,\n\u001b[0;32m-> 1328\u001b[0;31m                            run_metadata)\n\u001b[0m\u001b[1;32m   1329\u001b[0m     \u001b[0;32melse\u001b[0m\u001b[0;34m:\u001b[0m\u001b[0;34m\u001b[0m\u001b[0;34m\u001b[0m\u001b[0m\n\u001b[1;32m   1330\u001b[0m       \u001b[0;32mreturn\u001b[0m \u001b[0mself\u001b[0m\u001b[0;34m.\u001b[0m\u001b[0m_do_call\u001b[0m\u001b[0;34m(\u001b[0m\u001b[0m_prun_fn\u001b[0m\u001b[0;34m,\u001b[0m \u001b[0mhandle\u001b[0m\u001b[0;34m,\u001b[0m \u001b[0mfeeds\u001b[0m\u001b[0;34m,\u001b[0m \u001b[0mfetches\u001b[0m\u001b[0;34m)\u001b[0m\u001b[0;34m\u001b[0m\u001b[0;34m\u001b[0m\u001b[0m\n",
            "\u001b[0;32m/usr/local/lib/python3.6/dist-packages/tensorflow/python/client/session.py\u001b[0m in \u001b[0;36m_do_call\u001b[0;34m(self, fn, *args)\u001b[0m\n\u001b[1;32m   1346\u001b[0m           \u001b[0;32mpass\u001b[0m\u001b[0;34m\u001b[0m\u001b[0;34m\u001b[0m\u001b[0m\n\u001b[1;32m   1347\u001b[0m       \u001b[0mmessage\u001b[0m \u001b[0;34m=\u001b[0m \u001b[0merror_interpolation\u001b[0m\u001b[0;34m.\u001b[0m\u001b[0minterpolate\u001b[0m\u001b[0;34m(\u001b[0m\u001b[0mmessage\u001b[0m\u001b[0;34m,\u001b[0m \u001b[0mself\u001b[0m\u001b[0;34m.\u001b[0m\u001b[0m_graph\u001b[0m\u001b[0;34m)\u001b[0m\u001b[0;34m\u001b[0m\u001b[0;34m\u001b[0m\u001b[0m\n\u001b[0;32m-> 1348\u001b[0;31m       \u001b[0;32mraise\u001b[0m \u001b[0mtype\u001b[0m\u001b[0;34m(\u001b[0m\u001b[0me\u001b[0m\u001b[0;34m)\u001b[0m\u001b[0;34m(\u001b[0m\u001b[0mnode_def\u001b[0m\u001b[0;34m,\u001b[0m \u001b[0mop\u001b[0m\u001b[0;34m,\u001b[0m \u001b[0mmessage\u001b[0m\u001b[0;34m)\u001b[0m\u001b[0;34m\u001b[0m\u001b[0;34m\u001b[0m\u001b[0m\n\u001b[0m\u001b[1;32m   1349\u001b[0m \u001b[0;34m\u001b[0m\u001b[0m\n\u001b[1;32m   1350\u001b[0m   \u001b[0;32mdef\u001b[0m \u001b[0m_extend_graph\u001b[0m\u001b[0;34m(\u001b[0m\u001b[0mself\u001b[0m\u001b[0;34m)\u001b[0m\u001b[0;34m:\u001b[0m\u001b[0;34m\u001b[0m\u001b[0;34m\u001b[0m\u001b[0m\n",
            "\u001b[0;31mInvalidArgumentError\u001b[0m: You must feed a value for placeholder tensor 'Placeholder_1' with dtype float and shape [?,1]\n\t [[node Placeholder_1 (defined at <ipython-input-8-393318fdbb81>:10)  = Placeholder[dtype=DT_FLOAT, shape=[?,1], _device=\"/job:localhost/replica:0/task:0/device:CPU:0\"]()]]\n\nCaused by op 'Placeholder_1', defined at:\n  File \"/usr/lib/python3.6/runpy.py\", line 193, in _run_module_as_main\n    \"__main__\", mod_spec)\n  File \"/usr/lib/python3.6/runpy.py\", line 85, in _run_code\n    exec(code, run_globals)\n  File \"/usr/local/lib/python3.6/dist-packages/ipykernel_launcher.py\", line 16, in <module>\n    app.launch_new_instance()\n  File \"/usr/local/lib/python3.6/dist-packages/traitlets/config/application.py\", line 658, in launch_instance\n    app.start()\n  File \"/usr/local/lib/python3.6/dist-packages/ipykernel/kernelapp.py\", line 477, in start\n    ioloop.IOLoop.instance().start()\n  File \"/usr/local/lib/python3.6/dist-packages/tornado/ioloop.py\", line 888, in start\n    handler_func(fd_obj, events)\n  File \"/usr/local/lib/python3.6/dist-packages/tornado/stack_context.py\", line 277, in null_wrapper\n    return fn(*args, **kwargs)\n  File \"/usr/local/lib/python3.6/dist-packages/zmq/eventloop/zmqstream.py\", line 450, in _handle_events\n    self._handle_recv()\n  File \"/usr/local/lib/python3.6/dist-packages/zmq/eventloop/zmqstream.py\", line 480, in _handle_recv\n    self._run_callback(callback, msg)\n  File \"/usr/local/lib/python3.6/dist-packages/zmq/eventloop/zmqstream.py\", line 432, in _run_callback\n    callback(*args, **kwargs)\n  File \"/usr/local/lib/python3.6/dist-packages/tornado/stack_context.py\", line 277, in null_wrapper\n    return fn(*args, **kwargs)\n  File \"/usr/local/lib/python3.6/dist-packages/ipykernel/kernelbase.py\", line 283, in dispatcher\n    return self.dispatch_shell(stream, msg)\n  File \"/usr/local/lib/python3.6/dist-packages/ipykernel/kernelbase.py\", line 235, in dispatch_shell\n    handler(stream, idents, msg)\n  File \"/usr/local/lib/python3.6/dist-packages/ipykernel/kernelbase.py\", line 399, in execute_request\n    user_expressions, allow_stdin)\n  File \"/usr/local/lib/python3.6/dist-packages/ipykernel/ipkernel.py\", line 196, in do_execute\n    res = shell.run_cell(code, store_history=store_history, silent=silent)\n  File \"/usr/local/lib/python3.6/dist-packages/ipykernel/zmqshell.py\", line 533, in run_cell\n    return super(ZMQInteractiveShell, self).run_cell(*args, **kwargs)\n  File \"/usr/local/lib/python3.6/dist-packages/IPython/core/interactiveshell.py\", line 2718, in run_cell\n    interactivity=interactivity, compiler=compiler, result=result)\n  File \"/usr/local/lib/python3.6/dist-packages/IPython/core/interactiveshell.py\", line 2822, in run_ast_nodes\n    if self.run_code(code, result):\n  File \"/usr/local/lib/python3.6/dist-packages/IPython/core/interactiveshell.py\", line 2882, in run_code\n    exec(code_obj, self.user_global_ns, self.user_ns)\n  File \"<ipython-input-8-393318fdbb81>\", line 10, in <module>\n    Y = tf.placeholder(tf.float32, [None, 1])\n  File \"/usr/local/lib/python3.6/dist-packages/tensorflow/python/ops/array_ops.py\", line 1747, in placeholder\n    return gen_array_ops.placeholder(dtype=dtype, shape=shape, name=name)\n  File \"/usr/local/lib/python3.6/dist-packages/tensorflow/python/ops/gen_array_ops.py\", line 5206, in placeholder\n    \"Placeholder\", dtype=dtype, shape=shape, name=name)\n  File \"/usr/local/lib/python3.6/dist-packages/tensorflow/python/framework/op_def_library.py\", line 787, in _apply_op_helper\n    op_def=op_def)\n  File \"/usr/local/lib/python3.6/dist-packages/tensorflow/python/util/deprecation.py\", line 488, in new_func\n    return func(*args, **kwargs)\n  File \"/usr/local/lib/python3.6/dist-packages/tensorflow/python/framework/ops.py\", line 3274, in create_op\n    op_def=op_def)\n  File \"/usr/local/lib/python3.6/dist-packages/tensorflow/python/framework/ops.py\", line 1770, in __init__\n    self._traceback = tf_stack.extract_stack()\n\nInvalidArgumentError (see above for traceback): You must feed a value for placeholder tensor 'Placeholder_1' with dtype float and shape [?,1]\n\t [[node Placeholder_1 (defined at <ipython-input-8-393318fdbb81>:10)  = Placeholder[dtype=DT_FLOAT, shape=[?,1], _device=\"/job:localhost/replica:0/task:0/device:CPU:0\"]()]]\n"
          ]
        }
      ]
    },
    {
      "metadata": {
        "id": "8e7EA7aBaU2K",
        "colab_type": "code",
        "colab": {}
      },
      "cell_type": "code",
      "source": [
        ""
      ],
      "execution_count": 0,
      "outputs": []
    }
  ]
}