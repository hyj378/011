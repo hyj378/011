{
  "nbformat": 4,
  "nbformat_minor": 0,
  "metadata": {
    "colab": {
      "name": "MNIST Dataset.ipynb",
      "version": "0.3.2",
      "provenance": [],
      "include_colab_link": true
    },
    "kernelspec": {
      "name": "python3",
      "display_name": "Python 3"
    }
  },
  "cells": [
    {
      "cell_type": "markdown",
      "metadata": {
        "id": "view-in-github",
        "colab_type": "text"
      },
      "source": [
        "<a href=\"https://colab.research.google.com/github/hyj378/011/blob/ML_basic_inyt/MNIST_Dataset.ipynb\" target=\"_parent\"><img src=\"https://colab.research.google.com/assets/colab-badge.svg\" alt=\"Open In Colab\"/></a>"
      ]
    },
    {
      "metadata": {
        "id": "zzYCLaisJIPF",
        "colab_type": "code",
        "outputId": "bc0f1b13-3988-4d25-80f5-dacb623eac61",
        "colab": {
          "base_uri": "https://localhost:8080/",
          "height": 547
        }
      },
      "cell_type": "code",
      "source": [
        "import tensorflow as tf\n",
        "from tensorflow.examples.tutorials.mnist import input_data\n",
        "mnist = input_data.read_data_sets(\"MNIST_data/\", one_hot=True)"
      ],
      "execution_count": 0,
      "outputs": [
        {
          "output_type": "stream",
          "text": [
            "WARNING:tensorflow:From <ipython-input-2-89847c176cd8>:3: read_data_sets (from tensorflow.contrib.learn.python.learn.datasets.mnist) is deprecated and will be removed in a future version.\n",
            "Instructions for updating:\n",
            "Please use alternatives such as official/mnist/dataset.py from tensorflow/models.\n",
            "WARNING:tensorflow:From /usr/local/lib/python3.6/dist-packages/tensorflow/contrib/learn/python/learn/datasets/mnist.py:260: maybe_download (from tensorflow.contrib.learn.python.learn.datasets.base) is deprecated and will be removed in a future version.\n",
            "Instructions for updating:\n",
            "Please write your own downloading logic.\n",
            "WARNING:tensorflow:From /usr/local/lib/python3.6/dist-packages/tensorflow/contrib/learn/python/learn/datasets/base.py:252: _internal_retry.<locals>.wrap.<locals>.wrapped_fn (from tensorflow.contrib.learn.python.learn.datasets.base) is deprecated and will be removed in a future version.\n",
            "Instructions for updating:\n",
            "Please use urllib or similar directly.\n",
            "Successfully downloaded train-images-idx3-ubyte.gz 9912422 bytes.\n",
            "WARNING:tensorflow:From /usr/local/lib/python3.6/dist-packages/tensorflow/contrib/learn/python/learn/datasets/mnist.py:262: extract_images (from tensorflow.contrib.learn.python.learn.datasets.mnist) is deprecated and will be removed in a future version.\n",
            "Instructions for updating:\n",
            "Please use tf.data to implement this functionality.\n",
            "Extracting MNIST_data/train-images-idx3-ubyte.gz\n",
            "Successfully downloaded train-labels-idx1-ubyte.gz 28881 bytes.\n",
            "WARNING:tensorflow:From /usr/local/lib/python3.6/dist-packages/tensorflow/contrib/learn/python/learn/datasets/mnist.py:267: extract_labels (from tensorflow.contrib.learn.python.learn.datasets.mnist) is deprecated and will be removed in a future version.\n",
            "Instructions for updating:\n",
            "Please use tf.data to implement this functionality.\n",
            "Extracting MNIST_data/train-labels-idx1-ubyte.gz\n",
            "WARNING:tensorflow:From /usr/local/lib/python3.6/dist-packages/tensorflow/contrib/learn/python/learn/datasets/mnist.py:110: dense_to_one_hot (from tensorflow.contrib.learn.python.learn.datasets.mnist) is deprecated and will be removed in a future version.\n",
            "Instructions for updating:\n",
            "Please use tf.one_hot on tensors.\n",
            "Successfully downloaded t10k-images-idx3-ubyte.gz 1648877 bytes.\n",
            "Extracting MNIST_data/t10k-images-idx3-ubyte.gz\n",
            "Successfully downloaded t10k-labels-idx1-ubyte.gz 4542 bytes.\n",
            "Extracting MNIST_data/t10k-labels-idx1-ubyte.gz\n",
            "WARNING:tensorflow:From /usr/local/lib/python3.6/dist-packages/tensorflow/contrib/learn/python/learn/datasets/mnist.py:290: DataSet.__init__ (from tensorflow.contrib.learn.python.learn.datasets.mnist) is deprecated and will be removed in a future version.\n",
            "Instructions for updating:\n",
            "Please use alternatives such as official/mnist/dataset.py from tensorflow/models.\n"
          ],
          "name": "stdout"
        }
      ]
    },
    {
      "metadata": {
        "id": "oCvM4ozSLJqo",
        "colab_type": "code",
        "colab": {}
      },
      "cell_type": "code",
      "source": [
        ""
      ],
      "execution_count": 0,
      "outputs": []
    },
    {
      "metadata": {
        "id": "PsWwpkUeLo4a",
        "colab_type": "text"
      },
      "cell_type": "markdown",
      "source": [
        "위와 같은 오류는 tf.logging을 통해 해결 할 수 있습니다.\n",
        "\n",
        "참조 링크 : [stackoverflow](https://stackoverflow.com/questions/49901806/tensorflow-importing-mnist-warnings)\n",
        "\n",
        "참조 링크: [tf.logging](https://www.tensorflow.org/api_docs/python/tf/logging)"
      ]
    },
    {
      "metadata": {
        "id": "BD06ng9LJ4qq",
        "colab_type": "code",
        "outputId": "f48cd54f-802c-4e7f-c856-7aeb3ca5152c",
        "colab": {
          "base_uri": "https://localhost:8080/",
          "height": 87
        }
      },
      "cell_type": "code",
      "source": [
        "import numpy as np\n",
        "import tensorflow as tf\n",
        "old_v = tf.logging.get_verbosity()\n",
        "tf.logging.set_verbosity(tf.logging.ERROR)\n",
        "\n",
        "from tensorflow.examples.tutorials.mnist import input_data #mnist데이터 불러오기\n",
        "mnist = input_data.read_data_sets(\"MNIST_data/\", one_hot=True)"
      ],
      "execution_count": 46,
      "outputs": [
        {
          "output_type": "stream",
          "text": [
            "Extracting MNIST_data/train-images-idx3-ubyte.gz\n",
            "Extracting MNIST_data/train-labels-idx1-ubyte.gz\n",
            "Extracting MNIST_data/t10k-images-idx3-ubyte.gz\n",
            "Extracting MNIST_data/t10k-labels-idx1-ubyte.gz\n"
          ],
          "name": "stdout"
        }
      ]
    },
    {
      "metadata": {
        "id": "1JUWPKIkp2r_",
        "colab_type": "text"
      },
      "cell_type": "markdown",
      "source": [
        "## softmax 함수 복습\n",
        "\n",
        "sigmoid를 통해 분류하지만,\n",
        "데이터가 multinomial한 것\n",
        "\n",
        "즉, multinomial한 데이터를 matrix와\n",
        "sigmoid를 통해 분류하는 것\n",
        "\n",
        "####softmax함수의 cost\n",
        "\n",
        "sigmoid함수의 cost처럼 log를 이용한다.\n",
        "\n",
        "명칭은 cross-entropy이다![cross-entropy](https://t1.daumcdn.net/cfile/tistory/225C5E4F5797F9C42B)\n",
        "\n",
        "*********************************************\n",
        "\n",
        "##sigmoid\n",
        "\n",
        "0, 1분류를 위한 기준을 찾을때, 범위가 너무 큰 y를\n",
        "지수함수 e^x를 이용해 압축하는것\n",
        "\n",
        "####sigmoid함수의 cost함수\n",
        "\n",
        "-y*log(H(x)) - (1-y)*log(1-H(x))\n",
        "\n",
        "(H(x)는 0, 1로 구성된 예측값)\n",
        "e^x를 취했을 때 예측할 수 있듯이 cost함수를 위해\n",
        "log를 이용한다."
      ]
    },
    {
      "metadata": {
        "id": "0LpdGbudvAgZ",
        "colab_type": "text"
      },
      "cell_type": "markdown",
      "source": [
        "************************************************\n",
        "오랫만에 강의를 들어서 헷갈리는것이 많아 주석을 많이 달았습니다 혹시 틀린 부분 있나요?"
      ]
    },
    {
      "metadata": {
        "id": "oMUP9Pjqn4nD",
        "colab_type": "code",
        "colab": {}
      },
      "cell_type": "code",
      "source": [
        "#함수 노드 생성\n",
        "\n",
        "nb_classes = 10 #0, 1, 2, ... 9\n",
        "\n",
        "x = tf.placeholder(tf.float32, [None, 784])\n",
        "y = tf.placeholder(tf.float32, [None, nb_classes])\n",
        "\n",
        "W = tf.Variable(tf.random_normal([784, nb_classes]))\n",
        "b = tf.Variable(tf.random_normal([nb_classes]))\n",
        "#sigmoid 함수 W와 b를 예측해 하나의 예측 Linear모델을 만든 후 e^x로 변환한다\n",
        "#hypothesis함수를 optimizer함수를 통해 최적화 시킴으로서 모델을 생성한다\n",
        "hypothesis = tf.nn.softmax(tf.matmul(x, W)+b)\n",
        "\n",
        "#cost (cross-entropy) axis 1(행별로 더한다)\n",
        "cost = tf.reduce_mean(-tf.reduce_sum(y * tf.log(hypothesis), axis = 1))\n",
        "optimizer = tf.train.GradientDescentOptimizer(learning_rate = 0.1).minimize(cost)\n",
        "\n",
        "#예측값과 hypothesis와 y행렬의 원소중 최댓값(1차원으로 반환??)의 인덱스를 비교한다.\n",
        "is_correct = tf.equal(tf.arg_max(hypothesis, 1), tf.arg_max(y, 1))\n",
        "#정확도 is_correct가 반환한 true, false값을 float32로 cast해 평균내기\n",
        "accuracy = tf.reduce_mean(tf.cast(is_correct, tf.float32))"
      ],
      "execution_count": 0,
      "outputs": []
    },
    {
      "metadata": {
        "id": "jkHkyhk7vFEd",
        "colab_type": "code",
        "colab": {
          "base_uri": "https://localhost:8080/",
          "height": 334
        },
        "outputId": "14183706-a11b-4d5c-d1d6-4078b535f60e"
      },
      "cell_type": "code",
      "source": [
        "#노드 그래핑, 데이터 입력해 주기\n",
        "\n",
        "training_epochs = 15 #트레이닝 반복 횟수 (전체 데이터 set을 몇번 학습시킬것인지)\n",
        "batch_size = 100 #한번에 입력될 데이터 사이즈\n",
        "\n",
        "cost_change = []\n",
        "with tf.Session() as sess:\n",
        "  sess.run(tf.global_variables_initializer()) # Variable변수 초기화\n",
        "  for epoch in range(training_epochs):\n",
        "    avg_cost = 0\n",
        "    total_batch = int(mnist.train.num_examples / batch_size) \n",
        "    #total_batch* batch_size = 총 데이터size\n",
        "    \n",
        "    #데이타 1epoch 학습\n",
        "    for i in range(total_batch):\n",
        "      batch_xs, batch_ys = mnist.train.next_batch(batch_size)\n",
        "      c, _ = sess.run([cost, optimizer], feed_dict={x: batch_xs, y: batch_ys})\n",
        "      avg_cost += c/total_batch\n",
        "      \n",
        "    cost_change.append(avg_cost)\n",
        "    print('Epoch: ', '%04d'%(epoch+1), '회차 시도', 'cost =','{:.9f}.'.format(avg_cost)) \n",
        "  print('학습종료\\n')\n",
        "  \n",
        "  #테스트 데이타를 통한 모델 평가\n",
        "\n",
        "  print(\"Accuracy: \",accuracy.eval(session=sess, feed_dict={x: mnist.test.images, y: mnist.test.labels}))\n",
        "  #학습시키는 것이 아니므로 optimizer를 실행 할 필요가 없다\n",
        "  #accuracy만 실행시키면 되므로 sess.run말고 tensor명.eval()을 이용한다\n",
        "  #하나의 노드(텐서)만 실행 시킬때 유용"
      ],
      "execution_count": 54,
      "outputs": [
        {
          "output_type": "stream",
          "text": [
            "Epoch:  0001 회차 시도 cost = 2.909779226.\n",
            "Epoch:  0002 회차 시도 cost = 1.095461600.\n",
            "Epoch:  0003 회차 시도 cost = 0.872188514.\n",
            "Epoch:  0004 회차 시도 cost = 0.764765285.\n",
            "Epoch:  0005 회차 시도 cost = 0.696965522.\n",
            "Epoch:  0006 회차 시도 cost = 0.649608724.\n",
            "Epoch:  0007 회차 시도 cost = 0.613157236.\n",
            "Epoch:  0008 회차 시도 cost = 0.584405981.\n",
            "Epoch:  0009 회차 시도 cost = 0.560808409.\n",
            "Epoch:  0010 회차 시도 cost = 0.540953570.\n",
            "Epoch:  0011 회차 시도 cost = 0.523121198.\n",
            "Epoch:  0012 회차 시도 cost = 0.508659811.\n",
            "Epoch:  0013 회차 시도 cost = 0.494903517.\n",
            "Epoch:  0014 회차 시도 cost = 0.483442732.\n",
            "Epoch:  0015 회차 시도 cost = 0.472563617.\n",
            "학습종료\n",
            "\n",
            "Accuracy:  0.8927\n"
          ],
          "name": "stdout"
        }
      ]
    },
    {
      "metadata": {
        "id": "gY1hJPDv7fzA",
        "colab_type": "text"
      },
      "cell_type": "markdown",
      "source": [
        "제가 처음에 그래프를 그리려고 아래\n",
        "x= range(1, 16)으로 했는데\n",
        "unhashable type: 'list' 오류가 나더군요\n",
        "(위에서 x는 Variable였는데 다시 list형으로 재정의한 셈이죠)\n",
        "\n",
        "아주 기본적인 실수지만 익숙하지 않은 만큼 저랑 같은 오류를 겪으시는 분이 계실 수도 있을 것 같아요 그러지 않도록 변수명 조심하세요!"
      ]
    },
    {
      "metadata": {
        "id": "e6tNelvO0NQp",
        "colab_type": "code",
        "colab": {
          "base_uri": "https://localhost:8080/",
          "height": 411
        },
        "outputId": "ddbd32b7-c22f-4c56-d361-3244e962d81a"
      },
      "cell_type": "code",
      "source": [
        "print('cost 변화율')\n",
        "\n",
        "\n",
        "import matplotlib.pyplot as plt\n",
        "\n",
        "x_epoch = range(1, 16) # epoch값\n",
        "y_cost = cost_change\n",
        "plt.plot(x_epoch, y_cost)\n",
        "\n",
        "plt.xlabel('epoch')\n",
        "plt.ylabel('cost값')\n",
        "\n",
        "plt.title(\"cost의 변화\")\n",
        "plt.show()\n",
        "print(\"cost가 줄어듬을 알 수 있다\")"
      ],
      "execution_count": 55,
      "outputs": [
        {
          "output_type": "stream",
          "text": [
            "cost 변화율\n"
          ],
          "name": "stdout"
        },
        {
          "output_type": "display_data",
          "data": {
            "image/png": "[encoded data removed]",
            "text/plain": [
              "<matplotlib.figure.Figure at 0x7fb4f3e10470>"
            ]
          },
          "metadata": {
            "tags": []
          }
        },
        {
          "output_type": "stream",
          "text": [
            "cost가 줄어듬을 알 수 있다\n"
          ],
          "name": "stdout"
        }
      ]
    },
    {
      "metadata": {
        "id": "DhEzagGh5k5e",
        "colab_type": "code",
        "colab": {
          "base_uri": "https://localhost:8080/",
          "height": 400
        },
        "outputId": "582d70a9-0928-4a45-f5b6-9686b769a1a0"
      },
      "cell_type": "code",
      "source": [
        "#matplotlib이용해 직접 결과 보기\n",
        "import matplotlib.pyplot as plt #위에서 import했지만... 보기좋게 다시합니다\n",
        "import random\n",
        "\n",
        "sess = tf.Session()\n",
        "sess.run(tf.global_variables_initializer())\n",
        "#numpy.random.randint(low, high=None, size=None, dtype='l')\n",
        "#0과 mnist데이터의 갯수 사이의 임의의 난수(r)를 생성합니다.\n",
        "r = random.randint(0, mnist.test.num_examples - 1)\n",
        "print(\"Label:\", sess.run(tf.argmax(mnist.test.labels[r:r+1],1)))\n",
        "#r번째 데이터의 실제 값을 출력합니다\n",
        "print(\"Prediction:\", sess.run(tf.argmax(hypothesis, 1),\\\n",
        "  feed_dict={x: mnist.test.images[r:r+1]})) #예측만 할꺼니 label정보는 필요 없죠...\n",
        "\n",
        "plt.imshow(mnist.test.images[r:r+1].reshape(28, 28), cmap = 'Greys', interpolation='nearest')\n",
        "plt.show"
      ],
      "execution_count": 58,
      "outputs": [
        {
          "output_type": "stream",
          "text": [
            "Label: [7]\n",
            "Prediction: [2]\n"
          ],
          "name": "stdout"
        },
        {
          "output_type": "execute_result",
          "data": {
            "text/plain": [
              "<function matplotlib.pyplot.show>"
            ]
          },
          "metadata": {
            "tags": []
          },
          "execution_count": 58
        },
        {
          "output_type": "display_data",
          "data": {
            "image/png": "[encoded data removed]",
            "text/plain": [
              "<matplotlib.figure.Figure at 0x7fb4f3bffeb8>"
            ]
          },
          "metadata": {
            "tags": []
          }
        }
      ]
    },
    {
      "metadata": {
        "id": "NZ5P8NDS9xB4",
        "colab_type": "code",
        "colab": {}
      },
      "cell_type": "code",
      "source": [
        ""
      ],
      "execution_count": 0,
      "outputs": []
    }
  ]
}