{
  "nbformat": 4,
  "nbformat_minor": 0,
  "metadata": {
    "colab": {
      "name": "퍼셉트론.ipynb",
      "version": "0.3.2",
      "provenance": [],
      "collapsed_sections": [],
      "include_colab_link": true
    },
    "kernelspec": {
      "name": "python3",
      "display_name": "Python 3"
    }
  },
  "cells": [
    {
      "cell_type": "markdown",
      "metadata": {
        "id": "view-in-github",
        "colab_type": "text"
      },
      "source": [
        "<a href=\"https://colab.research.google.com/github/hyj378/011/blob/ML_basic_inyt/%ED%8D%BC%EC%85%89%ED%8A%B8%EB%A1%A0.ipynb\" target=\"_parent\"><img src=\"https://colab.research.google.com/assets/colab-badge.svg\" alt=\"Open In Colab\"/></a>"
      ]
    },
    {
      "metadata": {
        "id": "9-0s3S2XyRHM",
        "colab_type": "text"
      },
      "cell_type": "markdown",
      "source": [
        "#퍼셉트론 알고리즘\n",
        "신경망의 기원이 되는 알고리즘"
      ]
    },
    {
      "metadata": {
        "id": "VVA8itgyyaJY",
        "colab_type": "code",
        "colab": {}
      },
      "cell_type": "code",
      "source": [
        "#AND게이트\n",
        "def AND(x1, x2):\n",
        "  X = np.array([x1, x2])\n",
        "  w = np.array([0.5, 0.5])\n",
        "  b = -0.7\n",
        "  tmp  = np.sum(w * X) + b\n",
        "  if tmp <= 0:\n",
        "    return 0\n",
        "  else:\n",
        "    return 1\n",
        "  \n",
        "  \n",
        "#OR게이트\n",
        "def OR([x1, x2]):\n",
        "  X = np.array([x1, x2])\n",
        "  w = np.array([0.5, 0.5])\n",
        "  b = -0.3\n",
        "  tmp = np.sum(w * X) + b\n",
        "  if tmp <= 0:\n",
        "    return 0\n",
        "  else:\n",
        "    return 1\n",
        "  \n",
        "\n",
        "#NAND게이트\n",
        "def NAND(x1, x2):\n",
        "  X = np.array([x1, x2])\n",
        "  w = np.array([-0.5, -0.5])\n",
        "  b = 0.7\n",
        "  tmp = np.sum(w * X) + b\n",
        "  if tmp <= 0:\n",
        "    return 0\n",
        "  else:\n",
        "    return 1\n",
        "  \n",
        "#위의 회로 :tmp라는 1차함수로 영역을 구분해 1과 0값을 반환\n",
        "#XOR게이트 -> 두 회로의 결합으로 구현 가능\n",
        "def XOR(x1, x2):\n",
        "  s1 = NAND(x1, x2) #가중치1\n",
        "  s2 = OR(x1, x2)   #가중치2\n",
        "  y = AND(s1 ,s2)\n",
        "  return y\n",
        "#2층 퍼셉트론 구조\n",
        "#비선형함수를 여러개의 1차함수를 통해 구현\n",
        "#다충퍼셉트론 -> 2진수를 10진수로 변환하는 인코더, 2진수 연산 처리기 -> 컴퓨터\n",
        "#AND,OR게이트 ->반가산기 전가산기->산술 논리 연산장치(ALU)->CPU"
      ],
      "execution_count": 0,
      "outputs": []
    },
    {
      "metadata": {
        "id": "HfXOZVve20Y9",
        "colab_type": "text"
      },
      "cell_type": "markdown",
      "source": [
        "#퍼셉트론과 신경망\n",
        "퍼셉트론의 작동과정\n",
        "\n",
        "입력값([x1, x2])->가중치와 편향을 수동으로 입력해 값(a) 생성->a를 활성화 함수에 대입->y값(출력값) 출력\n",
        "\n",
        "다음은 활성화 함수의 예시이다"
      ]
    },
    {
      "metadata": {
        "id": "rN5qItbW_pap",
        "colab_type": "text"
      },
      "cell_type": "markdown",
      "source": [
        "###일차함수"
      ]
    },
    {
      "metadata": {
        "id": "BpPzwluM4ah3",
        "colab_type": "code",
        "colab": {
          "base_uri": "https://localhost:8080/",
          "height": 379
        },
        "outputId": "4123cce2-4a87-46a6-b9ae-512f163a2ef0"
      },
      "cell_type": "code",
      "source": [
        "#계단함수\n",
        "def step_function(x):\n",
        "  y = x > 0   #bool값\n",
        "  y = y.astype(np.int) #numpy함수\n",
        "  return y\n",
        "\n",
        "import numpy as np\n",
        "import matplotlib.pylab as plt\n",
        "\n",
        "x = np.arange(-5.0, 5.0, 0.1) #-0.5<= x < 0.5 (step=0.1)\n",
        "y = step_function(x)\n",
        "plt.title(\"step function\")\n",
        "plt.plot(x, y)\n",
        "plt.ylim(-0.1, 1.1)\n",
        "plt.show"
      ],
      "execution_count": 5,
      "outputs": [
        {
          "output_type": "execute_result",
          "data": {
            "text/plain": [
              "<function matplotlib.pyplot.show>"
            ]
          },
          "metadata": {
            "tags": []
          },
          "execution_count": 5
        },
        {
          "output_type": "display_data",
          "data": {
            "image/png": "[encoded data removed]",
            "text/plain": [
              "<matplotlib.figure.Figure at 0x7f351d1632b0>"
            ]
          },
          "metadata": {
            "tags": []
          }
        }
      ]
    },
    {
      "metadata": {
        "id": "4gc0Ftff9h7G",
        "colab_type": "text"
      },
      "cell_type": "markdown",
      "source": [
        "###시그모이드 함수 : sigmoid"
      ]
    },
    {
      "metadata": {
        "id": "6kFpkm538HmH",
        "colab_type": "code",
        "colab": {
          "base_uri": "https://localhost:8080/",
          "height": 379
        },
        "outputId": "310bbf90-03c3-4eb1-89c9-f67876dab3c2"
      },
      "cell_type": "code",
      "source": [
        "def sigmoid(x):\n",
        "  return 1 / (1 + np.exp(-x))   #파이썬의 브로드케스트 기능 응용\n",
        "\n",
        "\n",
        "x = np.arange(-5.0, 5.0, 0.1)\n",
        "y = sigmoid(x)\n",
        "plt.title(\"sigmoid\")\n",
        "plt.plot(x, y)\n",
        "plt.ylim(-0.1, 1.1) #y축 범위 지정\n",
        "plt.show()\n",
        "\n",
        "print(\"2차원 백터값 [x1, x2]를 두 영역으로 구분할 수 있다\")"
      ],
      "execution_count": 16,
      "outputs": [
        {
          "output_type": "display_data",
          "data": {
            "image/png": "[encoded data removed]",
            "text/plain": [
              "<matplotlib.figure.Figure at 0x7f351d2c8438>"
            ]
          },
          "metadata": {
            "tags": []
          }
        },
        {
          "output_type": "stream",
          "text": [
            "2차원 백터값 [x1, x2]를 두 영역으로 구분할 수 있다\n"
          ],
          "name": "stdout"
        }
      ]
    },
    {
      "metadata": {
        "id": "xjmjzKceAgKI",
        "colab_type": "text"
      },
      "cell_type": "markdown",
      "source": [
        "###ReLU함수\n",
        "sigmoid함수는 일정구간을 제외하고는 기울기값이 작다\n",
        "따라서 미분값을 이용한 학습방법인 오차역전파법(backward propagation of error)에 부적절하다\n",
        "이를 해결하기 위해 기울기값에 손실이 없는 ReLU함수가 등장하였다."
      ]
    },
    {
      "metadata": {
        "id": "wHu_pAa2-23A",
        "colab_type": "code",
        "colab": {
          "base_uri": "https://localhost:8080/",
          "height": 362
        },
        "outputId": "f83bb8f1-87cc-4289-898f-ce44ecdedf18"
      },
      "cell_type": "code",
      "source": [
        "def relu(x):\n",
        "  return np.maximum(0, x)\n",
        "\n",
        "x = np.arange(-5.0, 5.0, 0.1)\n",
        "y = relu(x)\n",
        "plt.title(\"ReLU\")\n",
        "plt.plot(x, y)\n",
        "plt.ylim(-0.1, 1.1) #y축 범위 지정\n",
        "plt.show()"
      ],
      "execution_count": 18,
      "outputs": [
        {
          "output_type": "display_data",
          "data": {
            "image/png": "[encoded data removed]",
            "text/plain": [
              "<matplotlib.figure.Figure at 0x7f351a925f60>"
            ]
          },
          "metadata": {
            "tags": []
          }
        }
      ]
    },
    {
      "metadata": {
        "id": "KwEo2VXuLusg",
        "colab_type": "text"
      },
      "cell_type": "markdown",
      "source": [
        "###softmax함수\n",
        "softmax함수는 one-hot과 같이 n개의 class로 나눌때 사용한다.\n",
        "x1을 가중치와 편향을 통해 중요도가 반영되도록 수정한 후(a1), \n",
        "이를 softmax함수를 통해 classA에 a1, a2...an의 반영비율을 구할 수 있고,\n",
        "이를 one-hot을 이용해 하나의 값으로 정할 수 있다.\n",
        "또 softmax변환값의 합은 1이여서 확률계산에 적합하다."
      ]
    },
    {
      "metadata": {
        "id": "OChX7H7_NFTb",
        "colab_type": "code",
        "colab": {
          "base_uri": "https://localhost:8080/",
          "height": 52
        },
        "outputId": "7bf75ae5-5e7e-4565-aa42-d0ae4fe22d90"
      },
      "cell_type": "code",
      "source": [
        "#exp(a)값이 너무 커 발생하는 오버플로 문제를 해결하기 위해 변수 c를 사용한다.\n",
        "def softmax(a): #a는 보정이 끝난 값 (a = x*w + b)\n",
        "  c = np.max(a) #입력신호 (a)중 최댓값\n",
        "  exp_a = np.exp(a - c)\n",
        "  sum_exp_as = np.sum(exp_a)\n",
        "  y = exp_a / sum_exp_as\n",
        "  \n",
        "  return y\n",
        "\n",
        "print(\"만약 a가 (n, m)배열이라면 (n, m)배열 반환\")\n",
        "a = np.zeros((2, 3))\n",
        "print(\"입력배열: \", a.shape, \"출력배열: \", softmax(a).shape)"
      ],
      "execution_count": 40,
      "outputs": [
        {
          "output_type": "stream",
          "text": [
            "만약 a가 (n, m)배열이라면 (n, m)배열 반환\n",
            "입력배열:  (2, 3) 출력배열:  (2, 3)\n"
          ],
          "name": "stdout"
        }
      ]
    },
    {
      "metadata": {
        "id": "g-NOlnk6CdiF",
        "colab_type": "text"
      },
      "cell_type": "markdown",
      "source": [
        "###퍼셉트론과 신경망\n",
        "신경망에서는 활성화 함수로 위와같은 비선형함수를 이용한다.\n",
        "퍼셉트론은 활성화함수로 계단함수를 이용하는데 계단함수는 미분이 불가능한 특정지점을 제외하고 미분값이 모두 '0'이다. 따라서 오차역전파법을 이용한 학습이 불가능하기 때문에 가중치나 편향을 직접 계산해야 한다.\n",
        "\n",
        "\n",
        "\n",
        "그러나 ReLU, sigmoid와 같은 함수를 활성화 함수로 이용하면, 미분값이 0이 아니기 때문에 오차역전파법을 통해\n",
        "각 노드가 결과에 얼마만큼의 영향을 미치는지  연쇄법칙을 통해 알 수 있으며, 따라서 각 노드의 δy/δ(node)를 이용해 기계의 자동적인 미지수(가중치, 편향)의 최적화가 가능해지는 것이다. 이를 학습이라 한다"
      ]
    },
    {
      "metadata": {
        "id": "4ok09n-sFAoZ",
        "colab_type": "text"
      },
      "cell_type": "markdown",
      "source": [
        "###행렬과 브로드케스트"
      ]
    },
    {
      "metadata": {
        "id": "fUzMK4aPFDEf",
        "colab_type": "code",
        "colab": {
          "base_uri": "https://localhost:8080/",
          "height": 70
        },
        "outputId": "3a0f0380-83ea-469f-b7be-688e88503fc1"
      },
      "cell_type": "code",
      "source": [
        "A = np.array([[1, 2], [3, 4]])\n",
        "B = np.array([[5, 6], [7, 8]])\n",
        "\n",
        "if A.shape == B.shape:\n",
        "  print(A.shape)\n",
        "  print(np.dot(A, B)) #행렬 곱 A * B"
      ],
      "execution_count": 28,
      "outputs": [
        {
          "output_type": "stream",
          "text": [
            "(2, 2)\n",
            "[[19 22]\n",
            " [43 50]]\n"
          ],
          "name": "stdout"
        }
      ]
    },
    {
      "metadata": {
        "id": "DNSuQ5PZGDw8",
        "colab_type": "code",
        "colab": {
          "base_uri": "https://localhost:8080/",
          "height": 274
        },
        "outputId": "c06ba6b5-4a15-4368-ace8-827f651f8e93"
      },
      "cell_type": "code",
      "source": [
        "A = np.array([[1, 2, 3], [4, 5, 6]])\n",
        "B = np.array([[1, 2], [3, 4], [5, 6]])\n",
        "C = np.array([[1, 2], [3, 4]])\n",
        "             \n",
        "print(A.shape ,\"*\" , B.shape)\n",
        "print(np.dot(A, B))\n",
        "\n",
        "print(A.shape ,\"*\" , C.shape)\n",
        "print(np.dot(A, C))"
      ],
      "execution_count": 37,
      "outputs": [
        {
          "output_type": "stream",
          "text": [
            "(2, 3) * (3, 2)\n",
            "[[22 28]\n",
            " [49 64]]\n",
            "(2, 3) * (2, 2)\n"
          ],
          "name": "stdout"
        },
        {
          "output_type": "error",
          "ename": "ValueError",
          "evalue": "ignored",
          "traceback": [
            "\u001b[0;31m---------------------------------------------------------------------------\u001b[0m",
            "\u001b[0;31mValueError\u001b[0m                                Traceback (most recent call last)",
            "\u001b[0;32m<ipython-input-37-e0128042165d>\u001b[0m in \u001b[0;36m<module>\u001b[0;34m()\u001b[0m\n\u001b[1;32m      7\u001b[0m \u001b[0;34m\u001b[0m\u001b[0m\n\u001b[1;32m      8\u001b[0m \u001b[0mprint\u001b[0m\u001b[0;34m(\u001b[0m\u001b[0mA\u001b[0m\u001b[0;34m.\u001b[0m\u001b[0mshape\u001b[0m \u001b[0;34m,\u001b[0m\u001b[0;34m\"*\"\u001b[0m \u001b[0;34m,\u001b[0m \u001b[0mC\u001b[0m\u001b[0;34m.\u001b[0m\u001b[0mshape\u001b[0m\u001b[0;34m)\u001b[0m\u001b[0;34m\u001b[0m\u001b[0;34m\u001b[0m\u001b[0m\n\u001b[0;32m----> 9\u001b[0;31m \u001b[0mprint\u001b[0m\u001b[0;34m(\u001b[0m\u001b[0mnp\u001b[0m\u001b[0;34m.\u001b[0m\u001b[0mdot\u001b[0m\u001b[0;34m(\u001b[0m\u001b[0mA\u001b[0m\u001b[0;34m,\u001b[0m \u001b[0mC\u001b[0m\u001b[0;34m)\u001b[0m\u001b[0;34m)\u001b[0m\u001b[0;34m\u001b[0m\u001b[0;34m\u001b[0m\u001b[0m\n\u001b[0m",
            "\u001b[0;31mValueError\u001b[0m: shapes (2,3) and (2,2) not aligned: 3 (dim 1) != 2 (dim 0)"
          ]
        }
      ]
    },
    {
      "metadata": {
        "id": "JEg_oUOdJglU",
        "colab_type": "text"
      },
      "cell_type": "markdown",
      "source": [
        "#신경망 구현\n",
        "신경망은 각 node의 입력값이 가중치와 활성함수등을 통해 다음 node의 입력값으로 출력되는 완전이분그래프(complete bipartite graph)이다. 학습과정시에는 30%의 노드를 비활성화 하거나, 노드의 층을 건너 뛰는 등 결과값에 영향을 미치는 노드를 줄여 각노드의 편미분값의 손실을 줄이려한다 \n",
        "\n",
        "<br>\n",
        "이렇게 학습된 신경망 모델은 회귀, 분류에 모두 이용될 수 있다.<br>\n",
        "출력층의 활성함수는<br>\n",
        "회귀(예측)에는 보통 결과값을 그대로 출력하는 항등함수를, <br>\n",
        "분류에는 결과값을 원하는n개의 class로 나눌 수 있는 softmax함수를 이용한다."
      ]
    }
  ]
}